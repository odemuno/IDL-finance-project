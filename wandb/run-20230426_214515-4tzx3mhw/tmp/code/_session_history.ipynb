{
 "cells": [
  {
   "cell_type": "code",
   "execution_count": 1,
   "id": "941e01fd",
   "metadata": {},
   "outputs": [],
   "source": [
    "import pandas as pd\n",
    "import tensorflow as tf\n",
    "from tensorflow.keras.models import Sequential\n",
    "from tensorflow.keras.layers import Dense, LSTM, Dropout\n",
    "import numpy as np\n",
    "import matplotlib.pyplot as plt\n",
    "import wandb"
   ]
  },
  {
   "cell_type": "code",
   "execution_count": 2,
   "id": "1939505a",
   "metadata": {},
   "outputs": [],
   "source": [
    "import pandas as pd\n",
    "import tensorflow as tf\n",
    "from tensorflow.keras.models import Sequential\n",
    "from tensorflow.keras.layers import Dense, LSTM, Dropout\n",
    "import numpy as np\n",
    "import matplotlib.pyplot as plt\n",
    "import wandb"
   ]
  },
  {
   "cell_type": "code",
   "execution_count": 3,
   "id": "0de375c1",
   "metadata": {},
   "outputs": [],
   "source": [
    "import pandas as pd\n",
    "import tensorflow as tf\n",
    "from tensorflow.keras.models import Sequential\n",
    "from tensorflow.keras.layers import Dense, LSTM, Dropout\n",
    "import numpy as np\n",
    "import matplotlib.pyplot as plt\n",
    "import wandb"
   ]
  },
  {
   "cell_type": "code",
   "execution_count": 4,
   "id": "b2febc3a",
   "metadata": {},
   "outputs": [],
   "source": [
    "import pandas as pd\n",
    "import tensorflow as tf\n",
    "from tensorflow.keras.models import Sequential\n",
    "from tensorflow.keras.layers import Dense, LSTM, Dropout\n",
    "import numpy as np\n",
    "import matplotlib.pyplot as plt"
   ]
  },
  {
   "cell_type": "code",
   "execution_count": 5,
   "id": "b6815212",
   "metadata": {},
   "outputs": [],
   "source": [
    "import wandb\n",
    "wandb.login(key=\"4d264354a256827a6fb3f5fc1957ba0e0c4b1830\")"
   ]
  },
  {
   "cell_type": "code",
   "execution_count": 6,
   "id": "b9bfdbec",
   "metadata": {},
   "outputs": [],
   "source": [
    "!pip install wandb --quiet"
   ]
  },
  {
   "cell_type": "code",
   "execution_count": 7,
   "id": "ab81c7cf",
   "metadata": {},
   "outputs": [
    {
     "name": "stdout",
     "output_type": "stream",
     "text": [
      "True"
     ]
    }
   ],
   "source": [
    "import wandb\n",
    "wandb.login(key=\"4d264354a256827a6fb3f5fc1957ba0e0c4b1830\")"
   ]
  },
  {
   "cell_type": "code",
   "execution_count": 8,
   "id": "aa114c11",
   "metadata": {},
   "outputs": [],
   "source": [
    "run = wandb.init(\n",
    "    name = \"ltsm-baseline-moulya\", ## Wandb creates random run names if you skip this field\n",
    "    #reinit = True, ### Allows reinitalizing runs when you re-run this cell\n",
    "    # id = \"1y35a1ce\" ,### Insert specific run id here if you want to resume a previous run\n",
    "    # resume = \"must\", ### You need this to resume previous runs, but comment out reinit = True when using this\n",
    "    project = \"idl-finance\" ### Project should be created in your wandb account \n",
    "    # config = config ### Wandb Config for your run\n",
    ")"
   ]
  },
  {
   "cell_type": "code",
   "execution_count": 9,
   "id": "86c0ffb5",
   "metadata": {},
   "outputs": [],
   "source": [
    "from wandb.keras import WandbCallback\n",
    "model.fit(X_train, y_train, epochs=200, batch_size=32, validation_data=(X_test, y_test),callbacks=[WandbCallback(monitor='val_loss', save_model=True)])"
   ]
  },
  {
   "cell_type": "code",
   "execution_count": 10,
   "id": "3dacd033",
   "metadata": {},
   "outputs": [
    {
     "name": "stdout",
     "output_type": "stream",
     "text": [
      "         Date  sentiment  PriceDiff\n",
      "0  2016-01-05   0.400000  -0.459333\n",
      "1  2016-01-06   0.200000  -0.971214\n",
      "2  2016-01-07   0.111111   0.116552\n",
      "3  2016-01-08   0.400000   0.358770\n",
      "4  2016-01-11   0.400000   0.326792"
     ]
    }
   ],
   "source": [
    "stock_prediction_df = pd.read_csv('Code/baseline-implementation/stock_prediction.csv')\n",
    "stock_prediction_df.drop(columns=['Unnamed: 0'],inplace=True)\n",
    "stock_prediction_df.head()"
   ]
  },
  {
   "cell_type": "code",
   "execution_count": 11,
   "id": "32fc7651",
   "metadata": {},
   "outputs": [
    {
     "name": "stdout",
     "output_type": "stream",
     "text": [
      "          Date  sentiment  PriceDiff  PriceDiff_1  PriceDiff_2  PriceDiff_3  \\\n",
      "7   2016-01-14       0.20  -0.546173     0.486757    -0.587307     0.326792   \n",
      "8   2016-01-15       0.75  -0.107401    -0.546173     0.486757    -0.587307   \n",
      "9   2016-01-19       0.50   0.029711    -0.107401    -0.546173     0.486757   \n",
      "10  2016-01-20       0.80  -0.111979     0.029711    -0.107401    -0.546173   \n",
      "11  2016-01-21       0.20   1.170031    -0.111979     0.029711    -0.107401   \n",
      "\n",
      "    PriceDiff_4  PriceDiff_5  PriceDiff_6  PriceDiff_7  \n",
      "7      0.358770     0.116552    -0.971214    -0.459333  \n",
      "8      0.326792     0.358770     0.116552    -0.971214  \n",
      "9     -0.587307     0.326792     0.358770     0.116552  \n",
      "10     0.486757    -0.587307     0.326792     0.358770  \n",
      "11    -0.546173     0.486757    -0.587307     0.326792  "
     ]
    }
   ],
   "source": [
    "# Create lagged features for the price_diff values\n",
    "for i in range(1, 8):\n",
    "    stock_prediction_df[f'PriceDiff_{i}'] = stock_prediction_df['PriceDiff'].shift(i)\n",
    "\n",
    "# Remove missing values\n",
    "stock_prediction_df.dropna(inplace=True)\n",
    "stock_prediction_df.head()"
   ]
  },
  {
   "cell_type": "code",
   "execution_count": 12,
   "id": "0e07312c",
   "metadata": {},
   "outputs": [],
   "source": [
    "stock_X = stock_prediction_df[['sentiment', 'PriceDiff_1', 'PriceDiff_2', 'PriceDiff_3', 'PriceDiff_4', 'PriceDiff_5', 'PriceDiff_6', 'PriceDiff_7']]\n",
    "stock_Y = stock_prediction_df.PriceDiff\n",
    "X_train = stock_X.loc[:\"2016-08-31\"]\n",
    "y_train = stock_Y.loc[:\"2016-08-31\"]\n",
    "X_test = stock_X.loc[\"2016-09-01\":]\n",
    "y_test = stock_Y.loc[\"2016-09-01\":]"
   ]
  },
  {
   "cell_type": "code",
   "execution_count": 13,
   "id": "46fe1e17",
   "metadata": {},
   "outputs": [],
   "source": [
    "# Build the model\n",
    "model = Sequential()\n",
    "model.add(LSTM(units=50, return_sequences=True, input_shape=(X_train.shape[1], 1)))\n",
    "model.add(Dropout(0.1))\n",
    "model.add(LSTM(units=50, return_sequences=True))\n",
    "model.add(Dropout(0.1))\n",
    "model.add(LSTM(units=50))\n",
    "model.add(Dropout(0.1))\n",
    "model.add(Dense(units=1))\n",
    "model.summary()"
   ]
  },
  {
   "cell_type": "code",
   "execution_count": 14,
   "id": "219fb2f4",
   "metadata": {},
   "outputs": [],
   "source": [
    "# Compile the model\n",
    "model.compile(optimizer='adam', loss='mean_squared_error')"
   ]
  },
  {
   "cell_type": "code",
   "execution_count": 15,
   "id": "568488f5",
   "metadata": {},
   "outputs": [
    {
     "name": "stdout",
     "output_type": "stream",
     "text": [
      "<keras.callbacks.History at 0x7fc891f898b0>"
     ]
    }
   ],
   "source": [
    "from wandb.keras import WandbCallback\n",
    "model.fit(X_train, y_train, epochs=200, batch_size=32, validation_data=(X_test, y_test),callbacks=[WandbCallback(monitor='val_loss', save_model=True)])"
   ]
  },
  {
   "cell_type": "code",
   "execution_count": 16,
   "id": "af9f7552",
   "metadata": {},
   "outputs": [],
   "source": [
    "predictions_train = model.predict(X_train)\n",
    "predictions_test = model.predict(X_test)\n",
    "predicted_price_diff = np.concatenate((predictions_train,predictions_test),axis=0)"
   ]
  },
  {
   "cell_type": "code",
   "execution_count": 17,
   "id": "f13a5d17",
   "metadata": {},
   "outputs": [
    {
     "name": "stdout",
     "output_type": "stream",
     "text": [
      "          Date  sentiment  PriceDiff  PriceDiff_1  PriceDiff_2  PriceDiff_3  \\\n",
      "7   2016-01-14       0.20  -0.546173     0.486757    -0.587307     0.326792   \n",
      "8   2016-01-15       0.75  -0.107401    -0.546173     0.486757    -0.587307   \n",
      "9   2016-01-19       0.50   0.029711    -0.107401    -0.546173     0.486757   \n",
      "10  2016-01-20       0.80  -0.111979     0.029711    -0.107401    -0.546173   \n",
      "11  2016-01-21       0.20   1.170031    -0.111979     0.029711    -0.107401   \n",
      "\n",
      "    PriceDiff_4  PriceDiff_5  PriceDiff_6  PriceDiff_7  Predicted Price Diff  \n",
      "7      0.358770     0.116552    -0.971214    -0.459333             -0.265381  \n",
      "8      0.326792     0.358770     0.116552    -0.971214             -0.274767  \n",
      "9     -0.587307     0.326792     0.358770     0.116552              0.056106  \n",
      "10     0.486757    -0.587307     0.326792     0.358770              0.058799  \n",
      "11    -0.546173     0.486757    -0.587307     0.326792              0.112918  "
     ]
    }
   ],
   "source": [
    "stock_prediction_df['Predicted Price Diff'] = predicted_price_diff\n",
    "stock_prediction_df.head()"
   ]
  },
  {
   "cell_type": "code",
   "execution_count": 18,
   "id": "883061ad",
   "metadata": {},
   "outputs": [
    {
     "name": "stdout",
     "output_type": "stream",
     "text": [
      "<AxesSubplot: >"
     ]
    }
   ],
   "source": [
    "fig, ax = plt.subplots(figsize=(10, 6))\n",
    "stock_prediction_df.plot(y='PriceDiff',color='green',ax=ax)\n",
    "stock_prediction_df.loc['2016-08-01':, 'Predicted Price Diff'].plot(ax=ax, color='red', label='Predicted Price Diff')\n",
    "# stock_prediction_df.plot(y='Predicted Price Diff',color='red',ax=ax)"
   ]
  },
  {
   "cell_type": "code",
   "execution_count": 19,
   "id": "ecb26a01",
   "metadata": {},
   "outputs": [],
   "source": [
    "run = wandb.init(\n",
    "    name = \"ltsm-baseline-moulya-1000 epochs\", ## Wandb creates random run names if you skip this field\n",
    "    #reinit = True, ### Allows reinitalizing runs when you re-run this cell\n",
    "    # id = \"1y35a1ce\" ,### Insert specific run id here if you want to resume a previous run\n",
    "    # resume = \"must\", ### You need this to resume previous runs, but comment out reinit = True when using this\n",
    "    project = \"idl-finance\" ### Project should be created in your wandb account \n",
    "    # config = config ### Wandb Config for your run\n",
    ")"
   ]
  },
  {
   "cell_type": "code",
   "execution_count": 20,
   "id": "209c1bc6",
   "metadata": {},
   "outputs": [
    {
     "name": "stdout",
     "output_type": "stream",
     "text": [
      "<keras.callbacks.History at 0x7fc8201ae9a0>"
     ]
    }
   ],
   "source": [
    "from wandb.keras import WandbCallback\n",
    "model.fit(X_train, y_train, epochs=1000, batch_size=32, validation_data=(X_test, y_test),callbacks=[WandbCallback(monitor='val_loss', save_model=True)])"
   ]
  },
  {
   "cell_type": "code",
   "execution_count": 21,
   "id": "5c8eb4e2",
   "metadata": {},
   "outputs": [],
   "source": [
    "predictions_train = model.predict(X_train)\n",
    "predictions_test = model.predict(X_test)\n",
    "predicted_price_diff = np.concatenate((predictions_train,predictions_test),axis=0)"
   ]
  },
  {
   "cell_type": "code",
   "execution_count": 22,
   "id": "e0da53b4",
   "metadata": {},
   "outputs": [
    {
     "name": "stdout",
     "output_type": "stream",
     "text": [
      "          Date  sentiment  PriceDiff  PriceDiff_1  PriceDiff_2  PriceDiff_3  \\\n",
      "7   2016-01-14       0.20  -0.546173     0.486757    -0.587307     0.326792   \n",
      "8   2016-01-15       0.75  -0.107401    -0.546173     0.486757    -0.587307   \n",
      "9   2016-01-19       0.50   0.029711    -0.107401    -0.546173     0.486757   \n",
      "10  2016-01-20       0.80  -0.111979     0.029711    -0.107401    -0.546173   \n",
      "11  2016-01-21       0.20   1.170031    -0.111979     0.029711    -0.107401   \n",
      "\n",
      "    PriceDiff_4  PriceDiff_5  PriceDiff_6  PriceDiff_7  Predicted Price Diff  \n",
      "7      0.358770     0.116552    -0.971214    -0.459333             -0.519101  \n",
      "8      0.326792     0.358770     0.116552    -0.971214             -0.103464  \n",
      "9     -0.587307     0.326792     0.358770     0.116552              0.020325  \n",
      "10     0.486757    -0.587307     0.326792     0.358770             -0.119176  \n",
      "11    -0.546173     0.486757    -0.587307     0.326792              1.148149  "
     ]
    }
   ],
   "source": [
    "stock_prediction_df['Predicted Price Diff'] = predicted_price_diff\n",
    "stock_prediction_df.head()"
   ]
  },
  {
   "cell_type": "code",
   "execution_count": 23,
   "id": "b2283aec",
   "metadata": {},
   "outputs": [
    {
     "name": "stdout",
     "output_type": "stream",
     "text": [
      "<AxesSubplot: >"
     ]
    }
   ],
   "source": [
    "fig, ax = plt.subplots(figsize=(10, 6))\n",
    "stock_prediction_df.plot(y='PriceDiff',color='green',ax=ax)\n",
    "stock_prediction_df.loc['2016-08-01':, 'Predicted Price Diff'].plot(ax=ax, color='red', label='Predicted Price Diff')\n",
    "# stock_prediction_df.plot(y='Predicted Price Diff',color='red',ax=ax)"
   ]
  },
  {
   "cell_type": "code",
   "execution_count": 24,
   "id": "cc94d007",
   "metadata": {},
   "outputs": [],
   "source": [
    "model = Sequential()\n",
    "model.add(Bidirectional(LSTM(units=64, return_sequences=True, input_shape=(X_train.shape[1], 1))))\n",
    "model.add(Dropout(0.2))\n",
    "model.add(Bidirectional(LSTM(units=64, return_sequences=True)))\n",
    "model.add(Dropout(0.2))\n",
    "model.add(Bidirectional(LSTM(units=64)))\n",
    "model.add(Dropout(0.2))\n",
    "model.add(Dense(units=1))\n",
    "model.summary()"
   ]
  },
  {
   "cell_type": "code",
   "execution_count": 25,
   "id": "787110ff",
   "metadata": {},
   "outputs": [],
   "source": [
    "import pandas as pd\n",
    "import tensorflow as tf\n",
    "from tensorflow.keras.models import Sequential\n",
    "from tensorflow.keras.layers import Dense, LSTM, Dropout, Bidirectional\n",
    "import numpy as np\n",
    "import matplotlib.pyplot as plt"
   ]
  },
  {
   "cell_type": "code",
   "execution_count": 26,
   "id": "599e6f4e",
   "metadata": {},
   "outputs": [],
   "source": [
    "model = Sequential()\n",
    "model.add(Bidirectional(LSTM(units=64, return_sequences=True, input_shape=(X_train.shape[1], 1))))\n",
    "model.add(Dropout(0.2))\n",
    "model.add(Bidirectional(LSTM(units=64, return_sequences=True)))\n",
    "model.add(Dropout(0.2))\n",
    "model.add(Bidirectional(LSTM(units=64)))\n",
    "model.add(Dropout(0.2))\n",
    "model.add(Dense(units=1))\n",
    "model.summary()"
   ]
  },
  {
   "cell_type": "code",
   "execution_count": 27,
   "id": "06273e48",
   "metadata": {},
   "outputs": [
    {
     "name": "stdout",
     "output_type": "stream",
     "text": [
      "         Date  sentiment  PriceDiff\n",
      "0  2016-01-05   0.400000  -0.459333\n",
      "1  2016-01-06   0.200000  -0.971214\n",
      "2  2016-01-07   0.111111   0.116552\n",
      "3  2016-01-08   0.400000   0.358770\n",
      "4  2016-01-11   0.400000   0.326792"
     ]
    }
   ],
   "source": [
    "stock_prediction_df = pd.read_csv('Code/baseline-implementation/stock_prediction.csv')\n",
    "stock_prediction_df.drop(columns=['Unnamed: 0'],inplace=True)\n",
    "stock_prediction_df.head()"
   ]
  },
  {
   "cell_type": "code",
   "execution_count": 28,
   "id": "a0c705cc",
   "metadata": {},
   "outputs": [],
   "source": [
    "import pandas as pd\n",
    "import tensorflow as tf\n",
    "from tensorflow.keras.models import Sequential\n",
    "from tensorflow.keras.layers import Dense, LSTM, Dropout, Bidirectional\n",
    "import numpy as np\n",
    "import matplotlib.pyplot as plt"
   ]
  },
  {
   "cell_type": "code",
   "execution_count": 29,
   "id": "d85d6501",
   "metadata": {},
   "outputs": [],
   "source": [
    "!pip install wandb --quiet"
   ]
  },
  {
   "cell_type": "code",
   "execution_count": 30,
   "id": "ba142431",
   "metadata": {},
   "outputs": [
    {
     "name": "stdout",
     "output_type": "stream",
     "text": [
      "True"
     ]
    }
   ],
   "source": [
    "import wandb\n",
    "wandb.login(key=\"4d264354a256827a6fb3f5fc1957ba0e0c4b1830\")"
   ]
  },
  {
   "cell_type": "code",
   "execution_count": 31,
   "id": "3dd153f0",
   "metadata": {},
   "outputs": [
    {
     "name": "stdout",
     "output_type": "stream",
     "text": [
      "         Date  sentiment  PriceDiff\n",
      "0  2016-01-05   0.400000  -0.459333\n",
      "1  2016-01-06   0.200000  -0.971214\n",
      "2  2016-01-07   0.111111   0.116552\n",
      "3  2016-01-08   0.400000   0.358770\n",
      "4  2016-01-11   0.400000   0.326792"
     ]
    }
   ],
   "source": [
    "stock_prediction_df = pd.read_csv('Code/baseline-implementation/stock_prediction.csv')\n",
    "stock_prediction_df.drop(columns=['Unnamed: 0'],inplace=True)\n",
    "stock_prediction_df.head()"
   ]
  },
  {
   "cell_type": "code",
   "execution_count": 32,
   "id": "696ef5a1",
   "metadata": {},
   "outputs": [
    {
     "name": "stdout",
     "output_type": "stream",
     "text": [
      "          Date  sentiment  PriceDiff  PriceDiff_1  PriceDiff_2  PriceDiff_3  \\\n",
      "7   2016-01-14       0.20  -0.546173     0.486757    -0.587307     0.326792   \n",
      "8   2016-01-15       0.75  -0.107401    -0.546173     0.486757    -0.587307   \n",
      "9   2016-01-19       0.50   0.029711    -0.107401    -0.546173     0.486757   \n",
      "10  2016-01-20       0.80  -0.111979     0.029711    -0.107401    -0.546173   \n",
      "11  2016-01-21       0.20   1.170031    -0.111979     0.029711    -0.107401   \n",
      "\n",
      "    PriceDiff_4  PriceDiff_5  PriceDiff_6  PriceDiff_7  \n",
      "7      0.358770     0.116552    -0.971214    -0.459333  \n",
      "8      0.326792     0.358770     0.116552    -0.971214  \n",
      "9     -0.587307     0.326792     0.358770     0.116552  \n",
      "10     0.486757    -0.587307     0.326792     0.358770  \n",
      "11    -0.546173     0.486757    -0.587307     0.326792  "
     ]
    }
   ],
   "source": [
    "# Create lagged features for the price_diff values\n",
    "for i in range(1, 8):\n",
    "    stock_prediction_df[f'PriceDiff_{i}'] = stock_prediction_df['PriceDiff'].shift(i)\n",
    "\n",
    "# Remove missing values\n",
    "stock_prediction_df.dropna(inplace=True)\n",
    "stock_prediction_df.head()"
   ]
  },
  {
   "cell_type": "code",
   "execution_count": 33,
   "id": "6faa381b",
   "metadata": {},
   "outputs": [],
   "source": [
    "stock_X = stock_prediction_df[['sentiment', 'PriceDiff_1', 'PriceDiff_2', 'PriceDiff_3', 'PriceDiff_4', 'PriceDiff_5', 'PriceDiff_6', 'PriceDiff_7']]\n",
    "stock_Y = stock_prediction_df.PriceDiff\n",
    "X_train = stock_X.loc[:\"2016-08-31\"]\n",
    "y_train = stock_Y.loc[:\"2016-08-31\"]\n",
    "X_test = stock_X.loc[\"2016-09-01\":]\n",
    "y_test = stock_Y.loc[\"2016-09-01\":]"
   ]
  },
  {
   "cell_type": "code",
   "execution_count": 34,
   "id": "ca91cdff",
   "metadata": {},
   "outputs": [],
   "source": [
    "# Build the model\n",
    "model = Sequential()\n",
    "model.add(LSTM(units=50, return_sequences=True, input_shape=(X_train.shape[1], 1)))\n",
    "model.add(Dropout(0.1))\n",
    "model.add(LSTM(units=50, return_sequences=True))\n",
    "model.add(Dropout(0.1))\n",
    "model.add(LSTM(units=50))\n",
    "model.add(Dropout(0.1))\n",
    "model.add(Dense(units=1))\n",
    "model.summary()"
   ]
  },
  {
   "cell_type": "code",
   "execution_count": 35,
   "id": "6a8328b9",
   "metadata": {},
   "outputs": [],
   "source": [
    "model = Sequential()\n",
    "model.add(Bidirectional(LSTM(units=64, return_sequences=True, input_shape=(X_train.shape[1], 1))))\n",
    "model.add(Dropout(0.2))\n",
    "model.add(Bidirectional(LSTM(units=64, return_sequences=True)))\n",
    "model.add(Dropout(0.2))\n",
    "model.add(Bidirectional(LSTM(units=64)))\n",
    "model.add(Dropout(0.2))\n",
    "model.add(Dense(units=1))\n",
    "model.summary()"
   ]
  },
  {
   "cell_type": "code",
   "execution_count": 36,
   "id": "e0edce80",
   "metadata": {},
   "outputs": [],
   "source": [
    "model = Sequential()\n",
    "model.add(Bidirectional(LSTM(units=64, return_sequences=True, input_shape=(X_train.shape[1], 1))))\n",
    "model.add(Dropout(0.2))\n",
    "model.add(Bidirectional(LSTM(units=64, return_sequences=True)))\n",
    "model.add(Dropout(0.2))\n",
    "model.add(Bidirectional(LSTM(units=64)))\n",
    "model.add(Dropout(0.2))\n",
    "model.add(Dense(units=1))\n",
    "# model.summary()"
   ]
  },
  {
   "cell_type": "code",
   "execution_count": 37,
   "id": "2ed829d0",
   "metadata": {},
   "outputs": [],
   "source": [
    "# Compile the model\n",
    "model.compile(optimizer='adam', loss='mean_squared_error')"
   ]
  },
  {
   "cell_type": "code",
   "execution_count": 38,
   "id": "9fb75790",
   "metadata": {},
   "outputs": [
    {
     "data": {
      "text/html": [
       "Finishing last run (ID:v1koz91o) before initializing another..."
      ],
      "text/plain": [
       "<IPython.core.display.HTML object>"
      ]
     },
     "metadata": {},
     "output_type": "display_data"
    },
    {
     "data": {
      "text/html": [
       "Waiting for W&B process to finish... <strong style=\"color:green\">(success).</strong>"
      ],
      "text/plain": [
       "<IPython.core.display.HTML object>"
      ]
     },
     "metadata": {},
     "output_type": "display_data"
    },
    {
     "data": {
      "application/vnd.jupyter.widget-view+json": {
       "model_id": "69cce7fdd20c480f92fdd8b9a40bef4d",
       "version_major": 2,
       "version_minor": 0
      },
      "text/plain": [
       "VBox(children=(Label(value='27.336 MB of 27.386 MB uploaded (0.174 MB deduped)\\r'), FloatProgress(value=0.9981…"
      ]
     },
     "metadata": {},
     "output_type": "display_data"
    },
    {
     "data": {
      "text/html": [
       "<style>\n",
       "    table.wandb td:nth-child(1) { padding: 0 10px; text-align: left ; width: auto;} td:nth-child(2) {text-align: left ; width: 100%}\n",
       "    .wandb-row { display: flex; flex-direction: row; flex-wrap: wrap; justify-content: flex-start; width: 100% }\n",
       "    .wandb-col { display: flex; flex-direction: column; flex-basis: 100%; flex: 1; padding: 10px; }\n",
       "    </style>\n",
       "<div class=\"wandb-row\"><div class=\"wandb-col\"><h3>Run history:</h3><br/><table class=\"wandb\"><tr><td>epoch</td><td>▁▁▁▂▂▂▂▂▂▃▃▃▃▃▄▄▄▄▄▄▅▅▅▅▅▅▆▆▆▆▆▇▇▇▇▇▇███</td></tr><tr><td>loss</td><td>█▇▇▇▆▅▅▄▄▃▄▂▂▂▂▂▂▂▂▂▁▁▁▁▁▁▁▁▁▁▁▁▂▁▁▁▁▁▁▁</td></tr><tr><td>val_loss</td><td>▁▁▁▁▁▂▃▃▅▇▄▆█▅▆▆▇▇▇▆▅▆▆▅▇▆▇▆▆▅▆▆▄▅▅▄▄▅▄▅</td></tr></table><br/></div><div class=\"wandb-col\"><h3>Run summary:</h3><br/><table class=\"wandb\"><tr><td>best_epoch</td><td>108</td></tr><tr><td>best_val_loss</td><td>0.07667</td></tr><tr><td>epoch</td><td>999</td></tr><tr><td>loss</td><td>0.00336</td></tr><tr><td>val_loss</td><td>0.11711</td></tr></table><br/></div></div>"
      ],
      "text/plain": [
       "<IPython.core.display.HTML object>"
      ]
     },
     "metadata": {},
     "output_type": "display_data"
    },
    {
     "data": {
      "text/html": [
       " View run <strong style=\"color:#cdcd00\">ltsm-baseline-moulya-1000 epochs</strong> at: <a href='https://wandb.ai/introdl/idl-finance/runs/v1koz91o' target=\"_blank\">https://wandb.ai/introdl/idl-finance/runs/v1koz91o</a><br/>Synced 7 W&B file(s), 1 media file(s), 40 artifact file(s) and 1 other file(s)"
      ],
      "text/plain": [
       "<IPython.core.display.HTML object>"
      ]
     },
     "metadata": {},
     "output_type": "display_data"
    },
    {
     "data": {
      "text/html": [
       "Find logs at: <code>./wandb/run-20230426_213414-v1koz91o/logs</code>"
      ],
      "text/plain": [
       "<IPython.core.display.HTML object>"
      ]
     },
     "metadata": {},
     "output_type": "display_data"
    },
    {
     "data": {
      "text/html": [
       "Successfully finished last run (ID:v1koz91o). Initializing new run:<br/>"
      ],
      "text/plain": [
       "<IPython.core.display.HTML object>"
      ]
     },
     "metadata": {},
     "output_type": "display_data"
    },
    {
     "data": {
      "text/html": [
       "Tracking run with wandb version 0.15.0"
      ],
      "text/plain": [
       "<IPython.core.display.HTML object>"
      ]
     },
     "metadata": {},
     "output_type": "display_data"
    },
    {
     "data": {
      "text/html": [
       "Run data is saved locally in <code>/Users/Dell/Documents/GitHub/IDL-finance-project/wandb/run-20230426_214515-4tzx3mhw</code>"
      ],
      "text/plain": [
       "<IPython.core.display.HTML object>"
      ]
     },
     "metadata": {},
     "output_type": "display_data"
    },
    {
     "data": {
      "text/html": [
       "Syncing run <strong><a href='https://wandb.ai/introdl/idl-finance/runs/4tzx3mhw' target=\"_blank\">bi-ltsm-baseline-moulya-1000 epochs</a></strong> to <a href='https://wandb.ai/introdl/idl-finance' target=\"_blank\">Weights & Biases</a> (<a href='https://wandb.me/run' target=\"_blank\">docs</a>)<br/>"
      ],
      "text/plain": [
       "<IPython.core.display.HTML object>"
      ]
     },
     "metadata": {},
     "output_type": "display_data"
    },
    {
     "data": {
      "text/html": [
       " View project at <a href='https://wandb.ai/introdl/idl-finance' target=\"_blank\">https://wandb.ai/introdl/idl-finance</a>"
      ],
      "text/plain": [
       "<IPython.core.display.HTML object>"
      ]
     },
     "metadata": {},
     "output_type": "display_data"
    },
    {
     "data": {
      "text/html": [
       " View run at <a href='https://wandb.ai/introdl/idl-finance/runs/4tzx3mhw' target=\"_blank\">https://wandb.ai/introdl/idl-finance/runs/4tzx3mhw</a>"
      ],
      "text/plain": [
       "<IPython.core.display.HTML object>"
      ]
     },
     "metadata": {},
     "output_type": "display_data"
    }
   ],
   "source": [
    "run = wandb.init(\n",
    "    name = \"bi-ltsm-baseline-moulya-1000 epochs\", ## Wandb creates random run names if you skip this field\n",
    "    #reinit = True, ### Allows reinitalizing runs when you re-run this cell\n",
    "    # id = \"1y35a1ce\" ,### Insert specific run id here if you want to resume a previous run\n",
    "    # resume = \"must\", ### You need this to resume previous runs, but comment out reinit = True when using this\n",
    "    project = \"idl-finance\" ### Project should be created in your wandb account \n",
    "    # config = config ### Wandb Config for your run\n",
    ")"
   ]
  },
  {
   "cell_type": "code",
   "execution_count": 39,
   "id": "09dbbcf7",
   "metadata": {},
   "outputs": [],
   "source": [
    "from wandb.keras import WandbCallback\n",
    "model.fit(X_train, y_train, epochs=1000, batch_size=32, validation_data=(X_test, y_test),callbacks=[WandbCallback(monitor='val_loss', save_model=True)])"
   ]
  },
  {
   "cell_type": "code",
   "execution_count": 40,
   "id": "1a0466bd",
   "metadata": {},
   "outputs": [],
   "source": [
    "import pandas as pd\n",
    "import tensorflow as tf\n",
    "from tensorflow.keras.models import Sequential\n",
    "from tensorflow.keras.layers import Dense, LSTM, Dropout, Bidirectional\n",
    "import numpy as np\n",
    "import matplotlib.pyplot as plt"
   ]
  },
  {
   "cell_type": "code",
   "execution_count": 41,
   "id": "a778fc73",
   "metadata": {},
   "outputs": [],
   "source": [
    "!pip install wandb --quiet"
   ]
  },
  {
   "cell_type": "code",
   "execution_count": 42,
   "id": "66771864",
   "metadata": {},
   "outputs": [
    {
     "name": "stdout",
     "output_type": "stream",
     "text": [
      "True"
     ]
    }
   ],
   "source": [
    "import wandb\n",
    "wandb.login(key=\"4d264354a256827a6fb3f5fc1957ba0e0c4b1830\")"
   ]
  },
  {
   "cell_type": "code",
   "execution_count": 43,
   "id": "ae0d5d00",
   "metadata": {},
   "outputs": [],
   "source": [
    "!pwd"
   ]
  },
  {
   "cell_type": "code",
   "execution_count": 44,
   "id": "9b647ff3",
   "metadata": {},
   "outputs": [
    {
     "name": "stdout",
     "output_type": "stream",
     "text": [
      "         Date  sentiment_score     Close\n",
      "0  2020-01-06           0.9001  1.580002\n",
      "1  2020-01-07           0.2787  0.650002\n",
      "2  2020-01-08           0.0000  0.070000\n",
      "3  2020-01-15           0.0000 -0.830002\n",
      "4  2020-01-21           0.3400 -1.190002"
     ]
    }
   ],
   "source": [
    "zoom_train_df = pd.read_csv('Code/train-model/data/zoom/zoom-train-date-sentiment-pricediff.csv')\n",
    "zoom_train_df.head()"
   ]
  },
  {
   "cell_type": "code",
   "execution_count": 45,
   "id": "301b3d24",
   "metadata": {},
   "outputs": [
    {
     "name": "stdout",
     "output_type": "stream",
     "text": [
      "         Date  sentiment_score     Close\n",
      "0  2020-01-06           0.9001  1.580002\n",
      "1  2020-01-07           0.2787  0.650002\n",
      "2  2020-01-08           0.0000  0.070000\n",
      "3  2020-01-15           0.0000 -0.830002\n",
      "4  2020-01-21           0.3400 -1.190002"
     ]
    }
   ],
   "source": [
    "zoom_train_df = pd.read_csv('Code/train-model/data/zoom/zoom-train-date-sentiment-pricediff.csv')\n",
    "zoom_train_df.head()"
   ]
  },
  {
   "cell_type": "code",
   "execution_count": 46,
   "id": "cd38a8c9",
   "metadata": {},
   "outputs": [
    {
     "name": "stdout",
     "output_type": "stream",
     "text": [
      "         Date  sentiment_score     Close\n",
      "0  2020-01-02          -0.0516 -1.440002\n",
      "1  2020-01-03           0.0057  3.040001\n",
      "2  2020-01-06           0.0000  1.580002\n",
      "3  2020-01-07           0.4404  0.650002\n",
      "4  2020-01-08           0.2537  0.070000"
     ]
    }
   ],
   "source": [
    "zoom_test_df = pd.read_csv('Code/train-model/data/zoom/zoom-tweets-test-date-sentiment-pricediff.csv')\n",
    "zoom_test_df.head()"
   ]
  },
  {
   "cell_type": "code",
   "execution_count": 47,
   "id": "ab3875ca",
   "metadata": {},
   "outputs": [
    {
     "name": "stdout",
     "output_type": "stream",
     "text": [
      "          Date  sentiment_score      Close  PriceDiff_1  PriceDiff_2  \\\n",
      "7   2020-01-31          0.52670  11.360001     1.760002     2.070000   \n",
      "8   2020-02-03          0.31105  -1.870003    11.360001     1.760002   \n",
      "9   2020-02-10          0.00000  -0.989998    -1.870003    11.360001   \n",
      "10  2020-02-28          0.00000   8.110001    -0.989998    -1.870003   \n",
      "11  2020-03-02          0.00000   4.360001     8.110001    -0.989998   \n",
      "\n",
      "    PriceDiff_3  PriceDiff_4  PriceDiff_5  PriceDiff_6  PriceDiff_7  \n",
      "7     -1.190002    -0.830002     0.070000     0.650002     1.580002  \n",
      "8      2.070000    -1.190002    -0.830002     0.070000     0.650002  \n",
      "9      1.760002     2.070000    -1.190002    -0.830002     0.070000  \n",
      "10    11.360001     1.760002     2.070000    -1.190002    -0.830002  \n",
      "11    -1.870003    11.360001     1.760002     2.070000    -1.190002  "
     ]
    }
   ],
   "source": [
    "# Create lagged features for the price_diff values\n",
    "for i in range(1, 8):\n",
    "    zoom_train_df[f'PriceDiff_{i}'] = zoom_train_df['Close'].shift(i)\n",
    "\n",
    "# Remove missing values\n",
    "zoom_train_df.dropna(inplace=True)\n",
    "zoom_train_df.head()"
   ]
  },
  {
   "cell_type": "code",
   "execution_count": 48,
   "id": "ae4a4f97",
   "metadata": {},
   "outputs": [
    {
     "name": "stdout",
     "output_type": "stream",
     "text": [
      "          Date  sentiment_score     Close  PriceDiff_1  PriceDiff_2  \\\n",
      "7   2020-01-13         0.028800 -0.869995     0.940002     0.469994   \n",
      "8   2020-01-14        -0.002720  3.779999    -0.869995     0.940002   \n",
      "9   2020-01-15         0.051825 -0.830002     3.779999    -0.869995   \n",
      "10  2020-01-16         0.466225 -0.550003    -0.830002     3.779999   \n",
      "11  2020-01-17         0.128560  1.170006    -0.550003    -0.830002   \n",
      "\n",
      "    PriceDiff_3  PriceDiff_4  PriceDiff_5  PriceDiff_6  PriceDiff_7  \n",
      "7      0.070000     0.650002     1.580002     3.040001    -1.440002  \n",
      "8      0.469994     0.070000     0.650002     1.580002     3.040001  \n",
      "9      0.940002     0.469994     0.070000     0.650002     1.580002  \n",
      "10    -0.869995     0.940002     0.469994     0.070000     0.650002  \n",
      "11     3.779999    -0.869995     0.940002     0.469994     0.070000  "
     ]
    }
   ],
   "source": [
    "# Create lagged features for the price_diff values\n",
    "for i in range(1, 8):\n",
    "    zoom_test_df[f'PriceDiff_{i}'] = zoom_test_df['Close'].shift(i)\n",
    "\n",
    "# Remove missing values\n",
    "zoom_test_df.dropna(inplace=True)\n",
    "zoom_test_df.head()"
   ]
  },
  {
   "cell_type": "code",
   "execution_count": 49,
   "id": "e6425fb3",
   "metadata": {},
   "outputs": [],
   "source": [
    "X_train = zoom_train_df[['sentiment_score', 'PriceDiff_1', 'PriceDiff_2', 'PriceDiff_3', 'PriceDiff_4', 'PriceDiff_5', 'PriceDiff_6', 'PriceDiff_7']]\n",
    "y_train = zoom_train_df.Close\n",
    "X_test = zoom_test_df[['sentiment_score', 'PriceDiff_1', 'PriceDiff_2', 'PriceDiff_3', 'PriceDiff_4', 'PriceDiff_5', 'PriceDiff_6', 'PriceDiff_7']]\n",
    "y_test = zoom_test_df.Close"
   ]
  },
  {
   "cell_type": "code",
   "execution_count": 50,
   "id": "e94ea535",
   "metadata": {},
   "outputs": [],
   "source": [
    "# Build the model\n",
    "model = Sequential()\n",
    "model.add(LSTM(units=50, return_sequences=True, input_shape=(X_train.shape[1], 1)))\n",
    "model.add(Dropout(0.1))\n",
    "model.add(LSTM(units=50, return_sequences=True))\n",
    "model.add(Dropout(0.1))\n",
    "model.add(LSTM(units=50))\n",
    "model.add(Dropout(0.1))\n",
    "model.add(Dense(units=1))\n",
    "model.summary()"
   ]
  },
  {
   "cell_type": "code",
   "execution_count": 51,
   "id": "00bff7b9",
   "metadata": {},
   "outputs": [],
   "source": [
    "# Compile the model\n",
    "model.compile(optimizer='adam', loss='mean_squared_error')"
   ]
  },
  {
   "cell_type": "code",
   "execution_count": 52,
   "id": "2553b249",
   "metadata": {},
   "outputs": [],
   "source": [
    "run = wandb.init(\n",
    "    name = \"ltsm-zoom-moulya-200-epochs\", ## Wandb creates random run names if you skip this field\n",
    "    #reinit = True, ### Allows reinitalizing runs when you re-run this cell\n",
    "    # id = \"1y35a1ce\" ,### Insert specific run id here if you want to resume a previous run\n",
    "    # resume = \"must\", ### You need this to resume previous runs, but comment out reinit = True when using this\n",
    "    project = \"idl-finance\" ### Project should be created in your wandb account \n",
    "    # config = config ### Wandb Config for your run\n",
    ")"
   ]
  }
 ],
 "metadata": {
  "kernelspec": {
   "display_name": "Python 3",
   "language": "python",
   "name": "python3"
  },
  "language_info": {
   "codemirror_mode": {
    "name": "ipython",
    "version": 3
   },
   "file_extension": ".py",
   "mimetype": "text/x-python",
   "name": "python",
   "nbconvert_exporter": "python",
   "pygments_lexer": "ipython3",
   "version": "3.9.12"
  }
 },
 "nbformat": 4,
 "nbformat_minor": 5
}
