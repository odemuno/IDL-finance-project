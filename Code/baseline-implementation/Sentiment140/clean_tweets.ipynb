{
  "cells": [
    {
      "attachments": {},
      "cell_type": "markdown",
      "metadata": {
        "id": "inOrkHvMlXS_"
      },
      "source": [
        "# Sentiment140: Predicting Stock Movement Using Sentiment Analysis of Twitter Feed with Neural Networks\n",
        "\n",
        "- baseline: https://www.scirp.org/journal/paperinformation.aspx?paperid=104142#ref9\n",
        "- sentiment kaggle: https://www.kaggle.com/datasets/kazanova/sentiment140 "
      ]
    },
    {
      "cell_type": "markdown",
      "metadata": {
        "id": "y2wOKRlh30DI"
      },
      "source": [
        "# Sentiment 140 Data\n",
        "For the training data, we are going to use a sentiment tagged Twitter dataset of 1.6 million tweets, collected from Sentiment140 for sentiment classification. The tweets are tagged ‘1’ and ‘0’ for being ‘positive’ and ‘negative’ respectively.\n",
        "\n",
        "It contains the following 6 fields:\n",
        "\n",
        "1. **target**: the polarity of the tweet (0 = negative, 2 = neutral, 4 = positive)\n",
        "\n",
        "2. **ids**: The id of the tweet ( 2087)\n",
        "\n",
        "3. **date**: the date of the tweet (Sat May 16 23:58:44 UTC 2009)\n",
        "\n",
        "4. **flag**: The query (lyx). If there is no query, then this value is NO_QUERY.\n",
        "\n",
        "5. **user**: the user that tweeted (robotickilldozr)\n",
        "\n",
        "6. **text**: the text of the tweet (Lyx is cool)\n",
        "\n",
        "Citation: Go, A., Bhayani, R. and Huang, L., 2009. Twitter sentiment classification using distant supervision. CS224N Project Report, Stanford, 1(2009), p.12."
      ]
    },
    {
      "cell_type": "markdown",
      "metadata": {
        "id": "wMSnqBKp5Fm5"
      },
      "source": [
        "### Download the data\n",
        "Download from the Kaggle website and then save to your local directory. \n",
        "\n",
        "Kaggle: https://www.kaggle.com/datasets/kazanova/sentiment140\n"
      ]
    },
    {
      "cell_type": "markdown",
      "metadata": {
        "id": "xapVlOt2XyxO"
      },
      "source": [
        "### Import packages"
      ]
    },
    {
      "cell_type": "code",
      "execution_count": 4,
      "metadata": {
        "id": "RURsX5hXDP_h"
      },
      "outputs": [],
      "source": [
        "# utilities\n",
        "import string \n",
        "import re \n",
        "import pickle # not used\n",
        "import pandas as pd \n",
        "import time\n",
        "import numpy as np"
      ]
    },
    {
      "cell_type": "code",
      "execution_count": 5,
      "metadata": {
        "id": "MJ9rLm57lSw1"
      },
      "outputs": [
        {
          "ename": "ModuleNotFoundError",
          "evalue": "No module named 'nltk'",
          "output_type": "error",
          "traceback": [
            "\u001b[0;31m---------------------------------------------------------------------------\u001b[0m",
            "\u001b[0;31mModuleNotFoundError\u001b[0m                       Traceback (most recent call last)",
            "Cell \u001b[0;32mIn[5], line 2\u001b[0m\n\u001b[1;32m      1\u001b[0m \u001b[39m# nltk\u001b[39;00m\n\u001b[0;32m----> 2\u001b[0m \u001b[39mimport\u001b[39;00m \u001b[39mnltk\u001b[39;00m \n\u001b[1;32m      3\u001b[0m nltk\u001b[39m.\u001b[39mdownload(\u001b[39m'\u001b[39m\u001b[39mstopwords\u001b[39m\u001b[39m'\u001b[39m)\n\u001b[1;32m      4\u001b[0m nltk\u001b[39m.\u001b[39mdownload(\u001b[39m'\u001b[39m\u001b[39mpunkt\u001b[39m\u001b[39m'\u001b[39m) \n",
            "\u001b[0;31mModuleNotFoundError\u001b[0m: No module named 'nltk'"
          ]
        }
      ],
      "source": [
        "# nltk\n",
        "import nltk \n",
        "nltk.download('stopwords')\n",
        "nltk.download('punkt') \n",
        "nltk.download('wordnet') \n",
        "from nltk.corpus import stopwords \n",
        "from nltk.stem import WordNetLemmatizer"
      ]
    },
    {
      "cell_type": "code",
      "execution_count": 383,
      "metadata": {
        "id": "jqY_OlIsPbJN"
      },
      "outputs": [],
      "source": [
        "# sklearn\n",
        "from sklearn.model_selection import train_test_split\n",
        "from sklearn.metrics import classification_report\n",
        "from sklearn.svm import SVC\n",
        "from sklearn.metrics import accuracy_score\n",
        "from sklearn.feature_extraction.text import TfidfVectorizer\n",
        "from sklearn.linear_model import LogisticRegression\n",
        "from sklearn.tree import DecisionTreeClassifier\n",
        "from sklearn.ensemble import GradientBoostingRegressor"
      ]
    },
    {
      "cell_type": "markdown",
      "metadata": {
        "id": "O2A4rqssgPAa"
      },
      "source": [
        "### Load in data"
      ]
    },
    {
      "cell_type": "code",
      "execution_count": null,
      "metadata": {
        "id": "qfpHqvto5Ofo"
      },
      "outputs": [],
      "source": [
        "# import drive so you can access your folders\n",
        "from google.colab import drive\n",
        "drive.mount('/content/drive')"
      ]
    },
    {
      "cell_type": "code",
      "execution_count": 238,
      "metadata": {
        "id": "rw5FWRfFgJPK"
      },
      "outputs": [
        {
          "data": {
            "text/html": [
              "<div>\n",
              "<style scoped>\n",
              "    .dataframe tbody tr th:only-of-type {\n",
              "        vertical-align: middle;\n",
              "    }\n",
              "\n",
              "    .dataframe tbody tr th {\n",
              "        vertical-align: top;\n",
              "    }\n",
              "\n",
              "    .dataframe thead th {\n",
              "        text-align: right;\n",
              "    }\n",
              "</style>\n",
              "<table border=\"1\" class=\"dataframe\">\n",
              "  <thead>\n",
              "    <tr style=\"text-align: right;\">\n",
              "      <th></th>\n",
              "      <th>sentiment</th>\n",
              "      <th>tweet_id</th>\n",
              "      <th>time</th>\n",
              "      <th>flag</th>\n",
              "      <th>user</th>\n",
              "      <th>tweet</th>\n",
              "    </tr>\n",
              "  </thead>\n",
              "  <tbody>\n",
              "    <tr>\n",
              "      <th>0</th>\n",
              "      <td>0</td>\n",
              "      <td>1467810672</td>\n",
              "      <td>Mon Apr 06 22:19:49 PDT 2009</td>\n",
              "      <td>NO_QUERY</td>\n",
              "      <td>scotthamilton</td>\n",
              "      <td>is upset that he can't update his Facebook by ...</td>\n",
              "    </tr>\n",
              "    <tr>\n",
              "      <th>1</th>\n",
              "      <td>0</td>\n",
              "      <td>1467810917</td>\n",
              "      <td>Mon Apr 06 22:19:53 PDT 2009</td>\n",
              "      <td>NO_QUERY</td>\n",
              "      <td>mattycus</td>\n",
              "      <td>@Kenichan I dived many times for the ball. Man...</td>\n",
              "    </tr>\n",
              "    <tr>\n",
              "      <th>2</th>\n",
              "      <td>0</td>\n",
              "      <td>1467811184</td>\n",
              "      <td>Mon Apr 06 22:19:57 PDT 2009</td>\n",
              "      <td>NO_QUERY</td>\n",
              "      <td>ElleCTF</td>\n",
              "      <td>my whole body feels itchy and like its on fire</td>\n",
              "    </tr>\n",
              "    <tr>\n",
              "      <th>3</th>\n",
              "      <td>0</td>\n",
              "      <td>1467811193</td>\n",
              "      <td>Mon Apr 06 22:19:57 PDT 2009</td>\n",
              "      <td>NO_QUERY</td>\n",
              "      <td>Karoli</td>\n",
              "      <td>@nationwideclass no, it's not behaving at all....</td>\n",
              "    </tr>\n",
              "    <tr>\n",
              "      <th>4</th>\n",
              "      <td>0</td>\n",
              "      <td>1467811372</td>\n",
              "      <td>Mon Apr 06 22:20:00 PDT 2009</td>\n",
              "      <td>NO_QUERY</td>\n",
              "      <td>joy_wolf</td>\n",
              "      <td>@Kwesidei not the whole crew</td>\n",
              "    </tr>\n",
              "  </tbody>\n",
              "</table>\n",
              "</div>"
            ],
            "text/plain": [
              "   sentiment    tweet_id                          time      flag  \\\n",
              "0          0  1467810672  Mon Apr 06 22:19:49 PDT 2009  NO_QUERY   \n",
              "1          0  1467810917  Mon Apr 06 22:19:53 PDT 2009  NO_QUERY   \n",
              "2          0  1467811184  Mon Apr 06 22:19:57 PDT 2009  NO_QUERY   \n",
              "3          0  1467811193  Mon Apr 06 22:19:57 PDT 2009  NO_QUERY   \n",
              "4          0  1467811372  Mon Apr 06 22:20:00 PDT 2009  NO_QUERY   \n",
              "\n",
              "            user                                              tweet  \n",
              "0  scotthamilton  is upset that he can't update his Facebook by ...  \n",
              "1       mattycus  @Kenichan I dived many times for the ball. Man...  \n",
              "2        ElleCTF    my whole body feels itchy and like its on fire   \n",
              "3         Karoli  @nationwideclass no, it's not behaving at all....  \n",
              "4       joy_wolf                      @Kwesidei not the whole crew   "
            ]
          },
          "execution_count": 238,
          "metadata": {},
          "output_type": "execute_result"
        }
      ],
      "source": [
        "# read in data\n",
        "df = pd.read_csv('training.1600000.processed.noemoticon.csv', encoding='latin')\n",
        "\n",
        "# add in the column names\n",
        "df.columns = ['sentiment', 'tweet_id', 'time', 'flag', 'user', 'tweet']\n",
        "df.head()\n"
      ]
    },
    {
      "cell_type": "code",
      "execution_count": 239,
      "metadata": {
        "id": "9ei00dwFhVcK"
      },
      "outputs": [
        {
          "data": {
            "text/html": [
              "<div>\n",
              "<style scoped>\n",
              "    .dataframe tbody tr th:only-of-type {\n",
              "        vertical-align: middle;\n",
              "    }\n",
              "\n",
              "    .dataframe tbody tr th {\n",
              "        vertical-align: top;\n",
              "    }\n",
              "\n",
              "    .dataframe thead th {\n",
              "        text-align: right;\n",
              "    }\n",
              "</style>\n",
              "<table border=\"1\" class=\"dataframe\">\n",
              "  <thead>\n",
              "    <tr style=\"text-align: right;\">\n",
              "      <th></th>\n",
              "      <th>tweet</th>\n",
              "      <th>sentiment</th>\n",
              "    </tr>\n",
              "  </thead>\n",
              "  <tbody>\n",
              "    <tr>\n",
              "      <th>0</th>\n",
              "      <td>is upset that he can't update his Facebook by ...</td>\n",
              "      <td>0</td>\n",
              "    </tr>\n",
              "    <tr>\n",
              "      <th>1</th>\n",
              "      <td>@Kenichan I dived many times for the ball. Man...</td>\n",
              "      <td>0</td>\n",
              "    </tr>\n",
              "    <tr>\n",
              "      <th>2</th>\n",
              "      <td>my whole body feels itchy and like its on fire</td>\n",
              "      <td>0</td>\n",
              "    </tr>\n",
              "    <tr>\n",
              "      <th>3</th>\n",
              "      <td>@nationwideclass no, it's not behaving at all....</td>\n",
              "      <td>0</td>\n",
              "    </tr>\n",
              "    <tr>\n",
              "      <th>4</th>\n",
              "      <td>@Kwesidei not the whole crew</td>\n",
              "      <td>0</td>\n",
              "    </tr>\n",
              "  </tbody>\n",
              "</table>\n",
              "</div>"
            ],
            "text/plain": [
              "                                               tweet  sentiment\n",
              "0  is upset that he can't update his Facebook by ...          0\n",
              "1  @Kenichan I dived many times for the ball. Man...          0\n",
              "2    my whole body feels itchy and like its on fire           0\n",
              "3  @nationwideclass no, it's not behaving at all....          0\n",
              "4                      @Kwesidei not the whole crew           0"
            ]
          },
          "execution_count": 239,
          "metadata": {},
          "output_type": "execute_result"
        }
      ],
      "source": [
        "# create a new dataframe with only tweets and sentiment\n",
        "features ='tweet'\n",
        "target = 'sentiment'\n",
        "\n",
        "df = df[[features, target]]\n",
        "df.head()"
      ]
    },
    {
      "cell_type": "markdown",
      "metadata": {
        "id": "mH4792XTh8L6"
      },
      "source": [
        "### Data preprocessing"
      ]
    },
    {
      "cell_type": "code",
      "execution_count": 240,
      "metadata": {
        "id": "1uo80AS8h_ji"
      },
      "outputs": [
        {
          "name": "stdout",
          "output_type": "stream",
          "text": [
            "<class 'pandas.core.frame.DataFrame'>\n",
            "RangeIndex: 1599999 entries, 0 to 1599998\n",
            "Data columns (total 2 columns):\n",
            " #   Column     Non-Null Count    Dtype \n",
            "---  ------     --------------    ----- \n",
            " 0   tweet      1599999 non-null  object\n",
            " 1   sentiment  1599999 non-null  int64 \n",
            "dtypes: int64(1), object(1)\n",
            "memory usage: 24.4+ MB\n"
          ]
        }
      ],
      "source": [
        "df.info()"
      ]
    },
    {
      "cell_type": "code",
      "execution_count": 241,
      "metadata": {
        "id": "vNUHua2EiVmA"
      },
      "outputs": [
        {
          "name": "stdout",
          "output_type": "stream",
          "text": [
            "<class 'pandas.core.frame.DataFrame'>\n",
            "RangeIndex: 1599999 entries, 0 to 1599998\n",
            "Data columns (total 2 columns):\n",
            " #   Column     Non-Null Count    Dtype \n",
            "---  ------     --------------    ----- \n",
            " 0   tweet      1599999 non-null  object\n",
            " 1   sentiment  1599999 non-null  int8  \n",
            "dtypes: int8(1), object(1)\n",
            "memory usage: 13.7+ MB\n"
          ]
        }
      ],
      "source": [
        "# downcast to smaller integer size to reduce memory: int64 -> int8\n",
        "df['sentiment'] = pd.to_numeric(df['sentiment'], downcast='integer')\n",
        "df.info()"
      ]
    },
    {
      "cell_type": "code",
      "execution_count": 242,
      "metadata": {
        "id": "CLfR5-7SiyUU"
      },
      "outputs": [
        {
          "data": {
            "text/plain": [
              "array([0, 4], dtype=int8)"
            ]
          },
          "execution_count": 242,
          "metadata": {},
          "output_type": "execute_result"
        }
      ],
      "source": [
        "# find all sentiment values in the dataset \n",
        "df.sentiment.unique()"
      ]
    },
    {
      "cell_type": "code",
      "execution_count": 243,
      "metadata": {
        "id": "cZ5xUMuOi5w6"
      },
      "outputs": [
        {
          "data": {
            "text/plain": [
              "1    800000\n",
              "0    799999\n",
              "Name: sentiment, dtype: int64"
            ]
          },
          "execution_count": 243,
          "metadata": {},
          "output_type": "execute_result"
        }
      ],
      "source": [
        "# change 4 to 1 (positive)\n",
        "df['sentiment'] = df['sentiment'].replace(4, 1)\n",
        "df['sentiment'].value_counts()"
      ]
    },
    {
      "cell_type": "code",
      "execution_count": 244,
      "metadata": {
        "id": "xRM9gYcYC2tw"
      },
      "outputs": [],
      "source": [
        "class TweetCleaner:\n",
        "  def __init__(self):\n",
        "    self.stop_words = set(stopwords.words('english'))\n",
        "    self.emojis = {':)': 'smile', ':-)': 'smile', ';d': 'wink', ':(': 'sad', 'XD': 'laughing',\n",
        "          ':-(': 'sad', ':-<': 'sad', ':P': 'stuck-out-tongue', ':O': 'surprised',\n",
        "          ':-@': 'shocked', ':@': 'shocked',':-$': 'confused', ':\\\\': 'annoyed', \n",
        "          ':#': 'mute', ':X': 'mute', ':^)': 'smile', ':-&': 'confused', '$_$': 'greedy',\n",
        "          '@@': 'eyeroll', ':-!': 'confused', ':-D': 'smile', ':-0': 'yell', 'O.o': 'confused',\n",
        "          ':/': 'confused', ':|': 'neutral-face', \":'-)\": 'sadsmile', \"<3\": 'love',\n",
        "          \":'-)\": 'tears-of-happiness'}\n",
        "\n",
        "  def lowercase(self, tweet):\n",
        "    ''' Each text is converted to lowercase. '''\n",
        "    return tweet.lower()\n",
        "  \n",
        "  def replace_url(self, tweet):\n",
        "    ''' Links starting with “Http” or “https” or “www” are replaced by “URL” '''\n",
        "    url_regex = re.compile(r'(http[s]?://|www\\.)\\S+')\n",
        "    return url_regex.sub('URL', tweet)\n",
        "\n",
        "  def replace_emojis(self, tweet):\n",
        "    '''Replace emojis by using a pre-defined dictionary containing emojis \n",
        "      along with their meaning. (e.g.: “:)” to “EMOJIsmile”) '''\n",
        "    for emoji in self.emojis.keys():\n",
        "      tweet = tweet.replace(emoji, \"EMOJI\" + self.emojis[emoji]) \n",
        "    return tweet\n",
        "\n",
        "  def replace_username(self, tweet):\n",
        "    ''' Replace @Usernames with the word “USER”. (e.g.: “@Kaggle” to “USER”)'''\n",
        "    user_regex = re.compile(r'@[^\\s]+')\n",
        "    return user_regex.sub('USER', tweet)  \n",
        "\n",
        "  def remove_nonalpha(self, tweet):\n",
        "    ''' Replacing characters except Digits and Alphabets with space.'''\n",
        "    nonalpha_regex = re.compile(r'[^a-zA-Z0-9]')\n",
        "    return nonalpha_regex.sub(\" \", tweet)\n",
        "  \n",
        "  def remove_consecutives(self, tweet):\n",
        "    ''' 3 or more consecutive letters are \n",
        "        replaced by two letters. (e.g.: “Heyyyy” to “Heyy”) '''\n",
        "    sequencePattern   = r\"(.)\\1\\1+\"\n",
        "    seqReplacePattern = r\"\\1\\1\"\n",
        "    return re.sub(sequencePattern, seqReplacePattern, tweet)\n",
        "\n",
        "  def remove_stop_short_words(self, tweet):\n",
        "    ''' English words that do not add much meaning to a sentence are removed\n",
        "        and Words with a length of less than two are eliminated.'''\n",
        "    words = nltk.word_tokenize(tweet)\n",
        "    words = [word for word in words if word not in self.stop_words and len(word) >= 2]\n",
        "    return ' '.join(words)\n",
        "\n",
        "  def lemmatize(self, tweet):\n",
        "    ''' Converting word to its base form. '''\n",
        "    tweetwords = ''\n",
        "    for word in tweet.split():\n",
        "      word = WordNetLemmatizer().lemmatize(word)\n",
        "      tweetwords += (word+' ')\n",
        "    return tweetwords\n",
        "\n",
        "  def clean_onetweet(self, tweet):\n",
        "    ''' cleans one single tweet '''\n",
        "    cleaned = self.lowercase(tweet)\n",
        "    cleaned = self.replace_url(cleaned)\n",
        "    cleaned = self.replace_emojis(cleaned)\n",
        "    cleaned = self.replace_username(cleaned)\n",
        "    cleaned = self.remove_nonalpha(cleaned)\n",
        "    cleaned = self.remove_consecutives(cleaned)\n",
        "    cleaned = self.remove_stop_short_words(cleaned)\n",
        "    cleaned = self.lemmatize(cleaned)\n",
        "    return cleaned\n",
        "\n",
        "  def clean_alltweets(self, df):\n",
        "    ''' cleans all tweets in the dataframe'''\n",
        "    df['tweets_processed'] = df['tweet'].apply(self.clean_onetweet)\n",
        "    df = df.drop(columns=['tweet'])\n",
        "    df = df.rename(columns={'tweets_processed': 'tweet'})\n",
        "    return df\n"
      ]
    },
    {
      "cell_type": "code",
      "execution_count": 245,
      "metadata": {
        "id": "aS2oUKEjEjlJ"
      },
      "outputs": [
        {
          "name": "stdout",
          "output_type": "stream",
          "text": [
            "USER dog money sitting URL baby foot \n"
          ]
        }
      ],
      "source": [
        "# testing one tweet\n",
        "tweet = \"@jane and her Dogs have g !$MONEY sitting with https://www.mlq.ai/ai-companies-trading-investing/ babies with feet\"\n",
        "tweetCleaner = TweetCleaner()\n",
        "\n",
        "print(tweetCleaner.clean_onetweet(tweet))"
      ]
    },
    {
      "cell_type": "code",
      "execution_count": 246,
      "metadata": {
        "id": "5elH-IxWV6ly"
      },
      "outputs": [],
      "source": [
        "# method for processing tweets\n",
        "def process_tweet_dataframe(df):\n",
        "  tweetCleaner = TweetCleaner()\n",
        "  \n",
        "  t = time.time()\n",
        "  df_processed = tweetCleaner.clean_alltweets(df)\n",
        "  print(f'Text Preprocessing complete.')\n",
        "  print(f'Time Taken: {round(time.time()-t)} seconds')\n",
        "  return df_processed"
      ]
    },
    {
      "cell_type": "code",
      "execution_count": null,
      "metadata": {
        "id": "8OEs1bvDX7LR"
      },
      "outputs": [],
      "source": [
        "df_processed = process_tweet_dataframe(df)"
      ]
    },
    {
      "cell_type": "code",
      "execution_count": null,
      "metadata": {
        "id": "55h7Ju6SViZC"
      },
      "outputs": [
        {
          "data": {
            "text/html": [
              "<div>\n",
              "<style scoped>\n",
              "    .dataframe tbody tr th:only-of-type {\n",
              "        vertical-align: middle;\n",
              "    }\n",
              "\n",
              "    .dataframe tbody tr th {\n",
              "        vertical-align: top;\n",
              "    }\n",
              "\n",
              "    .dataframe thead th {\n",
              "        text-align: right;\n",
              "    }\n",
              "</style>\n",
              "<table border=\"1\" class=\"dataframe\">\n",
              "  <thead>\n",
              "    <tr style=\"text-align: right;\">\n",
              "      <th></th>\n",
              "      <th>tweet</th>\n",
              "      <th>sentiment</th>\n",
              "      <th>tweets_processed</th>\n",
              "    </tr>\n",
              "  </thead>\n",
              "  <tbody>\n",
              "    <tr>\n",
              "      <th>0</th>\n",
              "      <td>is upset that he can't update his Facebook by ...</td>\n",
              "      <td>0</td>\n",
              "      <td>upset update facebook texting might cry result...</td>\n",
              "    </tr>\n",
              "    <tr>\n",
              "      <th>1</th>\n",
              "      <td>@Kenichan I dived many times for the ball. Man...</td>\n",
              "      <td>0</td>\n",
              "      <td>USER dived many time ball managed save 50 rest...</td>\n",
              "    </tr>\n",
              "    <tr>\n",
              "      <th>2</th>\n",
              "      <td>my whole body feels itchy and like its on fire</td>\n",
              "      <td>0</td>\n",
              "      <td>whole body feel itchy like fire</td>\n",
              "    </tr>\n",
              "    <tr>\n",
              "      <th>3</th>\n",
              "      <td>@nationwideclass no, it's not behaving at all....</td>\n",
              "      <td>0</td>\n",
              "      <td>USER behaving mad see</td>\n",
              "    </tr>\n",
              "    <tr>\n",
              "      <th>4</th>\n",
              "      <td>@Kwesidei not the whole crew</td>\n",
              "      <td>0</td>\n",
              "      <td>USER whole crew</td>\n",
              "    </tr>\n",
              "  </tbody>\n",
              "</table>\n",
              "</div>"
            ],
            "text/plain": [
              "                                               tweet  sentiment  \\\n",
              "0  is upset that he can't update his Facebook by ...          0   \n",
              "1  @Kenichan I dived many times for the ball. Man...          0   \n",
              "2    my whole body feels itchy and like its on fire           0   \n",
              "3  @nationwideclass no, it's not behaving at all....          0   \n",
              "4                      @Kwesidei not the whole crew           0   \n",
              "\n",
              "                                    tweets_processed  \n",
              "0  upset update facebook texting might cry result...  \n",
              "1  USER dived many time ball managed save 50 rest...  \n",
              "2                   whole body feel itchy like fire   \n",
              "3                             USER behaving mad see   \n",
              "4                                   USER whole crew   "
            ]
          },
          "execution_count": 16,
          "metadata": {},
          "output_type": "execute_result"
        }
      ],
      "source": [
        "# view processed dataset\n",
        "df.head()"
      ]
    },
    {
      "cell_type": "code",
      "execution_count": null,
      "metadata": {
        "id": "N0_ezaElWYrw"
      },
      "outputs": [
        {
          "data": {
            "text/html": [
              "<div>\n",
              "<style scoped>\n",
              "    .dataframe tbody tr th:only-of-type {\n",
              "        vertical-align: middle;\n",
              "    }\n",
              "\n",
              "    .dataframe tbody tr th {\n",
              "        vertical-align: top;\n",
              "    }\n",
              "\n",
              "    .dataframe thead th {\n",
              "        text-align: right;\n",
              "    }\n",
              "</style>\n",
              "<table border=\"1\" class=\"dataframe\">\n",
              "  <thead>\n",
              "    <tr style=\"text-align: right;\">\n",
              "      <th></th>\n",
              "      <th>sentiment</th>\n",
              "      <th>tweet</th>\n",
              "    </tr>\n",
              "  </thead>\n",
              "  <tbody>\n",
              "    <tr>\n",
              "      <th>0</th>\n",
              "      <td>0</td>\n",
              "      <td>upset update facebook texting might cry result...</td>\n",
              "    </tr>\n",
              "    <tr>\n",
              "      <th>1</th>\n",
              "      <td>0</td>\n",
              "      <td>USER dived many time ball managed save 50 rest...</td>\n",
              "    </tr>\n",
              "    <tr>\n",
              "      <th>2</th>\n",
              "      <td>0</td>\n",
              "      <td>whole body feel itchy like fire</td>\n",
              "    </tr>\n",
              "    <tr>\n",
              "      <th>3</th>\n",
              "      <td>0</td>\n",
              "      <td>USER behaving mad see</td>\n",
              "    </tr>\n",
              "    <tr>\n",
              "      <th>4</th>\n",
              "      <td>0</td>\n",
              "      <td>USER whole crew</td>\n",
              "    </tr>\n",
              "  </tbody>\n",
              "</table>\n",
              "</div>"
            ],
            "text/plain": [
              "   sentiment                                              tweet\n",
              "0          0  upset update facebook texting might cry result...\n",
              "1          0  USER dived many time ball managed save 50 rest...\n",
              "2          0                   whole body feel itchy like fire \n",
              "3          0                             USER behaving mad see \n",
              "4          0                                   USER whole crew "
            ]
          },
          "execution_count": 17,
          "metadata": {},
          "output_type": "execute_result"
        }
      ],
      "source": [
        "df_processed.head()"
      ]
    },
    {
      "cell_type": "markdown",
      "metadata": {
        "id": "ZvDBnlxZYzJp"
      },
      "source": [
        "### Save processed tweets to csv"
      ]
    },
    {
      "cell_type": "code",
      "execution_count": 247,
      "metadata": {
        "id": "ebM-u2UuYxW0"
      },
      "outputs": [],
      "source": [
        "# save the DataFrame to a CSV file\n",
        "df_processed.to_csv('processed_sentiment140_tweets.csv', index=False)\n",
        "\n",
        "# Uncomment the below lines and comment previous lines for loading preprocessed df\n",
        "# df_processed = pd.read_csv('processed_sentiment140_tweets.csv')\n",
        "# df_processed.dropna(inplace=True)"
      ]
    }
  ],
  "metadata": {
    "colab": {
      "private_outputs": true,
      "provenance": []
    },
    "kernelspec": {
      "display_name": "Python 3",
      "language": "python",
      "name": "python3"
    },
    "language_info": {
      "codemirror_mode": {
        "name": "ipython",
        "version": 3
      },
      "file_extension": ".py",
      "mimetype": "text/x-python",
      "name": "python",
      "nbconvert_exporter": "python",
      "pygments_lexer": "ipython3",
      "version": "3.9.6"
    },
    "vscode": {
      "interpreter": {
        "hash": "2493d6cdf326652258c0fe8ee6d07a614f854824a35e5484bd17126350398f30"
      }
    }
  },
  "nbformat": 4,
  "nbformat_minor": 0
}
