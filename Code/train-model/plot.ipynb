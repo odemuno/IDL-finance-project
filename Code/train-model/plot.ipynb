{
 "cells": [
  {
   "cell_type": "code",
   "execution_count": 2,
   "metadata": {},
   "outputs": [
    {
     "name": "stderr",
     "output_type": "stream",
     "text": [
      "<frozen importlib._bootstrap>:219: RuntimeWarning: numpy.ufunc size changed, may indicate binary incompatibility. Expected 216 from C header, got 232 from PyObject\n"
     ]
    }
   ],
   "source": [
    "import pandas as pd\n",
    "import matplotlib.pyplot as plt"
   ]
  },
  {
   "cell_type": "code",
   "execution_count": 1,
   "metadata": {},
   "outputs": [],
   "source": [
    "def plot_graph(train_df,test_df,run_name):\n",
    "    # train_df.to_csv('train-zoom-news-predicted.csv')\n",
    "    # test_df.to_csv('test-zoom-news-predicted.csv')\n",
    "    fig, ax = plt.subplots(figsize=(10, 6))\n",
    "    df.plot(y='Close',color='green',ax=ax,label='Actual Price Diff',x='Date')\n",
    "    df.loc[test_df['Date'][0]:,'Predicted Price Diff'].plot(ax=ax, color='red', label='Predicted Price Diff for 2022',x='Date')\n",
    "    ax.set_title('Predicted Stock Price Diff for '+run_name+' 2020-2022 (Train from 2020-2021 and Test 2022)')\n",
    "    \n",
    "    # plt.savefig('charts/'+run_name+'.png')"
   ]
  },
  {
   "cell_type": "code",
   "execution_count": 3,
   "metadata": {},
   "outputs": [],
   "source": [
    "train_df = pd.read_csv('train-zoom-news-predicted.csv')\n",
    "test_df = pd.read_csv('test-zoom-news-predicted.csv')\n",
    "run_name = \"test-run\"\n",
    "plot_graph(train_df, test_df, run_name)"
   ]
  },
  {
   "cell_type": "code",
   "execution_count": null,
   "metadata": {},
   "outputs": [],
   "source": []
  }
 ],
 "metadata": {
  "kernelspec": {
   "display_name": "idlenv",
   "language": "python",
   "name": "python3"
  },
  "language_info": {
   "codemirror_mode": {
    "name": "ipython",
    "version": 3
   },
   "file_extension": ".py",
   "mimetype": "text/x-python",
   "name": "python",
   "nbconvert_exporter": "python",
   "pygments_lexer": "ipython3",
   "version": "3.8.8"
  },
  "orig_nbformat": 4,
  "vscode": {
   "interpreter": {
    "hash": "bb0dab884adde1e2026460bc948d2e1e6e2337a5a2ce1fe906357655ec0a50c7"
   }
  }
 },
 "nbformat": 4,
 "nbformat_minor": 2
}
