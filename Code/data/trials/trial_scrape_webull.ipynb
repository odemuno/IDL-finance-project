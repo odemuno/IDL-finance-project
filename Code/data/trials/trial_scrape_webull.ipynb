{
 "cells": [
  {
   "cell_type": "code",
   "execution_count": 2,
   "metadata": {},
   "outputs": [],
   "source": [
    "# packages\n",
    "import requests\n",
    "from bs4 import BeautifulSoup\n",
    "import re\n"
   ]
  },
  {
   "cell_type": "code",
   "execution_count": 4,
   "metadata": {},
   "outputs": [],
   "source": [
    "KEYWORD = 'zoom'\n",
    "\n",
    "headers = {'User-Agent': 'Mozilla/5.0 (X11; Ubuntu; Linux x86_64; rv:80.0) Gecko/20100101 Firefox/80.0'}\n",
    "    \n",
    "url = 'https://www.webull.com/newslist/nasdaq-zm'\n",
    "\n",
    "# send a GET request to the URL and parse the HTML content with Beautiful Soup\n",
    "soup = BeautifulSoup(requests.get(url, headers=headers).content, 'html.parser')"
   ]
  },
  {
   "cell_type": "code",
   "execution_count": 29,
   "metadata": {},
   "outputs": [],
   "source": [
    "news_list = soup.find('div', class_='newsListContent')\n",
    "# print(news_list)\n",
    "\n",
    "articles = news_list.find_all('div', class_='ssr414261') # headlines\n",
    "# print(articles)\n",
    "\n",
    "taglines = news_list.find_all('div', class_='ssr414262') \n",
    "# print(taglines)\n",
    "\n",
    "headers = []\n",
    "dates = []\n",
    "\n",
    "for article in articles:\n",
    "    header = article.text\n",
    "    headers.append(header)\n",
    "\n",
    "for tag in taglines:\n",
    "    date = tag.text.split('·')[1].strip()\n",
    "    dates.append(date)"
   ]
  },
  {
   "cell_type": "code",
   "execution_count": 31,
   "metadata": {},
   "outputs": [
    {
     "name": "stdout",
     "output_type": "stream",
     "text": [
      "['Guru Fundamental Report for ZM - Benjamin Graham', 'ARKK, ZM, ROKU, COIN: Large Outflows Detected at ETF', '5 Traits of Legendary Investors', 'Oracle And Zoom Join Forces To Expand Access To Virtual Care', 'Apple, Zoom Video And 2 Other Stocks Insiders Are Selling', 'Zoom Forays into Employee Engagement Space: ETFs in Focus', 'Zoom Stock Slides as Analyst Warns of Weakening Demand', 'After Hours Most Active for Apr 17, 2023 :  SWN, ZM, BAC, QQQ, AAPL, GOOGL, PFE, MSFT, NRG, AMC, AMZN, FE', 'Noteworthy Monday Option Activity: STNG, ZM, BLNK', \"Zoom's Pain Will Continue To Be Microsoft's Gain\", 'Zoom stock slips as Citi opens up downside catalyst watch', 'Analysts’ Opinions Are Mixed on These Technology Stocks: My Size (MYSZ) and Zoom Video Communications (ZM)', 'Zoom Video to acquire human-resources platform Workvivo for undisclosed sum', 'BRIEF-Zoom To Acquire Workvivo To Bolster The Employee Experience Offering', 'Insider Sell: Zoom Video Communications', 'BRIEF-Zoom Says To Acquire Employee Communication And Engagement Platform Workvivo ', 'Zoom To Acquire Employee Communication And Engagement Platform Workvivo; Terms Not Disclosed', '3 Supercharged Tech Stocks to Buy Without Any Hesitation', 'Zoom Video And 3 Other Stocks Insiders Are Selling', 'Zoom Video Communications to Acquire Workvivo for Undisclosed Sum']\n"
     ]
    }
   ],
   "source": [
    "print(headers)"
   ]
  },
  {
   "cell_type": "code",
   "execution_count": 32,
   "metadata": {},
   "outputs": [
    {
     "name": "stdout",
     "output_type": "stream",
     "text": [
      "['8h ago', '11h ago', '13h ago', '13h ago', '13h ago', '16h ago', '1d ago', '1d ago', '1d ago', '1d ago', '1d ago', '1d ago', '4d ago', '4d ago', '4d ago', '4d ago', '4d ago', '4d ago', '4d ago', '4d ago']\n"
     ]
    }
   ],
   "source": [
    "print(dates)"
   ]
  },
  {
   "cell_type": "code",
   "execution_count": 33,
   "metadata": {},
   "outputs": [],
   "source": [
    "import pandas as pd\n",
    "\n",
    "# Combine the two lists into a DataFrame\n",
    "df = pd.DataFrame({'date': dates, 'news_headline': headers})\n",
    "\n",
    "# Save the DataFrame as a CSV file\n",
    "df.to_csv(\"testing_webull.csv\", index=False)"
   ]
  },
  {
   "attachments": {},
   "cell_type": "markdown",
   "metadata": {},
   "source": [
    "# dynamically scrape"
   ]
  },
  {
   "cell_type": "code",
   "execution_count": 47,
   "metadata": {},
   "outputs": [
    {
     "name": "stderr",
     "output_type": "stream",
     "text": [
      "/var/folders/cf/28wm9krx5816hxprmj3lstxh0000gn/T/ipykernel_8020/1616448084.py:30: DeprecationWarning: find_elements_by_class_name is deprecated. Please use find_elements(by=By.CLASS_NAME, value=name) instead\n",
      "  headers = driver.find_elements_by_class_name(\"csr14\")\n",
      "/var/folders/cf/28wm9krx5816hxprmj3lstxh0000gn/T/ipykernel_8020/1616448084.py:31: DeprecationWarning: find_elements_by_class_name is deprecated. Please use find_elements(by=By.CLASS_NAME, value=name) instead\n",
      "  dates = driver.find_elements_by_class_name(\"csr15\")\n"
     ]
    },
    {
     "name": "stdout",
     "output_type": "stream",
     "text": [
      "['Rosenblatt Initiates Coverage On Zoom Video Comms with Neutral Rating, Announces Price Target of $75', 'Insider Sell: Zoom Video Communications', 'ARK Innovation ETF Experiences Big Inflow', \"Zoom Beat Earnings Expectations, But Here's Why I Still Wouldn't Buy the Stock\", \"Microsoft's ChatGPT Ended Zoom Video's Growth Ambitions\", 'Zoom Video Communications Still Offers Strong Potential Sitting Just Above Its 52-Week Low', 'Notable Friday Option Activity: ZM, MCD, FLS', 'Zoom Video (ZM) Starts Partnership With Major League Baseball', 'Better Buy: Zoom vs. Okta', 'Why This RingCentral Analyst Is Turning Bearish']\n",
      "['03/24 04:50', '03/23 13:05', '03/23 10:51', '03/23 07:37', '03/21 14:59', '03/21 11:00', '03/17 15:26', '03/17 10:53', '03/17 10:23', '03/17 10:22']\n"
     ]
    }
   ],
   "source": [
    "import time\n",
    "from selenium import webdriver\n",
    "from selenium.webdriver.common.by import By\n",
    "from selenium.webdriver.support.ui import WebDriverWait\n",
    "from selenium.webdriver.support import expected_conditions as EC\n",
    "\n",
    "# set up the webdriver\n",
    "options = webdriver.ChromeOptions()\n",
    "options.add_argument(\"--start-maximized\")\n",
    "driver = webdriver.Chrome(options=options)\n",
    "\n",
    "# navigate to the webpage\n",
    "driver.get(\"https://www.webull.com/newslist/nasdaq-zm\")\n",
    "\n",
    "# wait for the \"More\" button to appear and click it repeatedly until the terminating phrase is found\n",
    "start_phrase = \"Rosenblatt Initiates Coverage On Zoom Video Comms with Neutral Rating, Announces Price Target of $75\"\n",
    "end_phrase = \"How Zoom's Mission Could Help It Lower Its Biggest Expense\"\n",
    "scraped_headers = []\n",
    "scraped_dates = []\n",
    "\n",
    "continue_scrape = False\n",
    "\n",
    "while True:\n",
    "    try:\n",
    "        more_button = WebDriverWait(driver, 10).until(EC.element_to_be_clickable(\n",
    "                                (By.XPATH, \"//div[@class='csr19'][text()='More']\")))\n",
    "        more_button.click()\n",
    "        time.sleep(1)\n",
    "\n",
    "        headers = driver.find_elements_by_class_name(\"csr14\")\n",
    "        dates = driver.find_elements_by_class_name(\"csr15\")\n",
    "\n",
    "        for i in range(len(headers)):\n",
    "            header = headers[i]\n",
    "            date = dates[i]\n",
    "\n",
    "            if header.text == start_phrase:\n",
    "                continue_scrape = True\n",
    "                scraped_headers.append(header.text)\n",
    "                scraped_dates.append(date.text.split('·')[1].strip())\n",
    "\n",
    "            if header.text == end_phrase:\n",
    "                driver.quit()\n",
    "                print(scraped_headers[1:])\n",
    "                print(scraped_dates[1:])\n",
    "                break\n",
    "\n",
    "            if continue_scrape:\n",
    "                scraped_headers.append(header.text)\n",
    "                scraped_dates.append(date.text.split('·')[1].strip())\n",
    "    except:\n",
    "        driver.quit()\n",
    "        # print(scraped_headers)\n",
    "        break\n"
   ]
  }
 ],
 "metadata": {
  "kernelspec": {
   "display_name": "idlenv",
   "language": "python",
   "name": "python3"
  },
  "language_info": {
   "codemirror_mode": {
    "name": "ipython",
    "version": 3
   },
   "file_extension": ".py",
   "mimetype": "text/x-python",
   "name": "python",
   "nbconvert_exporter": "python",
   "pygments_lexer": "ipython3",
   "version": "3.8.8"
  },
  "orig_nbformat": 4,
  "vscode": {
   "interpreter": {
    "hash": "bb0dab884adde1e2026460bc948d2e1e6e2337a5a2ce1fe906357655ec0a50c7"
   }
  }
 },
 "nbformat": 4,
 "nbformat_minor": 2
}
