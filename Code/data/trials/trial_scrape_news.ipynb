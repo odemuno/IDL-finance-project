{
 "cells": [
  {
   "cell_type": "code",
   "execution_count": 1,
   "metadata": {},
   "outputs": [],
   "source": [
    "# first, import Beautiful Soup and urllib for scraping + other...\n",
    "# libraries to work with the data\n",
    "from bs4 import BeautifulSoup\n",
    "from urllib.request import urlopen, Request\n",
    "import pandas as pd\n",
    "from datetime import date, timedelta"
   ]
  },
  {
   "cell_type": "code",
   "execution_count": 2,
   "metadata": {},
   "outputs": [],
   "source": [
    "# let's pick a ticker. For example, Amazon - AMZN\n",
    "stock = 'ZM' # https://finviz.com/quote.ashx?t=ZM&p=d\n",
    "news = {}\n",
    "\n",
    "# copy the finviz url \n",
    "# (it may change over time so make sure url ending is correct)\n",
    "url = f'https://finviz.com/quote.ashx?t={stock}&p=d'\n",
    "request = Request(url=url, headers={'user-agent': 'news_scraper'})\n",
    "response = urlopen(request)"
   ]
  },
  {
   "cell_type": "code",
   "execution_count": 3,
   "metadata": {},
   "outputs": [],
   "source": [
    "# parse the data\n",
    "html = BeautifulSoup(response, features='html.parser')\n",
    "finviz_news_table = html.find(id='news-table')\n",
    "news[stock] = finviz_news_table\n",
    "\n",
    "# filter and store neede in news_parsed\n",
    "news_parsed = []\n",
    "for stock, news_item in news.items():\n",
    "    for row in news_item.findAll('tr'):\n",
    "        try:\n",
    "            headline = row.a.getText()\n",
    "            source = row.span.getText()\n",
    "            news_parsed.append([stock, headline])\n",
    "        except:\n",
    "            pass"
   ]
  },
  {
   "cell_type": "code",
   "execution_count": 4,
   "metadata": {},
   "outputs": [],
   "source": [
    "# convert to a dataframe for data analysis\n",
    "df = pd.DataFrame(news_parsed, columns=['Stock', 'Headline'])"
   ]
  },
  {
   "cell_type": "code",
   "execution_count": 5,
   "metadata": {},
   "outputs": [
    {
     "data": {
      "text/html": [
       "<div>\n",
       "<style scoped>\n",
       "    .dataframe tbody tr th:only-of-type {\n",
       "        vertical-align: middle;\n",
       "    }\n",
       "\n",
       "    .dataframe tbody tr th {\n",
       "        vertical-align: top;\n",
       "    }\n",
       "\n",
       "    .dataframe thead th {\n",
       "        text-align: right;\n",
       "    }\n",
       "</style>\n",
       "<table border=\"1\" class=\"dataframe\">\n",
       "  <thead>\n",
       "    <tr style=\"text-align: right;\">\n",
       "      <th></th>\n",
       "      <th>Stock</th>\n",
       "      <th>Headline</th>\n",
       "    </tr>\n",
       "  </thead>\n",
       "  <tbody>\n",
       "    <tr>\n",
       "      <th>0</th>\n",
       "      <td>ZM</td>\n",
       "      <td>Best Cathie Wood Stocks To Watch: Coinbase, Bl...</td>\n",
       "    </tr>\n",
       "    <tr>\n",
       "      <th>1</th>\n",
       "      <td>ZM</td>\n",
       "      <td>Zoom Video (ZM) Announces Intention to Acquire...</td>\n",
       "    </tr>\n",
       "    <tr>\n",
       "      <th>2</th>\n",
       "      <td>ZM</td>\n",
       "      <td>Zoom stock slides on Citi note</td>\n",
       "    </tr>\n",
       "    <tr>\n",
       "      <th>3</th>\n",
       "      <td>ZM</td>\n",
       "      <td>NYC offices are still only 45% full, costing $...</td>\n",
       "    </tr>\n",
       "    <tr>\n",
       "      <th>4</th>\n",
       "      <td>ZM</td>\n",
       "      <td>Zoom Video Communications (ZM) Dips More Than ...</td>\n",
       "    </tr>\n",
       "  </tbody>\n",
       "</table>\n",
       "</div>"
      ],
      "text/plain": [
       "  Stock                                           Headline\n",
       "0    ZM  Best Cathie Wood Stocks To Watch: Coinbase, Bl...\n",
       "1    ZM  Zoom Video (ZM) Announces Intention to Acquire...\n",
       "2    ZM                     Zoom stock slides on Citi note\n",
       "3    ZM  NYC offices are still only 45% full, costing $...\n",
       "4    ZM  Zoom Video Communications (ZM) Dips More Than ..."
      ]
     },
     "execution_count": 5,
     "metadata": {},
     "output_type": "execute_result"
    }
   ],
   "source": [
    "df.head()"
   ]
  },
  {
   "cell_type": "code",
   "execution_count": 6,
   "metadata": {},
   "outputs": [
    {
     "name": "stdout",
     "output_type": "stream",
     "text": [
      "<class 'pandas.core.frame.DataFrame'>\n",
      "RangeIndex: 100 entries, 0 to 99\n",
      "Data columns (total 2 columns):\n",
      " #   Column    Non-Null Count  Dtype \n",
      "---  ------    --------------  ----- \n",
      " 0   Stock     100 non-null    object\n",
      " 1   Headline  100 non-null    object\n",
      "dtypes: object(2)\n",
      "memory usage: 1.7+ KB\n"
     ]
    }
   ],
   "source": [
    "df.info()"
   ]
  },
  {
   "attachments": {},
   "cell_type": "markdown",
   "metadata": {},
   "source": [
    "# another try"
   ]
  },
  {
   "cell_type": "code",
   "execution_count": 2,
   "metadata": {},
   "outputs": [
    {
     "name": "stdout",
     "output_type": "stream",
     "text": [
      "Collecting newspaper3k\n",
      "  Downloading newspaper3k-0.2.8-py3-none-any.whl (211 kB)\n",
      "\u001b[2K     \u001b[90m━━━━━━━━━━━━━━━━━━━━━━━━━━━━━━━━━━━━━━━\u001b[0m \u001b[32m211.1/211.1 kB\u001b[0m \u001b[31m2.5 MB/s\u001b[0m eta \u001b[36m0:00:00\u001b[0ma \u001b[36m0:00:01\u001b[0m\n",
      "\u001b[?25hRequirement already satisfied: beautifulsoup4>=4.4.1 in /Users/odemunoogelohwohor/Documents/GitHub/CMU_SPR23/11785-deeplearning/IDL-finance-project/idlenv/lib/python3.8/site-packages (from newspaper3k) (4.12.2)\n",
      "Requirement already satisfied: Pillow>=3.3.0 in /Users/odemunoogelohwohor/Documents/GitHub/CMU_SPR23/11785-deeplearning/IDL-finance-project/idlenv/lib/python3.8/site-packages (from newspaper3k) (9.5.0)\n",
      "Requirement already satisfied: PyYAML>=3.11 in /Users/odemunoogelohwohor/Documents/GitHub/CMU_SPR23/11785-deeplearning/IDL-finance-project/idlenv/lib/python3.8/site-packages (from newspaper3k) (6.0)\n",
      "Collecting cssselect>=0.9.2 (from newspaper3k)\n",
      "  Downloading cssselect-1.2.0-py2.py3-none-any.whl (18 kB)\n",
      "Requirement already satisfied: lxml>=3.6.0 in /Users/odemunoogelohwohor/Documents/GitHub/CMU_SPR23/11785-deeplearning/IDL-finance-project/idlenv/lib/python3.8/site-packages (from newspaper3k) (4.9.2)\n",
      "Requirement already satisfied: nltk>=3.2.1 in /Users/odemunoogelohwohor/Documents/GitHub/CMU_SPR23/11785-deeplearning/IDL-finance-project/idlenv/lib/python3.8/site-packages (from newspaper3k) (3.8.1)\n",
      "Requirement already satisfied: requests>=2.10.0 in /Users/odemunoogelohwohor/Documents/GitHub/CMU_SPR23/11785-deeplearning/IDL-finance-project/idlenv/lib/python3.8/site-packages (from newspaper3k) (2.28.2)\n",
      "Collecting feedparser>=5.2.1 (from newspaper3k)\n",
      "  Downloading feedparser-6.0.10-py3-none-any.whl (81 kB)\n",
      "\u001b[2K     \u001b[90m━━━━━━━━━━━━━━━━━━━━━━━━━━━━━━━━━━━━━━━━\u001b[0m \u001b[32m81.1/81.1 kB\u001b[0m \u001b[31m2.3 MB/s\u001b[0m eta \u001b[36m0:00:00\u001b[0m\n",
      "\u001b[?25hCollecting tldextract>=2.0.1 (from newspaper3k)\n",
      "  Downloading tldextract-3.4.0-py3-none-any.whl (93 kB)\n",
      "\u001b[2K     \u001b[90m━━━━━━━━━━━━━━━━━━━━━━━━━━━━━━━━━━━━━━━━\u001b[0m \u001b[32m93.9/93.9 kB\u001b[0m \u001b[31m2.8 MB/s\u001b[0m eta \u001b[36m0:00:00\u001b[0m\n",
      "\u001b[?25hCollecting feedfinder2>=0.0.4 (from newspaper3k)\n",
      "  Downloading feedfinder2-0.0.4.tar.gz (3.3 kB)\n",
      "  Installing build dependencies ... \u001b[?25ldone\n",
      "\u001b[?25h  Getting requirements to build wheel ... \u001b[?25ldone\n",
      "\u001b[?25h  Preparing metadata (pyproject.toml) ... \u001b[?25ldone\n",
      "\u001b[?25hCollecting jieba3k>=0.35.1 (from newspaper3k)\n",
      "  Downloading jieba3k-0.35.1.zip (7.4 MB)\n",
      "\u001b[2K     \u001b[90m━━━━━━━━━━━━━━━━━━━━━━━━━━━━━━━━━━━━━━━━\u001b[0m \u001b[32m7.4/7.4 MB\u001b[0m \u001b[31m5.5 MB/s\u001b[0m eta \u001b[36m0:00:00\u001b[0m00:01\u001b[0m00:01\u001b[0m\n",
      "\u001b[?25h  Installing build dependencies ... \u001b[?25ldone\n",
      "\u001b[?25h  Getting requirements to build wheel ... \u001b[?25ldone\n",
      "\u001b[?25h  Preparing metadata (pyproject.toml) ... \u001b[?25ldone\n",
      "\u001b[?25hRequirement already satisfied: python-dateutil>=2.5.3 in /Users/odemunoogelohwohor/Documents/GitHub/CMU_SPR23/11785-deeplearning/IDL-finance-project/idlenv/lib/python3.8/site-packages (from newspaper3k) (2.8.2)\n",
      "Collecting tinysegmenter==0.3 (from newspaper3k)\n",
      "  Downloading tinysegmenter-0.3.tar.gz (16 kB)\n",
      "  Installing build dependencies ... \u001b[?25ldone\n",
      "\u001b[?25h  Getting requirements to build wheel ... \u001b[?25ldone\n",
      "\u001b[?25h  Preparing metadata (pyproject.toml) ... \u001b[?25ldone\n",
      "\u001b[?25hRequirement already satisfied: soupsieve>1.2 in /Users/odemunoogelohwohor/Documents/GitHub/CMU_SPR23/11785-deeplearning/IDL-finance-project/idlenv/lib/python3.8/site-packages (from beautifulsoup4>=4.4.1->newspaper3k) (2.4)\n",
      "Requirement already satisfied: six in /Users/odemunoogelohwohor/Documents/GitHub/CMU_SPR23/11785-deeplearning/IDL-finance-project/idlenv/lib/python3.8/site-packages (from feedfinder2>=0.0.4->newspaper3k) (1.16.0)\n",
      "Collecting sgmllib3k (from feedparser>=5.2.1->newspaper3k)\n",
      "  Downloading sgmllib3k-1.0.0.tar.gz (5.8 kB)\n",
      "  Installing build dependencies ... \u001b[?25ldone\n",
      "\u001b[?25h  Getting requirements to build wheel ... \u001b[?25ldone\n",
      "\u001b[?25h  Preparing metadata (pyproject.toml) ... \u001b[?25ldone\n",
      "\u001b[?25hRequirement already satisfied: click in /Users/odemunoogelohwohor/Documents/GitHub/CMU_SPR23/11785-deeplearning/IDL-finance-project/idlenv/lib/python3.8/site-packages (from nltk>=3.2.1->newspaper3k) (8.1.3)\n",
      "Requirement already satisfied: joblib in /Users/odemunoogelohwohor/Documents/GitHub/CMU_SPR23/11785-deeplearning/IDL-finance-project/idlenv/lib/python3.8/site-packages (from nltk>=3.2.1->newspaper3k) (1.2.0)\n",
      "Requirement already satisfied: regex>=2021.8.3 in /Users/odemunoogelohwohor/Documents/GitHub/CMU_SPR23/11785-deeplearning/IDL-finance-project/idlenv/lib/python3.8/site-packages (from nltk>=3.2.1->newspaper3k) (2023.3.23)\n",
      "Requirement already satisfied: tqdm in /Users/odemunoogelohwohor/Documents/GitHub/CMU_SPR23/11785-deeplearning/IDL-finance-project/idlenv/lib/python3.8/site-packages (from nltk>=3.2.1->newspaper3k) (4.65.0)\n",
      "Requirement already satisfied: charset-normalizer<4,>=2 in /Users/odemunoogelohwohor/Documents/GitHub/CMU_SPR23/11785-deeplearning/IDL-finance-project/idlenv/lib/python3.8/site-packages (from requests>=2.10.0->newspaper3k) (3.1.0)\n",
      "Requirement already satisfied: idna<4,>=2.5 in /Users/odemunoogelohwohor/Documents/GitHub/CMU_SPR23/11785-deeplearning/IDL-finance-project/idlenv/lib/python3.8/site-packages (from requests>=2.10.0->newspaper3k) (3.4)\n",
      "Requirement already satisfied: urllib3<1.27,>=1.21.1 in /Users/odemunoogelohwohor/Documents/GitHub/CMU_SPR23/11785-deeplearning/IDL-finance-project/idlenv/lib/python3.8/site-packages (from requests>=2.10.0->newspaper3k) (1.26.15)\n",
      "Requirement already satisfied: certifi>=2017.4.17 in /Users/odemunoogelohwohor/Documents/GitHub/CMU_SPR23/11785-deeplearning/IDL-finance-project/idlenv/lib/python3.8/site-packages (from requests>=2.10.0->newspaper3k) (2022.12.7)\n",
      "Collecting requests-file>=1.4 (from tldextract>=2.0.1->newspaper3k)\n",
      "  Downloading requests_file-1.5.1-py2.py3-none-any.whl (3.7 kB)\n",
      "Requirement already satisfied: filelock>=3.0.8 in /Users/odemunoogelohwohor/Documents/GitHub/CMU_SPR23/11785-deeplearning/IDL-finance-project/idlenv/lib/python3.8/site-packages (from tldextract>=2.0.1->newspaper3k) (3.11.0)\n",
      "Building wheels for collected packages: tinysegmenter, feedfinder2, jieba3k, sgmllib3k\n",
      "  Building wheel for tinysegmenter (pyproject.toml) ... \u001b[?25ldone\n",
      "\u001b[?25h  Created wheel for tinysegmenter: filename=tinysegmenter-0.3-py3-none-any.whl size=13541 sha256=c933cd64702cba78ba73090b2759576614aa4300bc66669eeca55c8667a9fa36\n",
      "  Stored in directory: /Users/odemunoogelohwohor/Library/Caches/pip/wheels/99/74/83/8fac1c8d9c648cfabebbbffe97a889f6624817f3aa0bbe6c09\n",
      "  Building wheel for feedfinder2 (pyproject.toml) ... \u001b[?25ldone\n",
      "\u001b[?25h  Created wheel for feedfinder2: filename=feedfinder2-0.0.4-py3-none-any.whl size=3341 sha256=e975f83ad471b139679075bf0dc53ccafcb3e13d89f04a0ed7ebdd46a48b6b14\n",
      "  Stored in directory: /Users/odemunoogelohwohor/Library/Caches/pip/wheels/b6/09/68/a9f15498ac02c23dde29f18745bc6a6f574ba4ab41861a3575\n",
      "  Building wheel for jieba3k (pyproject.toml) ... \u001b[?25ldone\n",
      "\u001b[?25h  Created wheel for jieba3k: filename=jieba3k-0.35.1-py3-none-any.whl size=7398382 sha256=93d48caef2ca6b6fe30821779bc87a18cd986ec2194f8ac3eaadd33ebb407417\n",
      "  Stored in directory: /Users/odemunoogelohwohor/Library/Caches/pip/wheels/1f/7e/0c/54f3b0f5164278677899f2db08f2b07943ce2d024a3c862afb\n",
      "  Building wheel for sgmllib3k (pyproject.toml) ... \u001b[?25ldone\n",
      "\u001b[?25h  Created wheel for sgmllib3k: filename=sgmllib3k-1.0.0-py3-none-any.whl size=6046 sha256=629d21c44b3f16fea147d3bea762b118943bded0384fa75be54b259e564dceff\n",
      "  Stored in directory: /Users/odemunoogelohwohor/Library/Caches/pip/wheels/83/63/2f/117884c3b19d46b64d3d61690333aa80c88dc14050e269c546\n",
      "Successfully built tinysegmenter feedfinder2 jieba3k sgmllib3k\n",
      "Installing collected packages: tinysegmenter, sgmllib3k, jieba3k, feedparser, cssselect, requests-file, feedfinder2, tldextract, newspaper3k\n",
      "Successfully installed cssselect-1.2.0 feedfinder2-0.0.4 feedparser-6.0.10 jieba3k-0.35.1 newspaper3k-0.2.8 requests-file-1.5.1 sgmllib3k-1.0.0 tinysegmenter-0.3 tldextract-3.4.0\n"
     ]
    }
   ],
   "source": [
    "!pip3 install newspaper3k"
   ]
  },
  {
   "cell_type": "code",
   "execution_count": 3,
   "metadata": {},
   "outputs": [],
   "source": [
    "import newspaper\n",
    "from newspaper import Config"
   ]
  },
  {
   "cell_type": "code",
   "execution_count": 4,
   "metadata": {},
   "outputs": [],
   "source": [
    "# Set up config to scrape financial news sites\n",
    "config = Config()\n",
    "config.browser_user_agent = 'Mozilla/5.0 (Windows NT 10.0; Win64; x64) AppleWebKit/537.36 (KHTML, like Gecko) Chrome/58.0.3029.110 Safari/537.3'"
   ]
  },
  {
   "cell_type": "code",
   "execution_count": 7,
   "metadata": {},
   "outputs": [],
   "source": [
    "# Define stock symbol and date range\n",
    "stock_symbol = 'ZM'\n",
    "start_date = '2020-01-01'\n",
    "end_date = '2022-12-31'\n",
    "\n",
    "# Define news sources to scrape\n",
    "news_sources = ['https://www.bloomberg.com/']\n",
    "\n",
    "# Scrape news headlines for stock symbol\n",
    "for source in news_sources:\n",
    "    paper = newspaper.build(source, config=config)\n",
    "    for article in paper.articles:\n",
    "        if stock_symbol in article.url and start_date <= article.publish_date <= end_date:\n",
    "            print(\"in\")\n",
    "            article.download()\n",
    "            article.parse()\n",
    "            print(article.title)"
   ]
  },
  {
   "attachments": {},
   "cell_type": "markdown",
   "metadata": {},
   "source": [
    "# beautiful soup"
   ]
  },
  {
   "cell_type": "code",
   "execution_count": 4,
   "metadata": {},
   "outputs": [
    {
     "name": "stdout",
     "output_type": "stream",
     "text": [
      "https://www.benzinga.com/news/23/03/31189761/zoom-unexpectedly-ousts-president-greg-tomb-a-former-google-executive\n",
      "https://www.benzinga.com/news/23/03/31189761/zoom-unexpectedly-ousts-president-greg-tomb-a-former-google-executive\n",
      "Zoom Unexpectedly Ousts President Greg Tomb, A Former Google Executive\n",
      "Zoom Unexpectedly Ousts President Greg Tomb, A Former Google Executive\n"
     ]
    }
   ],
   "source": [
    "import requests\n",
    "from bs4 import BeautifulSoup\n",
    "from datetime import datetime, timedelta\n",
    "\n",
    "# Define the stock you want to scrape news for\n",
    "stock = \"ZM\"\n",
    "\n",
    "# Define the start and end dates for the news articles\n",
    "start_date = datetime(2023, 3, 27)\n",
    "end_date = datetime(2023, 3, 28)\n",
    "\n",
    "# Define the base URL for the news site you want to scrape\n",
    "base_url = \"https://www.benzinga.com\"\n",
    "\n",
    "# Create an empty list to store the headlines\n",
    "headlines = []\n",
    "\n",
    "# Loop through each day in the date range\n",
    "while start_date <= end_date:\n",
    "\n",
    "    # Format the date in the correct format for the URL\n",
    "    date_str = start_date.strftime(\"%Y-%m-%d\")\n",
    "\n",
    "    # Construct the URL for the news page for the given date and stock\n",
    "    url = 'https://www.benzinga.com/news/23/03/31189761/zoom-unexpectedly-ousts-president-greg-tomb-a-former-google-executive' #f\"{base_url}/stock/{stock}/news/all/{date_str}\"\n",
    "\n",
    "    print(url)\n",
    "\n",
    "    # Send a request to the URL and get the HTML response\n",
    "    response = requests.get(url)\n",
    "    soup = BeautifulSoup(response.content, \"html.parser\")\n",
    "\n",
    "    # Find all the headlines on the page and append them to the headlines list\n",
    "    for headline in soup.find_all(\"h1\", class_=\"sc-fKVqWL bmZDfz mb-4 layout-title\"):\n",
    "        headlines.append(headline.get_text().strip())\n",
    "\n",
    "    # Move to the next day in the date range\n",
    "    start_date += timedelta(days=1)\n",
    "\n",
    "# Print out the headlines\n",
    "for headline in headlines:\n",
    "    print(headline)\n"
   ]
  },
  {
   "cell_type": "code",
   "execution_count": 59,
   "metadata": {},
   "outputs": [
    {
     "name": "stdout",
     "output_type": "stream",
     "text": [
      "https://www.benzinga.com/quote/ZM\n",
      "https://www.benzinga.com/quote/ZM\n"
     ]
    }
   ],
   "source": [
    "import requests\n",
    "from bs4 import BeautifulSoup\n",
    "from datetime import datetime, timedelta\n",
    "\n",
    "# Define the stock you want to scrape news for\n",
    "stock = \"ZM\"\n",
    "\n",
    "# Define the start and end dates for the news articles\n",
    "start_date = datetime(2023, 3, 27)\n",
    "end_date = datetime(2023, 3, 28)\n",
    "\n",
    "# Define the base URL for the news site you want to scrape\n",
    "base_url = \"https://www.benzinga.com\"\n",
    "\n",
    "# Create an empty list to store the headlines\n",
    "headlines = []\n",
    "\n",
    "# Loop through each day in the date range\n",
    "while start_date <= end_date:\n",
    "\n",
    "    # Format the date in the correct format for the URL\n",
    "    date_str = start_date.strftime(\"%Y-%m-%d\")\n",
    "\n",
    "    # Construct the URL for the news page for the given date and stock\n",
    "    url = f\"{base_url}/quote/{stock}\"\n",
    "\n",
    "    print(url)\n",
    "\n",
    "    # Send a request to the URL and get the HTML response\n",
    "    response = requests.get(url)\n",
    "    soup = BeautifulSoup(response.content, \"html.parser\")\n",
    "\n",
    "    # Find all the headlines on the page and append them to the headlines list\n",
    "    # for headline in soup.find_all(\"h1\", class_=\"sc-fKVqWL bmZDfz mb-4 layout-title\"):\n",
    "    #     headlines.append(headline.get_text().strip())\n",
    "\n",
    "    headlines = [headline.a.text.strip() for headline in soup.findAll('div', {'class': 'sc-kKTuYo fjisEv py-2 content-headline'})]\n",
    "    dates = [date.span.text.strip() for date in soup.findAll('div', {'class': 'text-grey text-sm'})]\n",
    "\n",
    "    # Move to the next day in the date range\n",
    "    start_date += timedelta(days=1)\n",
    "\n",
    "# Print out the headlines\n",
    "for headline in headlines:\n",
    "    print(headline)\n"
   ]
  },
  {
   "cell_type": "code",
   "execution_count": 14,
   "metadata": {},
   "outputs": [
    {
     "name": "stdout",
     "output_type": "stream",
     "text": [
      "https://www.benzinga.com/quote/ZM\n"
     ]
    }
   ],
   "source": [
    "import requests\n",
    "from bs4 import BeautifulSoup\n",
    "from datetime import datetime, timedelta\n",
    "\n",
    "# Define the stock you want to scrape news for\n",
    "stock = \"ZM\"\n",
    "\n",
    "# Define the start and end dates for the news articles\n",
    "start_date = datetime(2023, 3, 27)\n",
    "end_date = datetime(2023, 3, 28)\n",
    "\n",
    "# Define the base URL for the news site you want to scrape\n",
    "base_url = \"https://www.benzinga.com\"\n",
    "\n",
    "# Create an empty list to store the headlines\n",
    "# headlines = []\n",
    "\n",
    "\n",
    "# Construct the URL for the news page for the given date and stock\n",
    "url = f\"{base_url}/quote/{stock}\"\n",
    "\n",
    "print(url)\n",
    "\n",
    "# Send a request to the URL and get the HTML response\n",
    "response = requests.get(url)\n",
    "soup = BeautifulSoup(response.content, \"html.parser\")\n",
    "\n",
    "headlines = [headline.a.text.strip() for headline in soup.find_all('div', class_='sc-lliPmu hOJeUd py-2 content-headline')]\n",
    "# dates = [span.text for span in soup.find_all('span', class_='text-grey-dark')]\n",
    "\n",
    "\n"
   ]
  },
  {
   "cell_type": "code",
   "execution_count": 15,
   "metadata": {},
   "outputs": [
    {
     "name": "stdout",
     "output_type": "stream",
     "text": [
      "['3 days ago', 'Mar 28, 2023, 3:25PM', 'Mar 17, 2023, 10:22AM', 'Mar 4, 2023, 4:32PM', 'Mar 3, 2023, 6:59AM', 'Feb 28, 2023, 11:12AM', 'Feb 28, 2023, 8:53AM', '3 days ago', 'Mar 27, 2023, 8:01AM', 'Mar 16, 2023, 8:00AM', 'Feb 28, 2023, 9:31AM', 'Feb 27, 2023, 4:05PM', 'Feb 1, 2023, 4:05PM', 'Jan 5, 2023, 4:05PM', 'Nov 30, 2022, 12:42PM', 'Nov 22, 2022, 10:44AM', 'Nov 21, 2022, 4:05PM', 'Nov 9, 2022, 12:00PM', 'Nov 8, 2022, 12:00PM', 'Nov 7, 2022, 4:30PM', 'Nov 1, 2022, 4:05PM', 'Oct 19, 2022, 4:05PM', 'Oct 18, 2022, 9:00AM', 'Aug 24, 2022, 10:44AM', 'Aug 23, 2022, 10:59AM', 'Aug 22, 2022, 4:05PM', 'Aug 1, 2022, 4:05PM', 'Jun 22, 2022, 9:00AM', 'Jun 21, 2022, 12:00PM', 'Jun 8, 2022, 8:45AM', 'Jun 6, 2022, 4:05PM', 'Jun 6, 2022, 9:00AM', 'Jun 2, 2022, 9:00AM', 'Jun 1, 2022, 8:45AM', 'May 24, 2022, 9:31AM', 'May 23, 2022, 4:05PM', 'May 19, 2022, 9:00AM', 'May 18, 2022, 4:01PM', 'May 12, 2022, 9:02AM', 'May 2, 2022, 4:05PM', '6 hours ago', '8 hours ago', '10 hours ago', '11 hours ago', '2 days ago', '4 days ago', 'Apr 5, 2023, 4:39PM', 'Apr 4, 2023, 3:12PM', 'Apr 4, 2023, 7:37AM', 'Apr 3, 2023, 11:02AM', 'Apr 2, 2023, 3:45PM', 'Mar 31, 2023, 9:30AM', 'Mar 30, 2023, 5:10PM', 'Mar 24, 2023, 3:36AM', 'Mar 22, 2023, 11:26AM', 'Mar 21, 2023, 10:23PM', 'Mar 21, 2023, 2:59PM', 'Mar 20, 2023, 10:53AM', 'Mar 16, 2023, 1:29PM', 'Mar 14, 2023, 8:31PM', 'Mar 14, 2023, 3:10AM', 'Mar 13, 2023, 11:01AM', 'Mar 12, 2023, 3:23PM', 'Mar 10, 2023, 2:46PM', 'Mar 7, 2023, 9:51AM', 'Mar 7, 2023, 8:43AM', 'Mar 3, 2023, 11:14AM', 'Mar 3, 2023, 10:54AM', 'Mar 3, 2023, 9:16AM', 'Mar 3, 2023, 7:07AM', 'Mar 3, 2023, 6:59AM', 'Mar 2, 2023, 8:59AM', 'Mar 1, 2023, 8:24PM', '(EXPECTED)', '3 days ago', 'Mar 28, 2023, 3:25PM', 'Mar 17, 2023, 10:22AM', 'Mar 4, 2023, 4:32PM', 'Mar 3, 2023, 6:59AM', 'Feb 28, 2023, 11:12AM', 'Feb 28, 2023, 8:53AM', '3 days ago', 'Mar 27, 2023, 8:01AM', 'Mar 16, 2023, 8:00AM', 'Feb 28, 2023, 9:31AM', 'Feb 27, 2023, 4:05PM', 'Feb 1, 2023, 4:05PM', 'Jan 5, 2023, 4:05PM', 'Nov 30, 2022, 12:42PM', 'Nov 22, 2022, 10:44AM', 'Nov 21, 2022, 4:05PM', 'Nov 9, 2022, 12:00PM', 'Nov 8, 2022, 12:00PM', 'Nov 7, 2022, 4:30PM', 'Nov 1, 2022, 4:05PM', 'Oct 19, 2022, 4:05PM', 'Oct 18, 2022, 9:00AM', 'Aug 24, 2022, 10:44AM', 'Aug 23, 2022, 10:59AM', 'Aug 22, 2022, 4:05PM', 'Aug 1, 2022, 4:05PM', 'Jun 22, 2022, 9:00AM', 'Jun 21, 2022, 12:00PM', 'Jun 8, 2022, 8:45AM', 'Jun 6, 2022, 4:05PM', 'Jun 6, 2022, 9:00AM', 'Jun 2, 2022, 9:00AM', 'Jun 1, 2022, 8:45AM', 'May 24, 2022, 9:31AM', 'May 23, 2022, 4:05PM', 'May 19, 2022, 9:00AM', 'May 18, 2022, 4:01PM', 'May 12, 2022, 9:02AM', 'May 2, 2022, 4:05PM', '6 hours ago', '8 hours ago', '10 hours ago', '11 hours ago', '2 days ago', '4 days ago', 'Apr 5, 2023, 4:39PM', 'Apr 4, 2023, 3:12PM', 'Apr 4, 2023, 7:37AM', 'Apr 3, 2023, 11:02AM', 'Apr 2, 2023, 3:45PM', 'Mar 31, 2023, 9:30AM', 'Mar 30, 2023, 5:10PM', 'Mar 24, 2023, 3:36AM', 'Mar 22, 2023, 11:26AM', 'Mar 21, 2023, 10:23PM', 'Mar 21, 2023, 2:59PM', 'Mar 20, 2023, 10:53AM', 'Mar 16, 2023, 1:29PM', 'Mar 14, 2023, 8:31PM', 'Mar 14, 2023, 3:10AM', 'Mar 13, 2023, 11:01AM', 'Mar 12, 2023, 3:23PM', 'Mar 10, 2023, 2:46PM', 'Mar 7, 2023, 9:51AM', 'Mar 7, 2023, 8:43AM', 'Mar 3, 2023, 11:14AM', 'Mar 3, 2023, 10:54AM', 'Mar 3, 2023, 9:16AM', 'Mar 3, 2023, 7:07AM', 'Mar 3, 2023, 6:59AM', 'Mar 2, 2023, 8:59AM', 'Mar 1, 2023, 8:24PM', '(EXPECTED)', '3 days ago', 'Mar 28, 2023, 3:25PM', 'Mar 17, 2023, 10:22AM', 'Mar 4, 2023, 4:32PM', 'Mar 3, 2023, 6:59AM', 'Feb 28, 2023, 11:12AM', 'Feb 28, 2023, 8:53AM', '3 days ago', 'Mar 27, 2023, 8:01AM', 'Mar 16, 2023, 8:00AM', 'Feb 28, 2023, 9:31AM', 'Feb 27, 2023, 4:05PM', 'Feb 1, 2023, 4:05PM', 'Jan 5, 2023, 4:05PM', 'Nov 30, 2022, 12:42PM', 'Nov 22, 2022, 10:44AM', 'Nov 21, 2022, 4:05PM', 'Nov 9, 2022, 12:00PM', 'Nov 8, 2022, 12:00PM', 'Nov 7, 2022, 4:30PM', 'Nov 1, 2022, 4:05PM', 'Oct 19, 2022, 4:05PM', 'Oct 18, 2022, 9:00AM', 'Aug 24, 2022, 10:44AM', 'Aug 23, 2022, 10:59AM', 'Aug 22, 2022, 4:05PM', 'Aug 1, 2022, 4:05PM', 'Jun 22, 2022, 9:00AM', 'Jun 21, 2022, 12:00PM', 'Jun 8, 2022, 8:45AM', 'Jun 6, 2022, 4:05PM', 'Jun 6, 2022, 9:00AM', 'Jun 2, 2022, 9:00AM', 'Jun 1, 2022, 8:45AM', 'May 24, 2022, 9:31AM', 'May 23, 2022, 4:05PM', 'May 19, 2022, 9:00AM', 'May 18, 2022, 4:01PM', 'May 12, 2022, 9:02AM', 'May 2, 2022, 4:05PM', '6 hours ago', '8 hours ago', '10 hours ago', '11 hours ago', '2 days ago', '4 days ago', 'Apr 5, 2023, 4:39PM', 'Apr 4, 2023, 3:12PM', 'Apr 4, 2023, 7:37AM', 'Apr 3, 2023, 11:02AM', 'Apr 2, 2023, 3:45PM', 'Mar 31, 2023, 9:30AM', 'Mar 30, 2023, 5:10PM', 'Mar 24, 2023, 3:36AM', 'Mar 22, 2023, 11:26AM', 'Mar 21, 2023, 10:23PM', 'Mar 21, 2023, 2:59PM', 'Mar 20, 2023, 10:53AM', 'Mar 16, 2023, 1:29PM', 'Mar 14, 2023, 8:31PM', 'Mar 14, 2023, 3:10AM', 'Mar 13, 2023, 11:01AM', 'Mar 12, 2023, 3:23PM', 'Mar 10, 2023, 2:46PM', 'Mar 7, 2023, 9:51AM', 'Mar 7, 2023, 8:43AM', 'Mar 3, 2023, 11:14AM', 'Mar 3, 2023, 10:54AM', 'Mar 3, 2023, 9:16AM', 'Mar 3, 2023, 7:07AM', 'Mar 3, 2023, 6:59AM', 'Mar 2, 2023, 8:59AM', 'Mar 1, 2023, 8:24PM', '(EXPECTED)', '3 days ago', 'Mar 28, 2023, 3:25PM', 'Mar 17, 2023, 10:22AM', 'Mar 4, 2023, 4:32PM', 'Mar 3, 2023, 6:59AM', 'Feb 28, 2023, 11:12AM', 'Feb 28, 2023, 8:53AM', '3 days ago', 'Mar 27, 2023, 8:01AM', 'Mar 16, 2023, 8:00AM', 'Feb 28, 2023, 9:31AM', 'Feb 27, 2023, 4:05PM', 'Feb 1, 2023, 4:05PM', 'Jan 5, 2023, 4:05PM', 'Nov 30, 2022, 12:42PM', 'Nov 22, 2022, 10:44AM', 'Nov 21, 2022, 4:05PM', 'Nov 9, 2022, 12:00PM', 'Nov 8, 2022, 12:00PM', 'Nov 7, 2022, 4:30PM', 'Nov 1, 2022, 4:05PM', 'Oct 19, 2022, 4:05PM', 'Oct 18, 2022, 9:00AM', 'Aug 24, 2022, 10:44AM', 'Aug 23, 2022, 10:59AM', 'Aug 22, 2022, 4:05PM', 'Aug 1, 2022, 4:05PM', 'Jun 22, 2022, 9:00AM', 'Jun 21, 2022, 12:00PM', 'Jun 8, 2022, 8:45AM', 'Jun 6, 2022, 4:05PM', 'Jun 6, 2022, 9:00AM', 'Jun 2, 2022, 9:00AM', 'Jun 1, 2022, 8:45AM', 'May 24, 2022, 9:31AM', 'May 23, 2022, 4:05PM', 'May 19, 2022, 9:00AM', 'May 18, 2022, 4:01PM', 'May 12, 2022, 9:02AM', 'May 2, 2022, 4:05PM', '6 hours ago', '8 hours ago', '10 hours ago', '11 hours ago', '2 days ago', '4 days ago', 'Apr 5, 2023, 4:39PM', 'Apr 4, 2023, 3:12PM', 'Apr 4, 2023, 7:37AM', 'Apr 3, 2023, 11:02AM', 'Apr 2, 2023, 3:45PM', 'Mar 31, 2023, 9:30AM', 'Mar 30, 2023, 5:10PM', 'Mar 24, 2023, 3:36AM', 'Mar 22, 2023, 11:26AM', 'Mar 21, 2023, 10:23PM', 'Mar 21, 2023, 2:59PM', 'Mar 20, 2023, 10:53AM', 'Mar 16, 2023, 1:29PM', 'Mar 14, 2023, 8:31PM', 'Mar 14, 2023, 3:10AM', 'Mar 13, 2023, 11:01AM', 'Mar 12, 2023, 3:23PM', 'Mar 10, 2023, 2:46PM', 'Mar 7, 2023, 9:51AM', 'Mar 7, 2023, 8:43AM', 'Mar 3, 2023, 11:14AM', 'Mar 3, 2023, 10:54AM', 'Mar 3, 2023, 9:16AM', 'Mar 3, 2023, 7:07AM', 'Mar 3, 2023, 6:59AM', 'Mar 2, 2023, 8:59AM', 'Mar 1, 2023, 8:24PM', '(EXPECTED)', '3 days ago', 'Mar 28, 2023, 3:25PM', 'Mar 17, 2023, 10:22AM', 'Mar 4, 2023, 4:32PM', 'Mar 3, 2023, 6:59AM', 'Feb 28, 2023, 11:12AM', 'Feb 28, 2023, 8:53AM', '3 days ago', 'Mar 27, 2023, 8:01AM', 'Mar 16, 2023, 8:00AM', 'Feb 28, 2023, 9:31AM', 'Feb 27, 2023, 4:05PM', 'Feb 1, 2023, 4:05PM', 'Jan 5, 2023, 4:05PM', 'Nov 30, 2022, 12:42PM', 'Nov 22, 2022, 10:44AM', 'Nov 21, 2022, 4:05PM', 'Nov 9, 2022, 12:00PM', 'Nov 8, 2022, 12:00PM', 'Nov 7, 2022, 4:30PM', 'Nov 1, 2022, 4:05PM', 'Oct 19, 2022, 4:05PM', 'Oct 18, 2022, 9:00AM', 'Aug 24, 2022, 10:44AM', 'Aug 23, 2022, 10:59AM', 'Aug 22, 2022, 4:05PM', 'Aug 1, 2022, 4:05PM', 'Jun 22, 2022, 9:00AM', 'Jun 21, 2022, 12:00PM', 'Jun 8, 2022, 8:45AM', 'Jun 6, 2022, 4:05PM', 'Jun 6, 2022, 9:00AM', 'Jun 2, 2022, 9:00AM', 'Jun 1, 2022, 8:45AM', 'May 24, 2022, 9:31AM', 'May 23, 2022, 4:05PM', 'May 19, 2022, 9:00AM', 'May 18, 2022, 4:01PM', 'May 12, 2022, 9:02AM', 'May 2, 2022, 4:05PM', '6 hours ago', '8 hours ago', '10 hours ago', '11 hours ago', '2 days ago', '4 days ago', 'Apr 5, 2023, 4:39PM', 'Apr 4, 2023, 3:12PM', 'Apr 4, 2023, 7:37AM', 'Apr 3, 2023, 11:02AM', 'Apr 2, 2023, 3:45PM', 'Mar 31, 2023, 9:30AM', 'Mar 30, 2023, 5:10PM', 'Mar 24, 2023, 3:36AM', 'Mar 22, 2023, 11:26AM', 'Mar 21, 2023, 10:23PM', 'Mar 21, 2023, 2:59PM', 'Mar 20, 2023, 10:53AM', 'Mar 16, 2023, 1:29PM', 'Mar 14, 2023, 8:31PM', 'Mar 14, 2023, 3:10AM', 'Mar 13, 2023, 11:01AM', 'Mar 12, 2023, 3:23PM', 'Mar 10, 2023, 2:46PM', 'Mar 7, 2023, 9:51AM', 'Mar 7, 2023, 8:43AM', 'Mar 3, 2023, 11:14AM', 'Mar 3, 2023, 10:54AM', 'Mar 3, 2023, 9:16AM', 'Mar 3, 2023, 7:07AM', 'Mar 3, 2023, 6:59AM', 'Mar 2, 2023, 8:59AM', 'Mar 1, 2023, 8:24PM', '(EXPECTED)', '3 days ago', 'Mar 28, 2023, 3:25PM', 'Mar 17, 2023, 10:22AM', 'Mar 4, 2023, 4:32PM', 'Mar 3, 2023, 6:59AM', 'Feb 28, 2023, 11:12AM', 'Feb 28, 2023, 8:53AM', '3 days ago', 'Mar 27, 2023, 8:01AM', 'Mar 16, 2023, 8:00AM', 'Feb 28, 2023, 9:31AM', 'Feb 27, 2023, 4:05PM', 'Feb 1, 2023, 4:05PM', 'Jan 5, 2023, 4:05PM', 'Nov 30, 2022, 12:42PM', 'Nov 22, 2022, 10:44AM', 'Nov 21, 2022, 4:05PM', 'Nov 9, 2022, 12:00PM', 'Nov 8, 2022, 12:00PM', 'Nov 7, 2022, 4:30PM', 'Nov 1, 2022, 4:05PM', 'Oct 19, 2022, 4:05PM', 'Oct 18, 2022, 9:00AM', 'Aug 24, 2022, 10:44AM', 'Aug 23, 2022, 10:59AM', 'Aug 22, 2022, 4:05PM', 'Aug 1, 2022, 4:05PM', 'Jun 22, 2022, 9:00AM', 'Jun 21, 2022, 12:00PM', 'Jun 8, 2022, 8:45AM', 'Jun 6, 2022, 4:05PM', 'Jun 6, 2022, 9:00AM', 'Jun 2, 2022, 9:00AM', 'Jun 1, 2022, 8:45AM', 'May 24, 2022, 9:31AM', 'May 23, 2022, 4:05PM', 'May 19, 2022, 9:00AM', 'May 18, 2022, 4:01PM', 'May 12, 2022, 9:02AM', 'May 2, 2022, 4:05PM', '6 hours ago', '8 hours ago', '10 hours ago', '11 hours ago', '2 days ago', '4 days ago', 'Apr 5, 2023, 4:39PM', 'Apr 4, 2023, 3:12PM', 'Apr 4, 2023, 7:37AM', 'Apr 3, 2023, 11:02AM', 'Apr 2, 2023, 3:45PM', 'Mar 31, 2023, 9:30AM', 'Mar 30, 2023, 5:10PM', 'Mar 24, 2023, 3:36AM', 'Mar 22, 2023, 11:26AM', 'Mar 21, 2023, 10:23PM', 'Mar 21, 2023, 2:59PM', 'Mar 20, 2023, 10:53AM', 'Mar 16, 2023, 1:29PM', 'Mar 14, 2023, 8:31PM', 'Mar 14, 2023, 3:10AM', 'Mar 13, 2023, 11:01AM', 'Mar 12, 2023, 3:23PM', 'Mar 10, 2023, 2:46PM', 'Mar 7, 2023, 9:51AM', 'Mar 7, 2023, 8:43AM', 'Mar 3, 2023, 11:14AM', 'Mar 3, 2023, 10:54AM', 'Mar 3, 2023, 9:16AM', 'Mar 3, 2023, 7:07AM', 'Mar 3, 2023, 6:59AM', 'Mar 2, 2023, 8:59AM', 'Mar 1, 2023, 8:24PM', '(EXPECTED)', '3 days ago', 'Mar 28, 2023, 3:25PM', 'Mar 17, 2023, 10:22AM', 'Mar 4, 2023, 4:32PM', 'Mar 3, 2023, 6:59AM', 'Feb 28, 2023, 11:12AM', 'Feb 28, 2023, 8:53AM', '3 days ago', 'Mar 27, 2023, 8:01AM', 'Mar 16, 2023, 8:00AM', 'Feb 28, 2023, 9:31AM', 'Feb 27, 2023, 4:05PM', 'Feb 1, 2023, 4:05PM', 'Jan 5, 2023, 4:05PM', 'Nov 30, 2022, 12:42PM', 'Nov 22, 2022, 10:44AM', 'Nov 21, 2022, 4:05PM', 'Nov 9, 2022, 12:00PM', 'Nov 8, 2022, 12:00PM', 'Nov 7, 2022, 4:30PM', 'Nov 1, 2022, 4:05PM', 'Oct 19, 2022, 4:05PM', 'Oct 18, 2022, 9:00AM', 'Aug 24, 2022, 10:44AM', 'Aug 23, 2022, 10:59AM', 'Aug 22, 2022, 4:05PM', 'Aug 1, 2022, 4:05PM', 'Jun 22, 2022, 9:00AM', 'Jun 21, 2022, 12:00PM', 'Jun 8, 2022, 8:45AM', 'Jun 6, 2022, 4:05PM', 'Jun 6, 2022, 9:00AM', 'Jun 2, 2022, 9:00AM', 'Jun 1, 2022, 8:45AM', 'May 24, 2022, 9:31AM', 'May 23, 2022, 4:05PM', 'May 19, 2022, 9:00AM', 'May 18, 2022, 4:01PM', 'May 12, 2022, 9:02AM', 'May 2, 2022, 4:05PM', '6 hours ago', '8 hours ago', '10 hours ago', '11 hours ago', '2 days ago', '4 days ago', 'Apr 5, 2023, 4:39PM', 'Apr 4, 2023, 3:12PM', 'Apr 4, 2023, 7:37AM', 'Apr 3, 2023, 11:02AM', 'Apr 2, 2023, 3:45PM', 'Mar 31, 2023, 9:30AM', 'Mar 30, 2023, 5:10PM', 'Mar 24, 2023, 3:36AM', 'Mar 22, 2023, 11:26AM', 'Mar 21, 2023, 10:23PM', 'Mar 21, 2023, 2:59PM', 'Mar 20, 2023, 10:53AM', 'Mar 16, 2023, 1:29PM', 'Mar 14, 2023, 8:31PM', 'Mar 14, 2023, 3:10AM', 'Mar 13, 2023, 11:01AM', 'Mar 12, 2023, 3:23PM', 'Mar 10, 2023, 2:46PM', 'Mar 7, 2023, 9:51AM', 'Mar 7, 2023, 8:43AM', 'Mar 3, 2023, 11:14AM', 'Mar 3, 2023, 10:54AM', 'Mar 3, 2023, 9:16AM', 'Mar 3, 2023, 7:07AM', 'Mar 3, 2023, 6:59AM', 'Mar 2, 2023, 8:59AM', 'Mar 1, 2023, 8:24PM', '(EXPECTED)', '3 days ago', 'Mar 28, 2023, 3:25PM', 'Mar 17, 2023, 10:22AM', 'Mar 4, 2023, 4:32PM', 'Mar 3, 2023, 6:59AM', 'Feb 28, 2023, 11:12AM', 'Feb 28, 2023, 8:53AM', '3 days ago', 'Mar 27, 2023, 8:01AM', 'Mar 16, 2023, 8:00AM', 'Feb 28, 2023, 9:31AM', 'Feb 27, 2023, 4:05PM', 'Feb 1, 2023, 4:05PM', 'Jan 5, 2023, 4:05PM', 'Nov 30, 2022, 12:42PM', 'Nov 22, 2022, 10:44AM', 'Nov 21, 2022, 4:05PM', 'Nov 9, 2022, 12:00PM', 'Nov 8, 2022, 12:00PM', 'Nov 7, 2022, 4:30PM', 'Nov 1, 2022, 4:05PM', 'Oct 19, 2022, 4:05PM', 'Oct 18, 2022, 9:00AM', 'Aug 24, 2022, 10:44AM', 'Aug 23, 2022, 10:59AM', 'Aug 22, 2022, 4:05PM', 'Aug 1, 2022, 4:05PM', 'Jun 22, 2022, 9:00AM', 'Jun 21, 2022, 12:00PM', 'Jun 8, 2022, 8:45AM', 'Jun 6, 2022, 4:05PM', 'Jun 6, 2022, 9:00AM', 'Jun 2, 2022, 9:00AM', 'Jun 1, 2022, 8:45AM', 'May 24, 2022, 9:31AM', 'May 23, 2022, 4:05PM', 'May 19, 2022, 9:00AM', 'May 18, 2022, 4:01PM', 'May 12, 2022, 9:02AM', 'May 2, 2022, 4:05PM', '6 hours ago', '8 hours ago', '10 hours ago', '11 hours ago', '2 days ago', '4 days ago', 'Apr 5, 2023, 4:39PM', 'Apr 4, 2023, 3:12PM', 'Apr 4, 2023, 7:37AM', 'Apr 3, 2023, 11:02AM', 'Apr 2, 2023, 3:45PM', 'Mar 31, 2023, 9:30AM', 'Mar 30, 2023, 5:10PM', 'Mar 24, 2023, 3:36AM', 'Mar 22, 2023, 11:26AM', 'Mar 21, 2023, 10:23PM', 'Mar 21, 2023, 2:59PM', 'Mar 20, 2023, 10:53AM', 'Mar 16, 2023, 1:29PM', 'Mar 14, 2023, 8:31PM', 'Mar 14, 2023, 3:10AM', 'Mar 13, 2023, 11:01AM', 'Mar 12, 2023, 3:23PM', 'Mar 10, 2023, 2:46PM', 'Mar 7, 2023, 9:51AM', 'Mar 7, 2023, 8:43AM', 'Mar 3, 2023, 11:14AM', 'Mar 3, 2023, 10:54AM', 'Mar 3, 2023, 9:16AM', 'Mar 3, 2023, 7:07AM', 'Mar 3, 2023, 6:59AM', 'Mar 2, 2023, 8:59AM', 'Mar 1, 2023, 8:24PM', '(EXPECTED)']\n"
     ]
    }
   ],
   "source": [
    "print(dates)"
   ]
  },
  {
   "cell_type": "code",
   "execution_count": 16,
   "metadata": {},
   "outputs": [
    {
     "name": "stdout",
     "output_type": "stream",
     "text": [
      "['TDCX Inc. Launches Foundation Focusing On Digital Inclusion', 'Zoom Video And 3 Other Stocks Insiders Are Selling', \"Ulta Beauty Is A Recession-Proof 'Arms Dealer' For Today's On-Screen Reality: Josh Brown\", 'Analyst Hangs Up On RingCentral With Zoom Waiting To Pounce', \"Prince Harry Says Cannabis Helped Him Cope With Mental Health Struggles & Ayahuasca Was A 'Release'\", 'Zoom Unexpectedly Ousts President Greg Tomb, A Former Google Executive', \"Zoom's Growth Stalls In 'More Challenging Macro Environment': What 5 Analysts Say Comes Next After Q4 Earnings\", \"Zoom Shares Are Trading Higher: What's Going On?\", 'Putting people at the heart of hybrid work: Zoom to acquire Workvivo to bolster the employee experience offering', 'Zoom announces the expansion of Zoom IQ, the smart companion that empowers collaboration and unlocks potential', \"Play Ball! Major League Baseball and Zoom Announce First-of-its-kind Partnership; Zoom Contact Center to Power 'Zoom Replay Operations Center'\", 'Thinking about trading options or stock in Zoom Video, Target, Costco, Apple, or NVIDIA?', 'Zoom Video Communications Reports Fourth Quarter and Fiscal Year 2023 Financial Results', 'Zoom to Release Financial Results for the Fourth Quarter and Full Fiscal Year 2023', 'Zoom Appoints Cindy Hoots to Board of Directors', 'Zoom named a Leader in the 2022 Gartner® Magic Quadrant™ for UCaaS, Worldwide', 'Thinking about buying stock in Palisade Bio, Meta Materials, PayPal, Zoom Video, or Gap?', 'Zoom Video Communications Reports Financial Results for the Third Quarter of Fiscal Year 2023', 'Cvent and Zoom Team Up to Deliver World-Class Hybrid Events', 'Zoomtopia 2022: New Innovations to Power Modern Work Experiences', 'AMC Theatres® and Zoom Partner to Bring Zoom Rooms to the Comfort and State-of-the-Art Sight and Sound Technology of AMC Movie Theatres', 'Zoom to Release Financial Results for the Third Quarter of Fiscal Year 2023', 'Zoom To Hold Investor Day During Zoomtopia 2022', 'Zoom Accelerates Global Productivity and Growth With Effective Communication From Grammarly Business', 'Thinking about trading options or stock in Occidental Petroleum, Advanced Micro Devices, Mosaic, Zoom Video, or Kroger?', 'Thinking about trading options or stock in Zoom Video, Occidental Petroleum, MicroStrategy, Twitter, or JD.Com?', 'Zoom Video Communications Reports Financial Results for the Second Quarter of Fiscal Year 2023', 'Zoom to Release Financial Results for the Second Quarter of Fiscal Year 2023', 'Zoom Unveils Platform Evolution; Launches New Packaging and Translation Feature', 'Zoom Expands Developer Platform with Launch of Zoom Apps SDK', 'How Software as a Service (SaaS) Market Services Have Become Beneficial for the Public Sector', 'Zoom Hires Greg Tomb as President', 'Zoom and Genesys Announce Strategic Agreement Uniquely Positioned Around Zoom Phone to Improve Collaboration and Customer Experiences', 'Zoom Hires Matthew Saxon as Chief People Officer', 'Software as a Service (SaaS) Market Estimated To Reach $208 Billion By 2023', 'Thinking about trading options or stock in Zoom Video, ConocoPhillips, Bank of America, Apple, or Walt Disney?', 'Zoom Video Communications Reports Financial Results for the First Quarter of Fiscal Year 2023', 'SaaS Software Currently Dominating The Cloud Computing Market, Especially In The Healthcare Industry', \"Zoom Announces Funding for Youth Mental Health Leaders at MTV Entertainment's Mental Health Youth Action Forum\", 'Zoom Drives Contact Center Expansion with Acquisition of Solvvy', 'Zoom to Release Financial Results for the First Quarter of Fiscal Year 2023', \"Zoom's Pain Will Continue To Be Microsoft's Gain\", 'Should You Accumulate Zoom Video Communications Inc (ZM) Stock Monday?', 'Zoom stock slips as Citi opens up downside catalyst watch', \"Analysts' Opinions Are Mixed on These Technology Stocks: My Size (MYSZ) and Zoom Video Communications (ZM)\", 'Recent Lessons', 'Zoom Video: An Unattractive Risk-Reward Profile', '7 Stocks That Will Get a Boost From Their Brutal Layoffs', '3 Tech Stocks to Avoid in 2023 If You Value Your Portfolio', 'Elliott Wave Technical Analysis: Zoom Video Communications Inc. - Tuesday, April 4', 'Should You Buy Zoom Video Communications Inc (ZM) Stock After it Has Gained 5.86% in a Week?', 'Republic First is not First Republic, and other examples of corporate confusion', 'Zoom Video: Tech Stock With Secular Growth, 25% Net Cash, 16x Earnings', 'Zoom Video Communications: Not Zooming In', '1 Stock That Profits From the Rise of Remote Work', 'Hit One out of the Park With This Internet Stock', \"3 Stocks That Could Rocket If a Major Recession Doesn't Materialize\", \"Microsoft's ChatGPT Ended Zoom Video's Growth Ambitions\", 'Can Zoom Video Communications Inc (ZM) Stock Rise to the Top of Technology Sector Monday?', 'What do the Fundamentals Predict for Zoom Video Communications Inc (ZM) Stock?', \"3 Disruptors to Invest In Before They're the Next Big Thing\", 'Analysts Offer Insights on Technology Companies: Zoom Video Communications (ZM), Match Group (MTCH) and Robinhood Markets (HOOD)', 'Is Zoom Video Communications Inc (ZM) Stock a Smart Investment Monday?', '7 Terrible Tech Stocks to Sell in March', 'Is it Time to Dump Zoom Video Communications Inc (ZM) Stock After it Has Fallen 5.58% in a Week?', 'The Only Way To Make Money Investing In Tech', 'DraftKings rallies after Argus turns bullish on earnings potential', 'Why Are Stocks Up Today?', 'ZM Stock Alert: What to Know as Zoom Unexpectedly Fires President', 'Zoom Video shares slip; Wall Street shrugs at firing of company president', 'Should You Buy Zoom Video Communications Inc (ZM) Stock Friday Morning?', \"Zoom Video terminates President's employment\", 'Zoom Video Communications Inc (ZM) Stock Is Down -6.81% This Week: Buy, Hold, or Sell?', '3 AI Stocks That Are Revolutionizing Education', 'TDCX Inc. Launches Foundation Focusing On Digital Inclusion', 'Zoom Video And 3 Other Stocks Insiders Are Selling', \"Ulta Beauty Is A Recession-Proof 'Arms Dealer' For Today's On-Screen Reality: Josh Brown\", 'Analyst Hangs Up On RingCentral With Zoom Waiting To Pounce', \"Prince Harry Says Cannabis Helped Him Cope With Mental Health Struggles & Ayahuasca Was A 'Release'\", 'Zoom Unexpectedly Ousts President Greg Tomb, A Former Google Executive', \"Zoom's Growth Stalls In 'More Challenging Macro Environment': What 5 Analysts Say Comes Next After Q4 Earnings\", \"Zoom Shares Are Trading Higher: What's Going On?\", 'Putting people at the heart of hybrid work: Zoom to acquire Workvivo to bolster the employee experience offering', 'Zoom announces the expansion of Zoom IQ, the smart companion that empowers collaboration and unlocks potential', \"Play Ball! Major League Baseball and Zoom Announce First-of-its-kind Partnership; Zoom Contact Center to Power 'Zoom Replay Operations Center'\", 'Thinking about trading options or stock in Zoom Video, Target, Costco, Apple, or NVIDIA?', 'Zoom Video Communications Reports Fourth Quarter and Fiscal Year 2023 Financial Results', 'Zoom to Release Financial Results for the Fourth Quarter and Full Fiscal Year 2023', 'Zoom Appoints Cindy Hoots to Board of Directors', 'Zoom named a Leader in the 2022 Gartner® Magic Quadrant™ for UCaaS, Worldwide', 'Thinking about buying stock in Palisade Bio, Meta Materials, PayPal, Zoom Video, or Gap?', 'Zoom Video Communications Reports Financial Results for the Third Quarter of Fiscal Year 2023', 'Cvent and Zoom Team Up to Deliver World-Class Hybrid Events', 'Zoomtopia 2022: New Innovations to Power Modern Work Experiences', 'AMC Theatres® and Zoom Partner to Bring Zoom Rooms to the Comfort and State-of-the-Art Sight and Sound Technology of AMC Movie Theatres', 'Zoom to Release Financial Results for the Third Quarter of Fiscal Year 2023', 'Zoom To Hold Investor Day During Zoomtopia 2022', 'Zoom Accelerates Global Productivity and Growth With Effective Communication From Grammarly Business', 'Thinking about trading options or stock in Occidental Petroleum, Advanced Micro Devices, Mosaic, Zoom Video, or Kroger?', 'Thinking about trading options or stock in Zoom Video, Occidental Petroleum, MicroStrategy, Twitter, or JD.Com?', 'Zoom Video Communications Reports Financial Results for the Second Quarter of Fiscal Year 2023', 'Zoom to Release Financial Results for the Second Quarter of Fiscal Year 2023', 'Zoom Unveils Platform Evolution; Launches New Packaging and Translation Feature', 'Zoom Expands Developer Platform with Launch of Zoom Apps SDK', 'How Software as a Service (SaaS) Market Services Have Become Beneficial for the Public Sector', 'Zoom Hires Greg Tomb as President', 'Zoom and Genesys Announce Strategic Agreement Uniquely Positioned Around Zoom Phone to Improve Collaboration and Customer Experiences', 'Zoom Hires Matthew Saxon as Chief People Officer', 'Software as a Service (SaaS) Market Estimated To Reach $208 Billion By 2023', 'Thinking about trading options or stock in Zoom Video, ConocoPhillips, Bank of America, Apple, or Walt Disney?', 'Zoom Video Communications Reports Financial Results for the First Quarter of Fiscal Year 2023', 'SaaS Software Currently Dominating The Cloud Computing Market, Especially In The Healthcare Industry', \"Zoom Announces Funding for Youth Mental Health Leaders at MTV Entertainment's Mental Health Youth Action Forum\", 'Zoom Drives Contact Center Expansion with Acquisition of Solvvy', 'Zoom to Release Financial Results for the First Quarter of Fiscal Year 2023', \"Zoom's Pain Will Continue To Be Microsoft's Gain\", 'Should You Accumulate Zoom Video Communications Inc (ZM) Stock Monday?', 'Zoom stock slips as Citi opens up downside catalyst watch', \"Analysts' Opinions Are Mixed on These Technology Stocks: My Size (MYSZ) and Zoom Video Communications (ZM)\", 'Recent Lessons', 'Zoom Video: An Unattractive Risk-Reward Profile', '7 Stocks That Will Get a Boost From Their Brutal Layoffs', '3 Tech Stocks to Avoid in 2023 If You Value Your Portfolio', 'Elliott Wave Technical Analysis: Zoom Video Communications Inc. - Tuesday, April 4', 'Should You Buy Zoom Video Communications Inc (ZM) Stock After it Has Gained 5.86% in a Week?', 'Republic First is not First Republic, and other examples of corporate confusion', 'Zoom Video: Tech Stock With Secular Growth, 25% Net Cash, 16x Earnings', 'Zoom Video Communications: Not Zooming In', '1 Stock That Profits From the Rise of Remote Work', 'Hit One out of the Park With This Internet Stock', \"3 Stocks That Could Rocket If a Major Recession Doesn't Materialize\", \"Microsoft's ChatGPT Ended Zoom Video's Growth Ambitions\", 'Can Zoom Video Communications Inc (ZM) Stock Rise to the Top of Technology Sector Monday?', 'What do the Fundamentals Predict for Zoom Video Communications Inc (ZM) Stock?', \"3 Disruptors to Invest In Before They're the Next Big Thing\", 'Analysts Offer Insights on Technology Companies: Zoom Video Communications (ZM), Match Group (MTCH) and Robinhood Markets (HOOD)', 'Is Zoom Video Communications Inc (ZM) Stock a Smart Investment Monday?', '7 Terrible Tech Stocks to Sell in March', 'Is it Time to Dump Zoom Video Communications Inc (ZM) Stock After it Has Fallen 5.58% in a Week?', 'The Only Way To Make Money Investing In Tech', 'DraftKings rallies after Argus turns bullish on earnings potential', 'Why Are Stocks Up Today?', 'ZM Stock Alert: What to Know as Zoom Unexpectedly Fires President', 'Zoom Video shares slip; Wall Street shrugs at firing of company president', 'Should You Buy Zoom Video Communications Inc (ZM) Stock Friday Morning?', \"Zoom Video terminates President's employment\", 'Zoom Video Communications Inc (ZM) Stock Is Down -6.81% This Week: Buy, Hold, or Sell?', '3 AI Stocks That Are Revolutionizing Education', 'TDCX Inc. Launches Foundation Focusing On Digital Inclusion', 'Zoom Video And 3 Other Stocks Insiders Are Selling', \"Ulta Beauty Is A Recession-Proof 'Arms Dealer' For Today's On-Screen Reality: Josh Brown\", 'Analyst Hangs Up On RingCentral With Zoom Waiting To Pounce', \"Prince Harry Says Cannabis Helped Him Cope With Mental Health Struggles & Ayahuasca Was A 'Release'\", 'Zoom Unexpectedly Ousts President Greg Tomb, A Former Google Executive', \"Zoom's Growth Stalls In 'More Challenging Macro Environment': What 5 Analysts Say Comes Next After Q4 Earnings\", \"Zoom Shares Are Trading Higher: What's Going On?\", 'Putting people at the heart of hybrid work: Zoom to acquire Workvivo to bolster the employee experience offering', 'Zoom announces the expansion of Zoom IQ, the smart companion that empowers collaboration and unlocks potential', \"Play Ball! Major League Baseball and Zoom Announce First-of-its-kind Partnership; Zoom Contact Center to Power 'Zoom Replay Operations Center'\", 'Thinking about trading options or stock in Zoom Video, Target, Costco, Apple, or NVIDIA?', 'Zoom Video Communications Reports Fourth Quarter and Fiscal Year 2023 Financial Results', 'Zoom to Release Financial Results for the Fourth Quarter and Full Fiscal Year 2023', 'Zoom Appoints Cindy Hoots to Board of Directors', 'Zoom named a Leader in the 2022 Gartner® Magic Quadrant™ for UCaaS, Worldwide', 'Thinking about buying stock in Palisade Bio, Meta Materials, PayPal, Zoom Video, or Gap?', 'Zoom Video Communications Reports Financial Results for the Third Quarter of Fiscal Year 2023', 'Cvent and Zoom Team Up to Deliver World-Class Hybrid Events', 'Zoomtopia 2022: New Innovations to Power Modern Work Experiences', 'AMC Theatres® and Zoom Partner to Bring Zoom Rooms to the Comfort and State-of-the-Art Sight and Sound Technology of AMC Movie Theatres', 'Zoom to Release Financial Results for the Third Quarter of Fiscal Year 2023', 'Zoom To Hold Investor Day During Zoomtopia 2022', 'Zoom Accelerates Global Productivity and Growth With Effective Communication From Grammarly Business', 'Thinking about trading options or stock in Occidental Petroleum, Advanced Micro Devices, Mosaic, Zoom Video, or Kroger?', 'Thinking about trading options or stock in Zoom Video, Occidental Petroleum, MicroStrategy, Twitter, or JD.Com?', 'Zoom Video Communications Reports Financial Results for the Second Quarter of Fiscal Year 2023', 'Zoom to Release Financial Results for the Second Quarter of Fiscal Year 2023', 'Zoom Unveils Platform Evolution; Launches New Packaging and Translation Feature', 'Zoom Expands Developer Platform with Launch of Zoom Apps SDK', 'How Software as a Service (SaaS) Market Services Have Become Beneficial for the Public Sector', 'Zoom Hires Greg Tomb as President', 'Zoom and Genesys Announce Strategic Agreement Uniquely Positioned Around Zoom Phone to Improve Collaboration and Customer Experiences', 'Zoom Hires Matthew Saxon as Chief People Officer', 'Software as a Service (SaaS) Market Estimated To Reach $208 Billion By 2023', 'Thinking about trading options or stock in Zoom Video, ConocoPhillips, Bank of America, Apple, or Walt Disney?', 'Zoom Video Communications Reports Financial Results for the First Quarter of Fiscal Year 2023', 'SaaS Software Currently Dominating The Cloud Computing Market, Especially In The Healthcare Industry', \"Zoom Announces Funding for Youth Mental Health Leaders at MTV Entertainment's Mental Health Youth Action Forum\", 'Zoom Drives Contact Center Expansion with Acquisition of Solvvy', 'Zoom to Release Financial Results for the First Quarter of Fiscal Year 2023', \"Zoom's Pain Will Continue To Be Microsoft's Gain\", 'Should You Accumulate Zoom Video Communications Inc (ZM) Stock Monday?', 'Zoom stock slips as Citi opens up downside catalyst watch', \"Analysts' Opinions Are Mixed on These Technology Stocks: My Size (MYSZ) and Zoom Video Communications (ZM)\", 'Recent Lessons', 'Zoom Video: An Unattractive Risk-Reward Profile', '7 Stocks That Will Get a Boost From Their Brutal Layoffs', '3 Tech Stocks to Avoid in 2023 If You Value Your Portfolio', 'Elliott Wave Technical Analysis: Zoom Video Communications Inc. - Tuesday, April 4', 'Should You Buy Zoom Video Communications Inc (ZM) Stock After it Has Gained 5.86% in a Week?', 'Republic First is not First Republic, and other examples of corporate confusion', 'Zoom Video: Tech Stock With Secular Growth, 25% Net Cash, 16x Earnings', 'Zoom Video Communications: Not Zooming In', '1 Stock That Profits From the Rise of Remote Work', 'Hit One out of the Park With This Internet Stock', \"3 Stocks That Could Rocket If a Major Recession Doesn't Materialize\", \"Microsoft's ChatGPT Ended Zoom Video's Growth Ambitions\", 'Can Zoom Video Communications Inc (ZM) Stock Rise to the Top of Technology Sector Monday?', 'What do the Fundamentals Predict for Zoom Video Communications Inc (ZM) Stock?', \"3 Disruptors to Invest In Before They're the Next Big Thing\", 'Analysts Offer Insights on Technology Companies: Zoom Video Communications (ZM), Match Group (MTCH) and Robinhood Markets (HOOD)', 'Is Zoom Video Communications Inc (ZM) Stock a Smart Investment Monday?', '7 Terrible Tech Stocks to Sell in March', 'Is it Time to Dump Zoom Video Communications Inc (ZM) Stock After it Has Fallen 5.58% in a Week?', 'The Only Way To Make Money Investing In Tech', 'DraftKings rallies after Argus turns bullish on earnings potential', 'Why Are Stocks Up Today?', 'ZM Stock Alert: What to Know as Zoom Unexpectedly Fires President', 'Zoom Video shares slip; Wall Street shrugs at firing of company president', 'Should You Buy Zoom Video Communications Inc (ZM) Stock Friday Morning?', \"Zoom Video terminates President's employment\", 'Zoom Video Communications Inc (ZM) Stock Is Down -6.81% This Week: Buy, Hold, or Sell?', '3 AI Stocks That Are Revolutionizing Education', 'TDCX Inc. Launches Foundation Focusing On Digital Inclusion', 'Zoom Video And 3 Other Stocks Insiders Are Selling', \"Ulta Beauty Is A Recession-Proof 'Arms Dealer' For Today's On-Screen Reality: Josh Brown\", 'Analyst Hangs Up On RingCentral With Zoom Waiting To Pounce', \"Prince Harry Says Cannabis Helped Him Cope With Mental Health Struggles & Ayahuasca Was A 'Release'\", 'Zoom Unexpectedly Ousts President Greg Tomb, A Former Google Executive', \"Zoom's Growth Stalls In 'More Challenging Macro Environment': What 5 Analysts Say Comes Next After Q4 Earnings\", \"Zoom Shares Are Trading Higher: What's Going On?\", 'Putting people at the heart of hybrid work: Zoom to acquire Workvivo to bolster the employee experience offering', 'Zoom announces the expansion of Zoom IQ, the smart companion that empowers collaboration and unlocks potential', \"Play Ball! Major League Baseball and Zoom Announce First-of-its-kind Partnership; Zoom Contact Center to Power 'Zoom Replay Operations Center'\", 'Thinking about trading options or stock in Zoom Video, Target, Costco, Apple, or NVIDIA?', 'Zoom Video Communications Reports Fourth Quarter and Fiscal Year 2023 Financial Results', 'Zoom to Release Financial Results for the Fourth Quarter and Full Fiscal Year 2023', 'Zoom Appoints Cindy Hoots to Board of Directors', 'Zoom named a Leader in the 2022 Gartner® Magic Quadrant™ for UCaaS, Worldwide', 'Thinking about buying stock in Palisade Bio, Meta Materials, PayPal, Zoom Video, or Gap?', 'Zoom Video Communications Reports Financial Results for the Third Quarter of Fiscal Year 2023', 'Cvent and Zoom Team Up to Deliver World-Class Hybrid Events', 'Zoomtopia 2022: New Innovations to Power Modern Work Experiences', 'AMC Theatres® and Zoom Partner to Bring Zoom Rooms to the Comfort and State-of-the-Art Sight and Sound Technology of AMC Movie Theatres', 'Zoom to Release Financial Results for the Third Quarter of Fiscal Year 2023', 'Zoom To Hold Investor Day During Zoomtopia 2022', 'Zoom Accelerates Global Productivity and Growth With Effective Communication From Grammarly Business', 'Thinking about trading options or stock in Occidental Petroleum, Advanced Micro Devices, Mosaic, Zoom Video, or Kroger?', 'Thinking about trading options or stock in Zoom Video, Occidental Petroleum, MicroStrategy, Twitter, or JD.Com?', 'Zoom Video Communications Reports Financial Results for the Second Quarter of Fiscal Year 2023', 'Zoom to Release Financial Results for the Second Quarter of Fiscal Year 2023', 'Zoom Unveils Platform Evolution; Launches New Packaging and Translation Feature', 'Zoom Expands Developer Platform with Launch of Zoom Apps SDK', 'How Software as a Service (SaaS) Market Services Have Become Beneficial for the Public Sector', 'Zoom Hires Greg Tomb as President', 'Zoom and Genesys Announce Strategic Agreement Uniquely Positioned Around Zoom Phone to Improve Collaboration and Customer Experiences', 'Zoom Hires Matthew Saxon as Chief People Officer', 'Software as a Service (SaaS) Market Estimated To Reach $208 Billion By 2023', 'Thinking about trading options or stock in Zoom Video, ConocoPhillips, Bank of America, Apple, or Walt Disney?', 'Zoom Video Communications Reports Financial Results for the First Quarter of Fiscal Year 2023', 'SaaS Software Currently Dominating The Cloud Computing Market, Especially In The Healthcare Industry', \"Zoom Announces Funding for Youth Mental Health Leaders at MTV Entertainment's Mental Health Youth Action Forum\", 'Zoom Drives Contact Center Expansion with Acquisition of Solvvy', 'Zoom to Release Financial Results for the First Quarter of Fiscal Year 2023', \"Zoom's Pain Will Continue To Be Microsoft's Gain\", 'Should You Accumulate Zoom Video Communications Inc (ZM) Stock Monday?', 'Zoom stock slips as Citi opens up downside catalyst watch', \"Analysts' Opinions Are Mixed on These Technology Stocks: My Size (MYSZ) and Zoom Video Communications (ZM)\", 'Recent Lessons', 'Zoom Video: An Unattractive Risk-Reward Profile', '7 Stocks That Will Get a Boost From Their Brutal Layoffs', '3 Tech Stocks to Avoid in 2023 If You Value Your Portfolio', 'Elliott Wave Technical Analysis: Zoom Video Communications Inc. - Tuesday, April 4', 'Should You Buy Zoom Video Communications Inc (ZM) Stock After it Has Gained 5.86% in a Week?', 'Republic First is not First Republic, and other examples of corporate confusion', 'Zoom Video: Tech Stock With Secular Growth, 25% Net Cash, 16x Earnings', 'Zoom Video Communications: Not Zooming In', '1 Stock That Profits From the Rise of Remote Work', 'Hit One out of the Park With This Internet Stock', \"3 Stocks That Could Rocket If a Major Recession Doesn't Materialize\", \"Microsoft's ChatGPT Ended Zoom Video's Growth Ambitions\", 'Can Zoom Video Communications Inc (ZM) Stock Rise to the Top of Technology Sector Monday?', 'What do the Fundamentals Predict for Zoom Video Communications Inc (ZM) Stock?', \"3 Disruptors to Invest In Before They're the Next Big Thing\", 'Analysts Offer Insights on Technology Companies: Zoom Video Communications (ZM), Match Group (MTCH) and Robinhood Markets (HOOD)', 'Is Zoom Video Communications Inc (ZM) Stock a Smart Investment Monday?', '7 Terrible Tech Stocks to Sell in March', 'Is it Time to Dump Zoom Video Communications Inc (ZM) Stock After it Has Fallen 5.58% in a Week?', 'The Only Way To Make Money Investing In Tech', 'DraftKings rallies after Argus turns bullish on earnings potential', 'Why Are Stocks Up Today?', 'ZM Stock Alert: What to Know as Zoom Unexpectedly Fires President', 'Zoom Video shares slip; Wall Street shrugs at firing of company president', 'Should You Buy Zoom Video Communications Inc (ZM) Stock Friday Morning?', \"Zoom Video terminates President's employment\", 'Zoom Video Communications Inc (ZM) Stock Is Down -6.81% This Week: Buy, Hold, or Sell?', '3 AI Stocks That Are Revolutionizing Education', 'TDCX Inc. Launches Foundation Focusing On Digital Inclusion', 'Zoom Video And 3 Other Stocks Insiders Are Selling', \"Ulta Beauty Is A Recession-Proof 'Arms Dealer' For Today's On-Screen Reality: Josh Brown\", 'Analyst Hangs Up On RingCentral With Zoom Waiting To Pounce', \"Prince Harry Says Cannabis Helped Him Cope With Mental Health Struggles & Ayahuasca Was A 'Release'\", 'Zoom Unexpectedly Ousts President Greg Tomb, A Former Google Executive', \"Zoom's Growth Stalls In 'More Challenging Macro Environment': What 5 Analysts Say Comes Next After Q4 Earnings\", \"Zoom Shares Are Trading Higher: What's Going On?\", 'Putting people at the heart of hybrid work: Zoom to acquire Workvivo to bolster the employee experience offering', 'Zoom announces the expansion of Zoom IQ, the smart companion that empowers collaboration and unlocks potential', \"Play Ball! Major League Baseball and Zoom Announce First-of-its-kind Partnership; Zoom Contact Center to Power 'Zoom Replay Operations Center'\", 'Thinking about trading options or stock in Zoom Video, Target, Costco, Apple, or NVIDIA?', 'Zoom Video Communications Reports Fourth Quarter and Fiscal Year 2023 Financial Results', 'Zoom to Release Financial Results for the Fourth Quarter and Full Fiscal Year 2023', 'Zoom Appoints Cindy Hoots to Board of Directors', 'Zoom named a Leader in the 2022 Gartner® Magic Quadrant™ for UCaaS, Worldwide', 'Thinking about buying stock in Palisade Bio, Meta Materials, PayPal, Zoom Video, or Gap?', 'Zoom Video Communications Reports Financial Results for the Third Quarter of Fiscal Year 2023', 'Cvent and Zoom Team Up to Deliver World-Class Hybrid Events', 'Zoomtopia 2022: New Innovations to Power Modern Work Experiences', 'AMC Theatres® and Zoom Partner to Bring Zoom Rooms to the Comfort and State-of-the-Art Sight and Sound Technology of AMC Movie Theatres', 'Zoom to Release Financial Results for the Third Quarter of Fiscal Year 2023', 'Zoom To Hold Investor Day During Zoomtopia 2022', 'Zoom Accelerates Global Productivity and Growth With Effective Communication From Grammarly Business', 'Thinking about trading options or stock in Occidental Petroleum, Advanced Micro Devices, Mosaic, Zoom Video, or Kroger?', 'Thinking about trading options or stock in Zoom Video, Occidental Petroleum, MicroStrategy, Twitter, or JD.Com?', 'Zoom Video Communications Reports Financial Results for the Second Quarter of Fiscal Year 2023', 'Zoom to Release Financial Results for the Second Quarter of Fiscal Year 2023', 'Zoom Unveils Platform Evolution; Launches New Packaging and Translation Feature', 'Zoom Expands Developer Platform with Launch of Zoom Apps SDK', 'How Software as a Service (SaaS) Market Services Have Become Beneficial for the Public Sector', 'Zoom Hires Greg Tomb as President', 'Zoom and Genesys Announce Strategic Agreement Uniquely Positioned Around Zoom Phone to Improve Collaboration and Customer Experiences', 'Zoom Hires Matthew Saxon as Chief People Officer', 'Software as a Service (SaaS) Market Estimated To Reach $208 Billion By 2023', 'Thinking about trading options or stock in Zoom Video, ConocoPhillips, Bank of America, Apple, or Walt Disney?', 'Zoom Video Communications Reports Financial Results for the First Quarter of Fiscal Year 2023', 'SaaS Software Currently Dominating The Cloud Computing Market, Especially In The Healthcare Industry', \"Zoom Announces Funding for Youth Mental Health Leaders at MTV Entertainment's Mental Health Youth Action Forum\", 'Zoom Drives Contact Center Expansion with Acquisition of Solvvy', 'Zoom to Release Financial Results for the First Quarter of Fiscal Year 2023', \"Zoom's Pain Will Continue To Be Microsoft's Gain\", 'Should You Accumulate Zoom Video Communications Inc (ZM) Stock Monday?', 'Zoom stock slips as Citi opens up downside catalyst watch', \"Analysts' Opinions Are Mixed on These Technology Stocks: My Size (MYSZ) and Zoom Video Communications (ZM)\", 'Recent Lessons', 'Zoom Video: An Unattractive Risk-Reward Profile', '7 Stocks That Will Get a Boost From Their Brutal Layoffs', '3 Tech Stocks to Avoid in 2023 If You Value Your Portfolio', 'Elliott Wave Technical Analysis: Zoom Video Communications Inc. - Tuesday, April 4', 'Should You Buy Zoom Video Communications Inc (ZM) Stock After it Has Gained 5.86% in a Week?', 'Republic First is not First Republic, and other examples of corporate confusion', 'Zoom Video: Tech Stock With Secular Growth, 25% Net Cash, 16x Earnings', 'Zoom Video Communications: Not Zooming In', '1 Stock That Profits From the Rise of Remote Work', 'Hit One out of the Park With This Internet Stock', \"3 Stocks That Could Rocket If a Major Recession Doesn't Materialize\", \"Microsoft's ChatGPT Ended Zoom Video's Growth Ambitions\", 'Can Zoom Video Communications Inc (ZM) Stock Rise to the Top of Technology Sector Monday?', 'What do the Fundamentals Predict for Zoom Video Communications Inc (ZM) Stock?', \"3 Disruptors to Invest In Before They're the Next Big Thing\", 'Analysts Offer Insights on Technology Companies: Zoom Video Communications (ZM), Match Group (MTCH) and Robinhood Markets (HOOD)', 'Is Zoom Video Communications Inc (ZM) Stock a Smart Investment Monday?', '7 Terrible Tech Stocks to Sell in March', 'Is it Time to Dump Zoom Video Communications Inc (ZM) Stock After it Has Fallen 5.58% in a Week?', 'The Only Way To Make Money Investing In Tech', 'DraftKings rallies after Argus turns bullish on earnings potential', 'Why Are Stocks Up Today?', 'ZM Stock Alert: What to Know as Zoom Unexpectedly Fires President', 'Zoom Video shares slip; Wall Street shrugs at firing of company president', 'Should You Buy Zoom Video Communications Inc (ZM) Stock Friday Morning?', \"Zoom Video terminates President's employment\", 'Zoom Video Communications Inc (ZM) Stock Is Down -6.81% This Week: Buy, Hold, or Sell?', '3 AI Stocks That Are Revolutionizing Education', 'TDCX Inc. Launches Foundation Focusing On Digital Inclusion', 'Zoom Video And 3 Other Stocks Insiders Are Selling', \"Ulta Beauty Is A Recession-Proof 'Arms Dealer' For Today's On-Screen Reality: Josh Brown\", 'Analyst Hangs Up On RingCentral With Zoom Waiting To Pounce', \"Prince Harry Says Cannabis Helped Him Cope With Mental Health Struggles & Ayahuasca Was A 'Release'\", 'Zoom Unexpectedly Ousts President Greg Tomb, A Former Google Executive', \"Zoom's Growth Stalls In 'More Challenging Macro Environment': What 5 Analysts Say Comes Next After Q4 Earnings\", \"Zoom Shares Are Trading Higher: What's Going On?\", 'Putting people at the heart of hybrid work: Zoom to acquire Workvivo to bolster the employee experience offering', 'Zoom announces the expansion of Zoom IQ, the smart companion that empowers collaboration and unlocks potential', \"Play Ball! Major League Baseball and Zoom Announce First-of-its-kind Partnership; Zoom Contact Center to Power 'Zoom Replay Operations Center'\", 'Thinking about trading options or stock in Zoom Video, Target, Costco, Apple, or NVIDIA?', 'Zoom Video Communications Reports Fourth Quarter and Fiscal Year 2023 Financial Results', 'Zoom to Release Financial Results for the Fourth Quarter and Full Fiscal Year 2023', 'Zoom Appoints Cindy Hoots to Board of Directors', 'Zoom named a Leader in the 2022 Gartner® Magic Quadrant™ for UCaaS, Worldwide', 'Thinking about buying stock in Palisade Bio, Meta Materials, PayPal, Zoom Video, or Gap?', 'Zoom Video Communications Reports Financial Results for the Third Quarter of Fiscal Year 2023', 'Cvent and Zoom Team Up to Deliver World-Class Hybrid Events', 'Zoomtopia 2022: New Innovations to Power Modern Work Experiences', 'AMC Theatres® and Zoom Partner to Bring Zoom Rooms to the Comfort and State-of-the-Art Sight and Sound Technology of AMC Movie Theatres', 'Zoom to Release Financial Results for the Third Quarter of Fiscal Year 2023', 'Zoom To Hold Investor Day During Zoomtopia 2022', 'Zoom Accelerates Global Productivity and Growth With Effective Communication From Grammarly Business', 'Thinking about trading options or stock in Occidental Petroleum, Advanced Micro Devices, Mosaic, Zoom Video, or Kroger?', 'Thinking about trading options or stock in Zoom Video, Occidental Petroleum, MicroStrategy, Twitter, or JD.Com?', 'Zoom Video Communications Reports Financial Results for the Second Quarter of Fiscal Year 2023', 'Zoom to Release Financial Results for the Second Quarter of Fiscal Year 2023', 'Zoom Unveils Platform Evolution; Launches New Packaging and Translation Feature', 'Zoom Expands Developer Platform with Launch of Zoom Apps SDK', 'How Software as a Service (SaaS) Market Services Have Become Beneficial for the Public Sector', 'Zoom Hires Greg Tomb as President', 'Zoom and Genesys Announce Strategic Agreement Uniquely Positioned Around Zoom Phone to Improve Collaboration and Customer Experiences', 'Zoom Hires Matthew Saxon as Chief People Officer', 'Software as a Service (SaaS) Market Estimated To Reach $208 Billion By 2023', 'Thinking about trading options or stock in Zoom Video, ConocoPhillips, Bank of America, Apple, or Walt Disney?', 'Zoom Video Communications Reports Financial Results for the First Quarter of Fiscal Year 2023', 'SaaS Software Currently Dominating The Cloud Computing Market, Especially In The Healthcare Industry', \"Zoom Announces Funding for Youth Mental Health Leaders at MTV Entertainment's Mental Health Youth Action Forum\", 'Zoom Drives Contact Center Expansion with Acquisition of Solvvy', 'Zoom to Release Financial Results for the First Quarter of Fiscal Year 2023', \"Zoom's Pain Will Continue To Be Microsoft's Gain\", 'Should You Accumulate Zoom Video Communications Inc (ZM) Stock Monday?', 'Zoom stock slips as Citi opens up downside catalyst watch', \"Analysts' Opinions Are Mixed on These Technology Stocks: My Size (MYSZ) and Zoom Video Communications (ZM)\", 'Recent Lessons', 'Zoom Video: An Unattractive Risk-Reward Profile', '7 Stocks That Will Get a Boost From Their Brutal Layoffs', '3 Tech Stocks to Avoid in 2023 If You Value Your Portfolio', 'Elliott Wave Technical Analysis: Zoom Video Communications Inc. - Tuesday, April 4', 'Should You Buy Zoom Video Communications Inc (ZM) Stock After it Has Gained 5.86% in a Week?', 'Republic First is not First Republic, and other examples of corporate confusion', 'Zoom Video: Tech Stock With Secular Growth, 25% Net Cash, 16x Earnings', 'Zoom Video Communications: Not Zooming In', '1 Stock That Profits From the Rise of Remote Work', 'Hit One out of the Park With This Internet Stock', \"3 Stocks That Could Rocket If a Major Recession Doesn't Materialize\", \"Microsoft's ChatGPT Ended Zoom Video's Growth Ambitions\", 'Can Zoom Video Communications Inc (ZM) Stock Rise to the Top of Technology Sector Monday?', 'What do the Fundamentals Predict for Zoom Video Communications Inc (ZM) Stock?', \"3 Disruptors to Invest In Before They're the Next Big Thing\", 'Analysts Offer Insights on Technology Companies: Zoom Video Communications (ZM), Match Group (MTCH) and Robinhood Markets (HOOD)', 'Is Zoom Video Communications Inc (ZM) Stock a Smart Investment Monday?', '7 Terrible Tech Stocks to Sell in March', 'Is it Time to Dump Zoom Video Communications Inc (ZM) Stock After it Has Fallen 5.58% in a Week?', 'The Only Way To Make Money Investing In Tech', 'DraftKings rallies after Argus turns bullish on earnings potential', 'Why Are Stocks Up Today?', 'ZM Stock Alert: What to Know as Zoom Unexpectedly Fires President', 'Zoom Video shares slip; Wall Street shrugs at firing of company president', 'Should You Buy Zoom Video Communications Inc (ZM) Stock Friday Morning?', \"Zoom Video terminates President's employment\", 'Zoom Video Communications Inc (ZM) Stock Is Down -6.81% This Week: Buy, Hold, or Sell?', '3 AI Stocks That Are Revolutionizing Education', 'TDCX Inc. Launches Foundation Focusing On Digital Inclusion', 'Zoom Video And 3 Other Stocks Insiders Are Selling', \"Ulta Beauty Is A Recession-Proof 'Arms Dealer' For Today's On-Screen Reality: Josh Brown\", 'Analyst Hangs Up On RingCentral With Zoom Waiting To Pounce', \"Prince Harry Says Cannabis Helped Him Cope With Mental Health Struggles & Ayahuasca Was A 'Release'\", 'Zoom Unexpectedly Ousts President Greg Tomb, A Former Google Executive', \"Zoom's Growth Stalls In 'More Challenging Macro Environment': What 5 Analysts Say Comes Next After Q4 Earnings\", \"Zoom Shares Are Trading Higher: What's Going On?\", 'Putting people at the heart of hybrid work: Zoom to acquire Workvivo to bolster the employee experience offering', 'Zoom announces the expansion of Zoom IQ, the smart companion that empowers collaboration and unlocks potential', \"Play Ball! Major League Baseball and Zoom Announce First-of-its-kind Partnership; Zoom Contact Center to Power 'Zoom Replay Operations Center'\", 'Thinking about trading options or stock in Zoom Video, Target, Costco, Apple, or NVIDIA?', 'Zoom Video Communications Reports Fourth Quarter and Fiscal Year 2023 Financial Results', 'Zoom to Release Financial Results for the Fourth Quarter and Full Fiscal Year 2023', 'Zoom Appoints Cindy Hoots to Board of Directors', 'Zoom named a Leader in the 2022 Gartner® Magic Quadrant™ for UCaaS, Worldwide', 'Thinking about buying stock in Palisade Bio, Meta Materials, PayPal, Zoom Video, or Gap?', 'Zoom Video Communications Reports Financial Results for the Third Quarter of Fiscal Year 2023', 'Cvent and Zoom Team Up to Deliver World-Class Hybrid Events', 'Zoomtopia 2022: New Innovations to Power Modern Work Experiences', 'AMC Theatres® and Zoom Partner to Bring Zoom Rooms to the Comfort and State-of-the-Art Sight and Sound Technology of AMC Movie Theatres', 'Zoom to Release Financial Results for the Third Quarter of Fiscal Year 2023', 'Zoom To Hold Investor Day During Zoomtopia 2022', 'Zoom Accelerates Global Productivity and Growth With Effective Communication From Grammarly Business', 'Thinking about trading options or stock in Occidental Petroleum, Advanced Micro Devices, Mosaic, Zoom Video, or Kroger?', 'Thinking about trading options or stock in Zoom Video, Occidental Petroleum, MicroStrategy, Twitter, or JD.Com?', 'Zoom Video Communications Reports Financial Results for the Second Quarter of Fiscal Year 2023', 'Zoom to Release Financial Results for the Second Quarter of Fiscal Year 2023', 'Zoom Unveils Platform Evolution; Launches New Packaging and Translation Feature', 'Zoom Expands Developer Platform with Launch of Zoom Apps SDK', 'How Software as a Service (SaaS) Market Services Have Become Beneficial for the Public Sector', 'Zoom Hires Greg Tomb as President', 'Zoom and Genesys Announce Strategic Agreement Uniquely Positioned Around Zoom Phone to Improve Collaboration and Customer Experiences', 'Zoom Hires Matthew Saxon as Chief People Officer', 'Software as a Service (SaaS) Market Estimated To Reach $208 Billion By 2023', 'Thinking about trading options or stock in Zoom Video, ConocoPhillips, Bank of America, Apple, or Walt Disney?', 'Zoom Video Communications Reports Financial Results for the First Quarter of Fiscal Year 2023', 'SaaS Software Currently Dominating The Cloud Computing Market, Especially In The Healthcare Industry', \"Zoom Announces Funding for Youth Mental Health Leaders at MTV Entertainment's Mental Health Youth Action Forum\", 'Zoom Drives Contact Center Expansion with Acquisition of Solvvy', 'Zoom to Release Financial Results for the First Quarter of Fiscal Year 2023', \"Zoom's Pain Will Continue To Be Microsoft's Gain\", 'Should You Accumulate Zoom Video Communications Inc (ZM) Stock Monday?', 'Zoom stock slips as Citi opens up downside catalyst watch', \"Analysts' Opinions Are Mixed on These Technology Stocks: My Size (MYSZ) and Zoom Video Communications (ZM)\", 'Recent Lessons', 'Zoom Video: An Unattractive Risk-Reward Profile', '7 Stocks That Will Get a Boost From Their Brutal Layoffs', '3 Tech Stocks to Avoid in 2023 If You Value Your Portfolio', 'Elliott Wave Technical Analysis: Zoom Video Communications Inc. - Tuesday, April 4', 'Should You Buy Zoom Video Communications Inc (ZM) Stock After it Has Gained 5.86% in a Week?', 'Republic First is not First Republic, and other examples of corporate confusion', 'Zoom Video: Tech Stock With Secular Growth, 25% Net Cash, 16x Earnings', 'Zoom Video Communications: Not Zooming In', '1 Stock That Profits From the Rise of Remote Work', 'Hit One out of the Park With This Internet Stock', \"3 Stocks That Could Rocket If a Major Recession Doesn't Materialize\", \"Microsoft's ChatGPT Ended Zoom Video's Growth Ambitions\", 'Can Zoom Video Communications Inc (ZM) Stock Rise to the Top of Technology Sector Monday?', 'What do the Fundamentals Predict for Zoom Video Communications Inc (ZM) Stock?', \"3 Disruptors to Invest In Before They're the Next Big Thing\", 'Analysts Offer Insights on Technology Companies: Zoom Video Communications (ZM), Match Group (MTCH) and Robinhood Markets (HOOD)', 'Is Zoom Video Communications Inc (ZM) Stock a Smart Investment Monday?', '7 Terrible Tech Stocks to Sell in March', 'Is it Time to Dump Zoom Video Communications Inc (ZM) Stock After it Has Fallen 5.58% in a Week?', 'The Only Way To Make Money Investing In Tech', 'DraftKings rallies after Argus turns bullish on earnings potential', 'Why Are Stocks Up Today?', 'ZM Stock Alert: What to Know as Zoom Unexpectedly Fires President', 'Zoom Video shares slip; Wall Street shrugs at firing of company president', 'Should You Buy Zoom Video Communications Inc (ZM) Stock Friday Morning?', \"Zoom Video terminates President's employment\", 'Zoom Video Communications Inc (ZM) Stock Is Down -6.81% This Week: Buy, Hold, or Sell?', '3 AI Stocks That Are Revolutionizing Education', 'TDCX Inc. Launches Foundation Focusing On Digital Inclusion', 'Zoom Video And 3 Other Stocks Insiders Are Selling', \"Ulta Beauty Is A Recession-Proof 'Arms Dealer' For Today's On-Screen Reality: Josh Brown\", 'Analyst Hangs Up On RingCentral With Zoom Waiting To Pounce', \"Prince Harry Says Cannabis Helped Him Cope With Mental Health Struggles & Ayahuasca Was A 'Release'\", 'Zoom Unexpectedly Ousts President Greg Tomb, A Former Google Executive', \"Zoom's Growth Stalls In 'More Challenging Macro Environment': What 5 Analysts Say Comes Next After Q4 Earnings\", \"Zoom Shares Are Trading Higher: What's Going On?\", 'Putting people at the heart of hybrid work: Zoom to acquire Workvivo to bolster the employee experience offering', 'Zoom announces the expansion of Zoom IQ, the smart companion that empowers collaboration and unlocks potential', \"Play Ball! Major League Baseball and Zoom Announce First-of-its-kind Partnership; Zoom Contact Center to Power 'Zoom Replay Operations Center'\", 'Thinking about trading options or stock in Zoom Video, Target, Costco, Apple, or NVIDIA?', 'Zoom Video Communications Reports Fourth Quarter and Fiscal Year 2023 Financial Results', 'Zoom to Release Financial Results for the Fourth Quarter and Full Fiscal Year 2023', 'Zoom Appoints Cindy Hoots to Board of Directors', 'Zoom named a Leader in the 2022 Gartner® Magic Quadrant™ for UCaaS, Worldwide', 'Thinking about buying stock in Palisade Bio, Meta Materials, PayPal, Zoom Video, or Gap?', 'Zoom Video Communications Reports Financial Results for the Third Quarter of Fiscal Year 2023', 'Cvent and Zoom Team Up to Deliver World-Class Hybrid Events', 'Zoomtopia 2022: New Innovations to Power Modern Work Experiences', 'AMC Theatres® and Zoom Partner to Bring Zoom Rooms to the Comfort and State-of-the-Art Sight and Sound Technology of AMC Movie Theatres', 'Zoom to Release Financial Results for the Third Quarter of Fiscal Year 2023', 'Zoom To Hold Investor Day During Zoomtopia 2022', 'Zoom Accelerates Global Productivity and Growth With Effective Communication From Grammarly Business', 'Thinking about trading options or stock in Occidental Petroleum, Advanced Micro Devices, Mosaic, Zoom Video, or Kroger?', 'Thinking about trading options or stock in Zoom Video, Occidental Petroleum, MicroStrategy, Twitter, or JD.Com?', 'Zoom Video Communications Reports Financial Results for the Second Quarter of Fiscal Year 2023', 'Zoom to Release Financial Results for the Second Quarter of Fiscal Year 2023', 'Zoom Unveils Platform Evolution; Launches New Packaging and Translation Feature', 'Zoom Expands Developer Platform with Launch of Zoom Apps SDK', 'How Software as a Service (SaaS) Market Services Have Become Beneficial for the Public Sector', 'Zoom Hires Greg Tomb as President', 'Zoom and Genesys Announce Strategic Agreement Uniquely Positioned Around Zoom Phone to Improve Collaboration and Customer Experiences', 'Zoom Hires Matthew Saxon as Chief People Officer', 'Software as a Service (SaaS) Market Estimated To Reach $208 Billion By 2023', 'Thinking about trading options or stock in Zoom Video, ConocoPhillips, Bank of America, Apple, or Walt Disney?', 'Zoom Video Communications Reports Financial Results for the First Quarter of Fiscal Year 2023', 'SaaS Software Currently Dominating The Cloud Computing Market, Especially In The Healthcare Industry', \"Zoom Announces Funding for Youth Mental Health Leaders at MTV Entertainment's Mental Health Youth Action Forum\", 'Zoom Drives Contact Center Expansion with Acquisition of Solvvy', 'Zoom to Release Financial Results for the First Quarter of Fiscal Year 2023', \"Zoom's Pain Will Continue To Be Microsoft's Gain\", 'Should You Accumulate Zoom Video Communications Inc (ZM) Stock Monday?', 'Zoom stock slips as Citi opens up downside catalyst watch', \"Analysts' Opinions Are Mixed on These Technology Stocks: My Size (MYSZ) and Zoom Video Communications (ZM)\", 'Recent Lessons', 'Zoom Video: An Unattractive Risk-Reward Profile', '7 Stocks That Will Get a Boost From Their Brutal Layoffs', '3 Tech Stocks to Avoid in 2023 If You Value Your Portfolio', 'Elliott Wave Technical Analysis: Zoom Video Communications Inc. - Tuesday, April 4', 'Should You Buy Zoom Video Communications Inc (ZM) Stock After it Has Gained 5.86% in a Week?', 'Republic First is not First Republic, and other examples of corporate confusion', 'Zoom Video: Tech Stock With Secular Growth, 25% Net Cash, 16x Earnings', 'Zoom Video Communications: Not Zooming In', '1 Stock That Profits From the Rise of Remote Work', 'Hit One out of the Park With This Internet Stock', \"3 Stocks That Could Rocket If a Major Recession Doesn't Materialize\", \"Microsoft's ChatGPT Ended Zoom Video's Growth Ambitions\", 'Can Zoom Video Communications Inc (ZM) Stock Rise to the Top of Technology Sector Monday?', 'What do the Fundamentals Predict for Zoom Video Communications Inc (ZM) Stock?', \"3 Disruptors to Invest In Before They're the Next Big Thing\", 'Analysts Offer Insights on Technology Companies: Zoom Video Communications (ZM), Match Group (MTCH) and Robinhood Markets (HOOD)', 'Is Zoom Video Communications Inc (ZM) Stock a Smart Investment Monday?', '7 Terrible Tech Stocks to Sell in March', 'Is it Time to Dump Zoom Video Communications Inc (ZM) Stock After it Has Fallen 5.58% in a Week?', 'The Only Way To Make Money Investing In Tech', 'DraftKings rallies after Argus turns bullish on earnings potential', 'Why Are Stocks Up Today?', 'ZM Stock Alert: What to Know as Zoom Unexpectedly Fires President', 'Zoom Video shares slip; Wall Street shrugs at firing of company president', 'Should You Buy Zoom Video Communications Inc (ZM) Stock Friday Morning?', \"Zoom Video terminates President's employment\", 'Zoom Video Communications Inc (ZM) Stock Is Down -6.81% This Week: Buy, Hold, or Sell?', '3 AI Stocks That Are Revolutionizing Education']\n"
     ]
    }
   ],
   "source": [
    "print(headlines)"
   ]
  },
  {
   "cell_type": "code",
   "execution_count": null,
   "metadata": {},
   "outputs": [],
   "source": [
    "container = soup.find('div', {'class': 'content-feed-container'})\n",
    "\n",
    "headlines = []\n",
    "dates = []\n",
    "\n",
    "for div in container.find_all('div', {'class': 'sc-efaPnb hYxNmK py-2 content-headline'}):\n",
    "    headline = div.find('a').text\n",
    "    date = div.find_next_sibling('div', {'class': 'text-grey'}).find('span', {'class': 'text-grey-dark'}).text\n",
    "    headlines.append(headline)\n",
    "    dates.append(date)"
   ]
  },
  {
   "cell_type": "code",
   "execution_count": 37,
   "metadata": {},
   "outputs": [
    {
     "name": "stdout",
     "output_type": "stream",
     "text": [
      "https://www.benzinga.com/quote/ZM\n"
     ]
    }
   ],
   "source": [
    "import requests\n",
    "from bs4 import BeautifulSoup\n",
    "from datetime import datetime, timedelta\n",
    "\n",
    "# Define the stock you want to scrape news for\n",
    "stock = \"ZM\"\n",
    "\n",
    "# Define the start and end dates for the news articles\n",
    "start_date = datetime(2023, 3, 27)\n",
    "end_date = datetime(2023, 3, 28)\n",
    "\n",
    "# Define the base URL for the news site you want to scrape\n",
    "base_url = \"https://www.benzinga.com\"\n",
    "\n",
    "# Create an empty list to store the headlines\n",
    "# headlines = []\n",
    "\n",
    "\n",
    "# Construct the URL for the news page for the given date and stock\n",
    "url = f\"{base_url}/quote/{stock}\"\n",
    "\n",
    "print(url)\n",
    "\n",
    "# Send a request to the URL and get the HTML response\n",
    "response = requests.get(url)\n",
    "soup = BeautifulSoup(response.content, \"html.parser\")\n",
    "\n",
    "headlines = [headline.a.text.strip() for headline in soup.find_all('div', class_='sc-YuETZ TUMlb py-2 content-headline')]\n",
    "dates = [span.text for span in soup.find_all('span', class_='text-grey-dark')]\n",
    "\n",
    "\n"
   ]
  },
  {
   "cell_type": "code",
   "execution_count": 38,
   "metadata": {},
   "outputs": [],
   "source": [
    "# print(dates)"
   ]
  },
  {
   "cell_type": "code",
   "execution_count": 39,
   "metadata": {},
   "outputs": [
    {
     "name": "stdout",
     "output_type": "stream",
     "text": [
      "['TDCX Inc. Launches Foundation Focusing On Digital Inclusion', 'Zoom Video And 3 Other Stocks Insiders Are Selling', \"Ulta Beauty Is A Recession-Proof 'Arms Dealer' For Today's On-Screen Reality: Josh Brown\", 'Analyst Hangs Up On RingCentral With Zoom Waiting To Pounce', \"Prince Harry Says Cannabis Helped Him Cope With Mental Health Struggles & Ayahuasca Was A 'Release'\", 'Zoom Unexpectedly Ousts President Greg Tomb, A Former Google Executive', \"Zoom's Growth Stalls In 'More Challenging Macro Environment': What 5 Analysts Say Comes Next After Q4 Earnings\", \"Zoom Shares Are Trading Higher: What's Going On?\", 'Putting people at the heart of hybrid work: Zoom to acquire Workvivo to bolster the employee experience offering', 'Zoom announces the expansion of Zoom IQ, the smart companion that empowers collaboration and unlocks potential', \"Play Ball! Major League Baseball and Zoom Announce First-of-its-kind Partnership; Zoom Contact Center to Power 'Zoom Replay Operations Center'\", 'Thinking about trading options or stock in Zoom Video, Target, Costco, Apple, or NVIDIA?', 'Zoom Video Communications Reports Fourth Quarter and Fiscal Year 2023 Financial Results', 'Zoom to Release Financial Results for the Fourth Quarter and Full Fiscal Year 2023', 'Zoom Appoints Cindy Hoots to Board of Directors', 'Zoom named a Leader in the 2022 Gartner® Magic Quadrant™ for UCaaS, Worldwide', 'Thinking about buying stock in Palisade Bio, Meta Materials, PayPal, Zoom Video, or Gap?', 'Zoom Video Communications Reports Financial Results for the Third Quarter of Fiscal Year 2023', 'Cvent and Zoom Team Up to Deliver World-Class Hybrid Events', 'Zoomtopia 2022: New Innovations to Power Modern Work Experiences', 'AMC Theatres® and Zoom Partner to Bring Zoom Rooms to the Comfort and State-of-the-Art Sight and Sound Technology of AMC Movie Theatres', 'Zoom to Release Financial Results for the Third Quarter of Fiscal Year 2023', 'Zoom To Hold Investor Day During Zoomtopia 2022', 'Zoom Accelerates Global Productivity and Growth With Effective Communication From Grammarly Business', 'Thinking about trading options or stock in Occidental Petroleum, Advanced Micro Devices, Mosaic, Zoom Video, or Kroger?', 'Thinking about trading options or stock in Zoom Video, Occidental Petroleum, MicroStrategy, Twitter, or JD.Com?', 'Zoom Video Communications Reports Financial Results for the Second Quarter of Fiscal Year 2023', 'Zoom to Release Financial Results for the Second Quarter of Fiscal Year 2023', 'Zoom Unveils Platform Evolution; Launches New Packaging and Translation Feature', 'Zoom Expands Developer Platform with Launch of Zoom Apps SDK', 'How Software as a Service (SaaS) Market Services Have Become Beneficial for the Public Sector', 'Zoom Hires Greg Tomb as President', 'Zoom and Genesys Announce Strategic Agreement Uniquely Positioned Around Zoom Phone to Improve Collaboration and Customer Experiences', 'Zoom Hires Matthew Saxon as Chief People Officer', 'Software as a Service (SaaS) Market Estimated To Reach $208 Billion By 2023', 'Thinking about trading options or stock in Zoom Video, ConocoPhillips, Bank of America, Apple, or Walt Disney?', 'Zoom Video Communications Reports Financial Results for the First Quarter of Fiscal Year 2023', 'SaaS Software Currently Dominating The Cloud Computing Market, Especially In The Healthcare Industry', \"Zoom Announces Funding for Youth Mental Health Leaders at MTV Entertainment's Mental Health Youth Action Forum\", 'Zoom Drives Contact Center Expansion with Acquisition of Solvvy', 'Zoom to Release Financial Results for the First Quarter of Fiscal Year 2023', \"Zoom's Pain Will Continue To Be Microsoft's Gain\", 'Should You Accumulate Zoom Video Communications Inc (ZM) Stock Monday?', 'Zoom stock slips as Citi opens up downside catalyst watch', \"Analysts' Opinions Are Mixed on These Technology Stocks: My Size (MYSZ) and Zoom Video Communications (ZM)\", 'Recent Lessons', 'Zoom Video: An Unattractive Risk-Reward Profile', '7 Stocks That Will Get a Boost From Their Brutal Layoffs', '3 Tech Stocks to Avoid in 2023 If You Value Your Portfolio', 'Elliott Wave Technical Analysis: Zoom Video Communications Inc. - Tuesday, April 4', 'Should You Buy Zoom Video Communications Inc (ZM) Stock After it Has Gained 5.86% in a Week?', 'Republic First is not First Republic, and other examples of corporate confusion', 'Zoom Video: Tech Stock With Secular Growth, 25% Net Cash, 16x Earnings', 'Zoom Video Communications: Not Zooming In', '1 Stock That Profits From the Rise of Remote Work', 'Hit One out of the Park With This Internet Stock', \"3 Stocks That Could Rocket If a Major Recession Doesn't Materialize\", \"Microsoft's ChatGPT Ended Zoom Video's Growth Ambitions\", 'Can Zoom Video Communications Inc (ZM) Stock Rise to the Top of Technology Sector Monday?', 'What do the Fundamentals Predict for Zoom Video Communications Inc (ZM) Stock?', \"3 Disruptors to Invest In Before They're the Next Big Thing\", 'Analysts Offer Insights on Technology Companies: Zoom Video Communications (ZM), Match Group (MTCH) and Robinhood Markets (HOOD)', 'Is Zoom Video Communications Inc (ZM) Stock a Smart Investment Monday?', '7 Terrible Tech Stocks to Sell in March', 'Is it Time to Dump Zoom Video Communications Inc (ZM) Stock After it Has Fallen 5.58% in a Week?', 'The Only Way To Make Money Investing In Tech', 'DraftKings rallies after Argus turns bullish on earnings potential', 'Why Are Stocks Up Today?', 'ZM Stock Alert: What to Know as Zoom Unexpectedly Fires President', 'Zoom Video shares slip; Wall Street shrugs at firing of company president', 'Should You Buy Zoom Video Communications Inc (ZM) Stock Friday Morning?', \"Zoom Video terminates President's employment\", 'Zoom Video Communications Inc (ZM) Stock Is Down -6.81% This Week: Buy, Hold, or Sell?', '3 AI Stocks That Are Revolutionizing Education', 'TDCX Inc. Launches Foundation Focusing On Digital Inclusion', 'Zoom Video And 3 Other Stocks Insiders Are Selling', \"Ulta Beauty Is A Recession-Proof 'Arms Dealer' For Today's On-Screen Reality: Josh Brown\", 'Analyst Hangs Up On RingCentral With Zoom Waiting To Pounce', \"Prince Harry Says Cannabis Helped Him Cope With Mental Health Struggles & Ayahuasca Was A 'Release'\", 'Zoom Unexpectedly Ousts President Greg Tomb, A Former Google Executive', \"Zoom's Growth Stalls In 'More Challenging Macro Environment': What 5 Analysts Say Comes Next After Q4 Earnings\", \"Zoom Shares Are Trading Higher: What's Going On?\", 'Putting people at the heart of hybrid work: Zoom to acquire Workvivo to bolster the employee experience offering', 'Zoom announces the expansion of Zoom IQ, the smart companion that empowers collaboration and unlocks potential', \"Play Ball! Major League Baseball and Zoom Announce First-of-its-kind Partnership; Zoom Contact Center to Power 'Zoom Replay Operations Center'\", 'Thinking about trading options or stock in Zoom Video, Target, Costco, Apple, or NVIDIA?', 'Zoom Video Communications Reports Fourth Quarter and Fiscal Year 2023 Financial Results', 'Zoom to Release Financial Results for the Fourth Quarter and Full Fiscal Year 2023', 'Zoom Appoints Cindy Hoots to Board of Directors', 'Zoom named a Leader in the 2022 Gartner® Magic Quadrant™ for UCaaS, Worldwide', 'Thinking about buying stock in Palisade Bio, Meta Materials, PayPal, Zoom Video, or Gap?', 'Zoom Video Communications Reports Financial Results for the Third Quarter of Fiscal Year 2023', 'Cvent and Zoom Team Up to Deliver World-Class Hybrid Events', 'Zoomtopia 2022: New Innovations to Power Modern Work Experiences', 'AMC Theatres® and Zoom Partner to Bring Zoom Rooms to the Comfort and State-of-the-Art Sight and Sound Technology of AMC Movie Theatres', 'Zoom to Release Financial Results for the Third Quarter of Fiscal Year 2023', 'Zoom To Hold Investor Day During Zoomtopia 2022', 'Zoom Accelerates Global Productivity and Growth With Effective Communication From Grammarly Business', 'Thinking about trading options or stock in Occidental Petroleum, Advanced Micro Devices, Mosaic, Zoom Video, or Kroger?', 'Thinking about trading options or stock in Zoom Video, Occidental Petroleum, MicroStrategy, Twitter, or JD.Com?', 'Zoom Video Communications Reports Financial Results for the Second Quarter of Fiscal Year 2023', 'Zoom to Release Financial Results for the Second Quarter of Fiscal Year 2023', 'Zoom Unveils Platform Evolution; Launches New Packaging and Translation Feature', 'Zoom Expands Developer Platform with Launch of Zoom Apps SDK', 'How Software as a Service (SaaS) Market Services Have Become Beneficial for the Public Sector', 'Zoom Hires Greg Tomb as President', 'Zoom and Genesys Announce Strategic Agreement Uniquely Positioned Around Zoom Phone to Improve Collaboration and Customer Experiences', 'Zoom Hires Matthew Saxon as Chief People Officer', 'Software as a Service (SaaS) Market Estimated To Reach $208 Billion By 2023', 'Thinking about trading options or stock in Zoom Video, ConocoPhillips, Bank of America, Apple, or Walt Disney?', 'Zoom Video Communications Reports Financial Results for the First Quarter of Fiscal Year 2023', 'SaaS Software Currently Dominating The Cloud Computing Market, Especially In The Healthcare Industry', \"Zoom Announces Funding for Youth Mental Health Leaders at MTV Entertainment's Mental Health Youth Action Forum\", 'Zoom Drives Contact Center Expansion with Acquisition of Solvvy', 'Zoom to Release Financial Results for the First Quarter of Fiscal Year 2023', \"Zoom's Pain Will Continue To Be Microsoft's Gain\", 'Should You Accumulate Zoom Video Communications Inc (ZM) Stock Monday?', 'Zoom stock slips as Citi opens up downside catalyst watch', \"Analysts' Opinions Are Mixed on These Technology Stocks: My Size (MYSZ) and Zoom Video Communications (ZM)\", 'Recent Lessons', 'Zoom Video: An Unattractive Risk-Reward Profile', '7 Stocks That Will Get a Boost From Their Brutal Layoffs', '3 Tech Stocks to Avoid in 2023 If You Value Your Portfolio', 'Elliott Wave Technical Analysis: Zoom Video Communications Inc. - Tuesday, April 4', 'Should You Buy Zoom Video Communications Inc (ZM) Stock After it Has Gained 5.86% in a Week?', 'Republic First is not First Republic, and other examples of corporate confusion', 'Zoom Video: Tech Stock With Secular Growth, 25% Net Cash, 16x Earnings', 'Zoom Video Communications: Not Zooming In', '1 Stock That Profits From the Rise of Remote Work', 'Hit One out of the Park With This Internet Stock', \"3 Stocks That Could Rocket If a Major Recession Doesn't Materialize\", \"Microsoft's ChatGPT Ended Zoom Video's Growth Ambitions\", 'Can Zoom Video Communications Inc (ZM) Stock Rise to the Top of Technology Sector Monday?', 'What do the Fundamentals Predict for Zoom Video Communications Inc (ZM) Stock?', \"3 Disruptors to Invest In Before They're the Next Big Thing\", 'Analysts Offer Insights on Technology Companies: Zoom Video Communications (ZM), Match Group (MTCH) and Robinhood Markets (HOOD)', 'Is Zoom Video Communications Inc (ZM) Stock a Smart Investment Monday?', '7 Terrible Tech Stocks to Sell in March', 'Is it Time to Dump Zoom Video Communications Inc (ZM) Stock After it Has Fallen 5.58% in a Week?', 'The Only Way To Make Money Investing In Tech', 'DraftKings rallies after Argus turns bullish on earnings potential', 'Why Are Stocks Up Today?', 'ZM Stock Alert: What to Know as Zoom Unexpectedly Fires President', 'Zoom Video shares slip; Wall Street shrugs at firing of company president', 'Should You Buy Zoom Video Communications Inc (ZM) Stock Friday Morning?', \"Zoom Video terminates President's employment\", 'Zoom Video Communications Inc (ZM) Stock Is Down -6.81% This Week: Buy, Hold, or Sell?', '3 AI Stocks That Are Revolutionizing Education', 'TDCX Inc. Launches Foundation Focusing On Digital Inclusion', 'Zoom Video And 3 Other Stocks Insiders Are Selling', \"Ulta Beauty Is A Recession-Proof 'Arms Dealer' For Today's On-Screen Reality: Josh Brown\", 'Analyst Hangs Up On RingCentral With Zoom Waiting To Pounce', \"Prince Harry Says Cannabis Helped Him Cope With Mental Health Struggles & Ayahuasca Was A 'Release'\", 'Zoom Unexpectedly Ousts President Greg Tomb, A Former Google Executive', \"Zoom's Growth Stalls In 'More Challenging Macro Environment': What 5 Analysts Say Comes Next After Q4 Earnings\", \"Zoom Shares Are Trading Higher: What's Going On?\", 'Putting people at the heart of hybrid work: Zoom to acquire Workvivo to bolster the employee experience offering', 'Zoom announces the expansion of Zoom IQ, the smart companion that empowers collaboration and unlocks potential', \"Play Ball! Major League Baseball and Zoom Announce First-of-its-kind Partnership; Zoom Contact Center to Power 'Zoom Replay Operations Center'\", 'Thinking about trading options or stock in Zoom Video, Target, Costco, Apple, or NVIDIA?', 'Zoom Video Communications Reports Fourth Quarter and Fiscal Year 2023 Financial Results', 'Zoom to Release Financial Results for the Fourth Quarter and Full Fiscal Year 2023', 'Zoom Appoints Cindy Hoots to Board of Directors', 'Zoom named a Leader in the 2022 Gartner® Magic Quadrant™ for UCaaS, Worldwide', 'Thinking about buying stock in Palisade Bio, Meta Materials, PayPal, Zoom Video, or Gap?', 'Zoom Video Communications Reports Financial Results for the Third Quarter of Fiscal Year 2023', 'Cvent and Zoom Team Up to Deliver World-Class Hybrid Events', 'Zoomtopia 2022: New Innovations to Power Modern Work Experiences', 'AMC Theatres® and Zoom Partner to Bring Zoom Rooms to the Comfort and State-of-the-Art Sight and Sound Technology of AMC Movie Theatres', 'Zoom to Release Financial Results for the Third Quarter of Fiscal Year 2023', 'Zoom To Hold Investor Day During Zoomtopia 2022', 'Zoom Accelerates Global Productivity and Growth With Effective Communication From Grammarly Business', 'Thinking about trading options or stock in Occidental Petroleum, Advanced Micro Devices, Mosaic, Zoom Video, or Kroger?', 'Thinking about trading options or stock in Zoom Video, Occidental Petroleum, MicroStrategy, Twitter, or JD.Com?', 'Zoom Video Communications Reports Financial Results for the Second Quarter of Fiscal Year 2023', 'Zoom to Release Financial Results for the Second Quarter of Fiscal Year 2023', 'Zoom Unveils Platform Evolution; Launches New Packaging and Translation Feature', 'Zoom Expands Developer Platform with Launch of Zoom Apps SDK', 'How Software as a Service (SaaS) Market Services Have Become Beneficial for the Public Sector', 'Zoom Hires Greg Tomb as President', 'Zoom and Genesys Announce Strategic Agreement Uniquely Positioned Around Zoom Phone to Improve Collaboration and Customer Experiences', 'Zoom Hires Matthew Saxon as Chief People Officer', 'Software as a Service (SaaS) Market Estimated To Reach $208 Billion By 2023', 'Thinking about trading options or stock in Zoom Video, ConocoPhillips, Bank of America, Apple, or Walt Disney?', 'Zoom Video Communications Reports Financial Results for the First Quarter of Fiscal Year 2023', 'SaaS Software Currently Dominating The Cloud Computing Market, Especially In The Healthcare Industry', \"Zoom Announces Funding for Youth Mental Health Leaders at MTV Entertainment's Mental Health Youth Action Forum\", 'Zoom Drives Contact Center Expansion with Acquisition of Solvvy', 'Zoom to Release Financial Results for the First Quarter of Fiscal Year 2023', \"Zoom's Pain Will Continue To Be Microsoft's Gain\", 'Should You Accumulate Zoom Video Communications Inc (ZM) Stock Monday?', 'Zoom stock slips as Citi opens up downside catalyst watch', \"Analysts' Opinions Are Mixed on These Technology Stocks: My Size (MYSZ) and Zoom Video Communications (ZM)\", 'Recent Lessons', 'Zoom Video: An Unattractive Risk-Reward Profile', '7 Stocks That Will Get a Boost From Their Brutal Layoffs', '3 Tech Stocks to Avoid in 2023 If You Value Your Portfolio', 'Elliott Wave Technical Analysis: Zoom Video Communications Inc. - Tuesday, April 4', 'Should You Buy Zoom Video Communications Inc (ZM) Stock After it Has Gained 5.86% in a Week?', 'Republic First is not First Republic, and other examples of corporate confusion', 'Zoom Video: Tech Stock With Secular Growth, 25% Net Cash, 16x Earnings', 'Zoom Video Communications: Not Zooming In', '1 Stock That Profits From the Rise of Remote Work', 'Hit One out of the Park With This Internet Stock', \"3 Stocks That Could Rocket If a Major Recession Doesn't Materialize\", \"Microsoft's ChatGPT Ended Zoom Video's Growth Ambitions\", 'Can Zoom Video Communications Inc (ZM) Stock Rise to the Top of Technology Sector Monday?', 'What do the Fundamentals Predict for Zoom Video Communications Inc (ZM) Stock?', \"3 Disruptors to Invest In Before They're the Next Big Thing\", 'Analysts Offer Insights on Technology Companies: Zoom Video Communications (ZM), Match Group (MTCH) and Robinhood Markets (HOOD)', 'Is Zoom Video Communications Inc (ZM) Stock a Smart Investment Monday?', '7 Terrible Tech Stocks to Sell in March', 'Is it Time to Dump Zoom Video Communications Inc (ZM) Stock After it Has Fallen 5.58% in a Week?', 'The Only Way To Make Money Investing In Tech', 'DraftKings rallies after Argus turns bullish on earnings potential', 'Why Are Stocks Up Today?', 'ZM Stock Alert: What to Know as Zoom Unexpectedly Fires President', 'Zoom Video shares slip; Wall Street shrugs at firing of company president', 'Should You Buy Zoom Video Communications Inc (ZM) Stock Friday Morning?', \"Zoom Video terminates President's employment\", 'Zoom Video Communications Inc (ZM) Stock Is Down -6.81% This Week: Buy, Hold, or Sell?', '3 AI Stocks That Are Revolutionizing Education', 'TDCX Inc. Launches Foundation Focusing On Digital Inclusion', 'Zoom Video And 3 Other Stocks Insiders Are Selling', \"Ulta Beauty Is A Recession-Proof 'Arms Dealer' For Today's On-Screen Reality: Josh Brown\", 'Analyst Hangs Up On RingCentral With Zoom Waiting To Pounce', \"Prince Harry Says Cannabis Helped Him Cope With Mental Health Struggles & Ayahuasca Was A 'Release'\", 'Zoom Unexpectedly Ousts President Greg Tomb, A Former Google Executive', \"Zoom's Growth Stalls In 'More Challenging Macro Environment': What 5 Analysts Say Comes Next After Q4 Earnings\", \"Zoom Shares Are Trading Higher: What's Going On?\", 'Putting people at the heart of hybrid work: Zoom to acquire Workvivo to bolster the employee experience offering', 'Zoom announces the expansion of Zoom IQ, the smart companion that empowers collaboration and unlocks potential', \"Play Ball! Major League Baseball and Zoom Announce First-of-its-kind Partnership; Zoom Contact Center to Power 'Zoom Replay Operations Center'\", 'Thinking about trading options or stock in Zoom Video, Target, Costco, Apple, or NVIDIA?', 'Zoom Video Communications Reports Fourth Quarter and Fiscal Year 2023 Financial Results', 'Zoom to Release Financial Results for the Fourth Quarter and Full Fiscal Year 2023', 'Zoom Appoints Cindy Hoots to Board of Directors', 'Zoom named a Leader in the 2022 Gartner® Magic Quadrant™ for UCaaS, Worldwide', 'Thinking about buying stock in Palisade Bio, Meta Materials, PayPal, Zoom Video, or Gap?', 'Zoom Video Communications Reports Financial Results for the Third Quarter of Fiscal Year 2023', 'Cvent and Zoom Team Up to Deliver World-Class Hybrid Events', 'Zoomtopia 2022: New Innovations to Power Modern Work Experiences', 'AMC Theatres® and Zoom Partner to Bring Zoom Rooms to the Comfort and State-of-the-Art Sight and Sound Technology of AMC Movie Theatres', 'Zoom to Release Financial Results for the Third Quarter of Fiscal Year 2023', 'Zoom To Hold Investor Day During Zoomtopia 2022', 'Zoom Accelerates Global Productivity and Growth With Effective Communication From Grammarly Business', 'Thinking about trading options or stock in Occidental Petroleum, Advanced Micro Devices, Mosaic, Zoom Video, or Kroger?', 'Thinking about trading options or stock in Zoom Video, Occidental Petroleum, MicroStrategy, Twitter, or JD.Com?', 'Zoom Video Communications Reports Financial Results for the Second Quarter of Fiscal Year 2023', 'Zoom to Release Financial Results for the Second Quarter of Fiscal Year 2023', 'Zoom Unveils Platform Evolution; Launches New Packaging and Translation Feature', 'Zoom Expands Developer Platform with Launch of Zoom Apps SDK', 'How Software as a Service (SaaS) Market Services Have Become Beneficial for the Public Sector', 'Zoom Hires Greg Tomb as President', 'Zoom and Genesys Announce Strategic Agreement Uniquely Positioned Around Zoom Phone to Improve Collaboration and Customer Experiences', 'Zoom Hires Matthew Saxon as Chief People Officer', 'Software as a Service (SaaS) Market Estimated To Reach $208 Billion By 2023', 'Thinking about trading options or stock in Zoom Video, ConocoPhillips, Bank of America, Apple, or Walt Disney?', 'Zoom Video Communications Reports Financial Results for the First Quarter of Fiscal Year 2023', 'SaaS Software Currently Dominating The Cloud Computing Market, Especially In The Healthcare Industry', \"Zoom Announces Funding for Youth Mental Health Leaders at MTV Entertainment's Mental Health Youth Action Forum\", 'Zoom Drives Contact Center Expansion with Acquisition of Solvvy', 'Zoom to Release Financial Results for the First Quarter of Fiscal Year 2023', \"Zoom's Pain Will Continue To Be Microsoft's Gain\", 'Should You Accumulate Zoom Video Communications Inc (ZM) Stock Monday?', 'Zoom stock slips as Citi opens up downside catalyst watch', \"Analysts' Opinions Are Mixed on These Technology Stocks: My Size (MYSZ) and Zoom Video Communications (ZM)\", 'Recent Lessons', 'Zoom Video: An Unattractive Risk-Reward Profile', '7 Stocks That Will Get a Boost From Their Brutal Layoffs', '3 Tech Stocks to Avoid in 2023 If You Value Your Portfolio', 'Elliott Wave Technical Analysis: Zoom Video Communications Inc. - Tuesday, April 4', 'Should You Buy Zoom Video Communications Inc (ZM) Stock After it Has Gained 5.86% in a Week?', 'Republic First is not First Republic, and other examples of corporate confusion', 'Zoom Video: Tech Stock With Secular Growth, 25% Net Cash, 16x Earnings', 'Zoom Video Communications: Not Zooming In', '1 Stock That Profits From the Rise of Remote Work', 'Hit One out of the Park With This Internet Stock', \"3 Stocks That Could Rocket If a Major Recession Doesn't Materialize\", \"Microsoft's ChatGPT Ended Zoom Video's Growth Ambitions\", 'Can Zoom Video Communications Inc (ZM) Stock Rise to the Top of Technology Sector Monday?', 'What do the Fundamentals Predict for Zoom Video Communications Inc (ZM) Stock?', \"3 Disruptors to Invest In Before They're the Next Big Thing\", 'Analysts Offer Insights on Technology Companies: Zoom Video Communications (ZM), Match Group (MTCH) and Robinhood Markets (HOOD)', 'Is Zoom Video Communications Inc (ZM) Stock a Smart Investment Monday?', '7 Terrible Tech Stocks to Sell in March', 'Is it Time to Dump Zoom Video Communications Inc (ZM) Stock After it Has Fallen 5.58% in a Week?', 'The Only Way To Make Money Investing In Tech', 'DraftKings rallies after Argus turns bullish on earnings potential', 'Why Are Stocks Up Today?', 'ZM Stock Alert: What to Know as Zoom Unexpectedly Fires President', 'Zoom Video shares slip; Wall Street shrugs at firing of company president', 'Should You Buy Zoom Video Communications Inc (ZM) Stock Friday Morning?', \"Zoom Video terminates President's employment\", 'Zoom Video Communications Inc (ZM) Stock Is Down -6.81% This Week: Buy, Hold, or Sell?', '3 AI Stocks That Are Revolutionizing Education', 'TDCX Inc. Launches Foundation Focusing On Digital Inclusion', 'Zoom Video And 3 Other Stocks Insiders Are Selling', \"Ulta Beauty Is A Recession-Proof 'Arms Dealer' For Today's On-Screen Reality: Josh Brown\", 'Analyst Hangs Up On RingCentral With Zoom Waiting To Pounce', \"Prince Harry Says Cannabis Helped Him Cope With Mental Health Struggles & Ayahuasca Was A 'Release'\", 'Zoom Unexpectedly Ousts President Greg Tomb, A Former Google Executive', \"Zoom's Growth Stalls In 'More Challenging Macro Environment': What 5 Analysts Say Comes Next After Q4 Earnings\", \"Zoom Shares Are Trading Higher: What's Going On?\", 'Putting people at the heart of hybrid work: Zoom to acquire Workvivo to bolster the employee experience offering', 'Zoom announces the expansion of Zoom IQ, the smart companion that empowers collaboration and unlocks potential', \"Play Ball! Major League Baseball and Zoom Announce First-of-its-kind Partnership; Zoom Contact Center to Power 'Zoom Replay Operations Center'\", 'Thinking about trading options or stock in Zoom Video, Target, Costco, Apple, or NVIDIA?', 'Zoom Video Communications Reports Fourth Quarter and Fiscal Year 2023 Financial Results', 'Zoom to Release Financial Results for the Fourth Quarter and Full Fiscal Year 2023', 'Zoom Appoints Cindy Hoots to Board of Directors', 'Zoom named a Leader in the 2022 Gartner® Magic Quadrant™ for UCaaS, Worldwide', 'Thinking about buying stock in Palisade Bio, Meta Materials, PayPal, Zoom Video, or Gap?', 'Zoom Video Communications Reports Financial Results for the Third Quarter of Fiscal Year 2023', 'Cvent and Zoom Team Up to Deliver World-Class Hybrid Events', 'Zoomtopia 2022: New Innovations to Power Modern Work Experiences', 'AMC Theatres® and Zoom Partner to Bring Zoom Rooms to the Comfort and State-of-the-Art Sight and Sound Technology of AMC Movie Theatres', 'Zoom to Release Financial Results for the Third Quarter of Fiscal Year 2023', 'Zoom To Hold Investor Day During Zoomtopia 2022', 'Zoom Accelerates Global Productivity and Growth With Effective Communication From Grammarly Business', 'Thinking about trading options or stock in Occidental Petroleum, Advanced Micro Devices, Mosaic, Zoom Video, or Kroger?', 'Thinking about trading options or stock in Zoom Video, Occidental Petroleum, MicroStrategy, Twitter, or JD.Com?', 'Zoom Video Communications Reports Financial Results for the Second Quarter of Fiscal Year 2023', 'Zoom to Release Financial Results for the Second Quarter of Fiscal Year 2023', 'Zoom Unveils Platform Evolution; Launches New Packaging and Translation Feature', 'Zoom Expands Developer Platform with Launch of Zoom Apps SDK', 'How Software as a Service (SaaS) Market Services Have Become Beneficial for the Public Sector', 'Zoom Hires Greg Tomb as President', 'Zoom and Genesys Announce Strategic Agreement Uniquely Positioned Around Zoom Phone to Improve Collaboration and Customer Experiences', 'Zoom Hires Matthew Saxon as Chief People Officer', 'Software as a Service (SaaS) Market Estimated To Reach $208 Billion By 2023', 'Thinking about trading options or stock in Zoom Video, ConocoPhillips, Bank of America, Apple, or Walt Disney?', 'Zoom Video Communications Reports Financial Results for the First Quarter of Fiscal Year 2023', 'SaaS Software Currently Dominating The Cloud Computing Market, Especially In The Healthcare Industry', \"Zoom Announces Funding for Youth Mental Health Leaders at MTV Entertainment's Mental Health Youth Action Forum\", 'Zoom Drives Contact Center Expansion with Acquisition of Solvvy', 'Zoom to Release Financial Results for the First Quarter of Fiscal Year 2023', \"Zoom's Pain Will Continue To Be Microsoft's Gain\", 'Should You Accumulate Zoom Video Communications Inc (ZM) Stock Monday?', 'Zoom stock slips as Citi opens up downside catalyst watch', \"Analysts' Opinions Are Mixed on These Technology Stocks: My Size (MYSZ) and Zoom Video Communications (ZM)\", 'Recent Lessons', 'Zoom Video: An Unattractive Risk-Reward Profile', '7 Stocks That Will Get a Boost From Their Brutal Layoffs', '3 Tech Stocks to Avoid in 2023 If You Value Your Portfolio', 'Elliott Wave Technical Analysis: Zoom Video Communications Inc. - Tuesday, April 4', 'Should You Buy Zoom Video Communications Inc (ZM) Stock After it Has Gained 5.86% in a Week?', 'Republic First is not First Republic, and other examples of corporate confusion', 'Zoom Video: Tech Stock With Secular Growth, 25% Net Cash, 16x Earnings', 'Zoom Video Communications: Not Zooming In', '1 Stock That Profits From the Rise of Remote Work', 'Hit One out of the Park With This Internet Stock', \"3 Stocks That Could Rocket If a Major Recession Doesn't Materialize\", \"Microsoft's ChatGPT Ended Zoom Video's Growth Ambitions\", 'Can Zoom Video Communications Inc (ZM) Stock Rise to the Top of Technology Sector Monday?', 'What do the Fundamentals Predict for Zoom Video Communications Inc (ZM) Stock?', \"3 Disruptors to Invest In Before They're the Next Big Thing\", 'Analysts Offer Insights on Technology Companies: Zoom Video Communications (ZM), Match Group (MTCH) and Robinhood Markets (HOOD)', 'Is Zoom Video Communications Inc (ZM) Stock a Smart Investment Monday?', '7 Terrible Tech Stocks to Sell in March', 'Is it Time to Dump Zoom Video Communications Inc (ZM) Stock After it Has Fallen 5.58% in a Week?', 'The Only Way To Make Money Investing In Tech', 'DraftKings rallies after Argus turns bullish on earnings potential', 'Why Are Stocks Up Today?', 'ZM Stock Alert: What to Know as Zoom Unexpectedly Fires President', 'Zoom Video shares slip; Wall Street shrugs at firing of company president', 'Should You Buy Zoom Video Communications Inc (ZM) Stock Friday Morning?', \"Zoom Video terminates President's employment\", 'Zoom Video Communications Inc (ZM) Stock Is Down -6.81% This Week: Buy, Hold, or Sell?', '3 AI Stocks That Are Revolutionizing Education', 'TDCX Inc. Launches Foundation Focusing On Digital Inclusion', 'Zoom Video And 3 Other Stocks Insiders Are Selling', \"Ulta Beauty Is A Recession-Proof 'Arms Dealer' For Today's On-Screen Reality: Josh Brown\", 'Analyst Hangs Up On RingCentral With Zoom Waiting To Pounce', \"Prince Harry Says Cannabis Helped Him Cope With Mental Health Struggles & Ayahuasca Was A 'Release'\", 'Zoom Unexpectedly Ousts President Greg Tomb, A Former Google Executive', \"Zoom's Growth Stalls In 'More Challenging Macro Environment': What 5 Analysts Say Comes Next After Q4 Earnings\", \"Zoom Shares Are Trading Higher: What's Going On?\", 'Putting people at the heart of hybrid work: Zoom to acquire Workvivo to bolster the employee experience offering', 'Zoom announces the expansion of Zoom IQ, the smart companion that empowers collaboration and unlocks potential', \"Play Ball! Major League Baseball and Zoom Announce First-of-its-kind Partnership; Zoom Contact Center to Power 'Zoom Replay Operations Center'\", 'Thinking about trading options or stock in Zoom Video, Target, Costco, Apple, or NVIDIA?', 'Zoom Video Communications Reports Fourth Quarter and Fiscal Year 2023 Financial Results', 'Zoom to Release Financial Results for the Fourth Quarter and Full Fiscal Year 2023', 'Zoom Appoints Cindy Hoots to Board of Directors', 'Zoom named a Leader in the 2022 Gartner® Magic Quadrant™ for UCaaS, Worldwide', 'Thinking about buying stock in Palisade Bio, Meta Materials, PayPal, Zoom Video, or Gap?', 'Zoom Video Communications Reports Financial Results for the Third Quarter of Fiscal Year 2023', 'Cvent and Zoom Team Up to Deliver World-Class Hybrid Events', 'Zoomtopia 2022: New Innovations to Power Modern Work Experiences', 'AMC Theatres® and Zoom Partner to Bring Zoom Rooms to the Comfort and State-of-the-Art Sight and Sound Technology of AMC Movie Theatres', 'Zoom to Release Financial Results for the Third Quarter of Fiscal Year 2023', 'Zoom To Hold Investor Day During Zoomtopia 2022', 'Zoom Accelerates Global Productivity and Growth With Effective Communication From Grammarly Business', 'Thinking about trading options or stock in Occidental Petroleum, Advanced Micro Devices, Mosaic, Zoom Video, or Kroger?', 'Thinking about trading options or stock in Zoom Video, Occidental Petroleum, MicroStrategy, Twitter, or JD.Com?', 'Zoom Video Communications Reports Financial Results for the Second Quarter of Fiscal Year 2023', 'Zoom to Release Financial Results for the Second Quarter of Fiscal Year 2023', 'Zoom Unveils Platform Evolution; Launches New Packaging and Translation Feature', 'Zoom Expands Developer Platform with Launch of Zoom Apps SDK', 'How Software as a Service (SaaS) Market Services Have Become Beneficial for the Public Sector', 'Zoom Hires Greg Tomb as President', 'Zoom and Genesys Announce Strategic Agreement Uniquely Positioned Around Zoom Phone to Improve Collaboration and Customer Experiences', 'Zoom Hires Matthew Saxon as Chief People Officer', 'Software as a Service (SaaS) Market Estimated To Reach $208 Billion By 2023', 'Thinking about trading options or stock in Zoom Video, ConocoPhillips, Bank of America, Apple, or Walt Disney?', 'Zoom Video Communications Reports Financial Results for the First Quarter of Fiscal Year 2023', 'SaaS Software Currently Dominating The Cloud Computing Market, Especially In The Healthcare Industry', \"Zoom Announces Funding for Youth Mental Health Leaders at MTV Entertainment's Mental Health Youth Action Forum\", 'Zoom Drives Contact Center Expansion with Acquisition of Solvvy', 'Zoom to Release Financial Results for the First Quarter of Fiscal Year 2023', \"Zoom's Pain Will Continue To Be Microsoft's Gain\", 'Should You Accumulate Zoom Video Communications Inc (ZM) Stock Monday?', 'Zoom stock slips as Citi opens up downside catalyst watch', \"Analysts' Opinions Are Mixed on These Technology Stocks: My Size (MYSZ) and Zoom Video Communications (ZM)\", 'Recent Lessons', 'Zoom Video: An Unattractive Risk-Reward Profile', '7 Stocks That Will Get a Boost From Their Brutal Layoffs', '3 Tech Stocks to Avoid in 2023 If You Value Your Portfolio', 'Elliott Wave Technical Analysis: Zoom Video Communications Inc. - Tuesday, April 4', 'Should You Buy Zoom Video Communications Inc (ZM) Stock After it Has Gained 5.86% in a Week?', 'Republic First is not First Republic, and other examples of corporate confusion', 'Zoom Video: Tech Stock With Secular Growth, 25% Net Cash, 16x Earnings', 'Zoom Video Communications: Not Zooming In', '1 Stock That Profits From the Rise of Remote Work', 'Hit One out of the Park With This Internet Stock', \"3 Stocks That Could Rocket If a Major Recession Doesn't Materialize\", \"Microsoft's ChatGPT Ended Zoom Video's Growth Ambitions\", 'Can Zoom Video Communications Inc (ZM) Stock Rise to the Top of Technology Sector Monday?', 'What do the Fundamentals Predict for Zoom Video Communications Inc (ZM) Stock?', \"3 Disruptors to Invest In Before They're the Next Big Thing\", 'Analysts Offer Insights on Technology Companies: Zoom Video Communications (ZM), Match Group (MTCH) and Robinhood Markets (HOOD)', 'Is Zoom Video Communications Inc (ZM) Stock a Smart Investment Monday?', '7 Terrible Tech Stocks to Sell in March', 'Is it Time to Dump Zoom Video Communications Inc (ZM) Stock After it Has Fallen 5.58% in a Week?', 'The Only Way To Make Money Investing In Tech', 'DraftKings rallies after Argus turns bullish on earnings potential', 'Why Are Stocks Up Today?', 'ZM Stock Alert: What to Know as Zoom Unexpectedly Fires President', 'Zoom Video shares slip; Wall Street shrugs at firing of company president', 'Should You Buy Zoom Video Communications Inc (ZM) Stock Friday Morning?', \"Zoom Video terminates President's employment\", 'Zoom Video Communications Inc (ZM) Stock Is Down -6.81% This Week: Buy, Hold, or Sell?', '3 AI Stocks That Are Revolutionizing Education', 'TDCX Inc. Launches Foundation Focusing On Digital Inclusion', 'Zoom Video And 3 Other Stocks Insiders Are Selling', \"Ulta Beauty Is A Recession-Proof 'Arms Dealer' For Today's On-Screen Reality: Josh Brown\", 'Analyst Hangs Up On RingCentral With Zoom Waiting To Pounce', \"Prince Harry Says Cannabis Helped Him Cope With Mental Health Struggles & Ayahuasca Was A 'Release'\", 'Zoom Unexpectedly Ousts President Greg Tomb, A Former Google Executive', \"Zoom's Growth Stalls In 'More Challenging Macro Environment': What 5 Analysts Say Comes Next After Q4 Earnings\", \"Zoom Shares Are Trading Higher: What's Going On?\", 'Putting people at the heart of hybrid work: Zoom to acquire Workvivo to bolster the employee experience offering', 'Zoom announces the expansion of Zoom IQ, the smart companion that empowers collaboration and unlocks potential', \"Play Ball! Major League Baseball and Zoom Announce First-of-its-kind Partnership; Zoom Contact Center to Power 'Zoom Replay Operations Center'\", 'Thinking about trading options or stock in Zoom Video, Target, Costco, Apple, or NVIDIA?', 'Zoom Video Communications Reports Fourth Quarter and Fiscal Year 2023 Financial Results', 'Zoom to Release Financial Results for the Fourth Quarter and Full Fiscal Year 2023', 'Zoom Appoints Cindy Hoots to Board of Directors', 'Zoom named a Leader in the 2022 Gartner® Magic Quadrant™ for UCaaS, Worldwide', 'Thinking about buying stock in Palisade Bio, Meta Materials, PayPal, Zoom Video, or Gap?', 'Zoom Video Communications Reports Financial Results for the Third Quarter of Fiscal Year 2023', 'Cvent and Zoom Team Up to Deliver World-Class Hybrid Events', 'Zoomtopia 2022: New Innovations to Power Modern Work Experiences', 'AMC Theatres® and Zoom Partner to Bring Zoom Rooms to the Comfort and State-of-the-Art Sight and Sound Technology of AMC Movie Theatres', 'Zoom to Release Financial Results for the Third Quarter of Fiscal Year 2023', 'Zoom To Hold Investor Day During Zoomtopia 2022', 'Zoom Accelerates Global Productivity and Growth With Effective Communication From Grammarly Business', 'Thinking about trading options or stock in Occidental Petroleum, Advanced Micro Devices, Mosaic, Zoom Video, or Kroger?', 'Thinking about trading options or stock in Zoom Video, Occidental Petroleum, MicroStrategy, Twitter, or JD.Com?', 'Zoom Video Communications Reports Financial Results for the Second Quarter of Fiscal Year 2023', 'Zoom to Release Financial Results for the Second Quarter of Fiscal Year 2023', 'Zoom Unveils Platform Evolution; Launches New Packaging and Translation Feature', 'Zoom Expands Developer Platform with Launch of Zoom Apps SDK', 'How Software as a Service (SaaS) Market Services Have Become Beneficial for the Public Sector', 'Zoom Hires Greg Tomb as President', 'Zoom and Genesys Announce Strategic Agreement Uniquely Positioned Around Zoom Phone to Improve Collaboration and Customer Experiences', 'Zoom Hires Matthew Saxon as Chief People Officer', 'Software as a Service (SaaS) Market Estimated To Reach $208 Billion By 2023', 'Thinking about trading options or stock in Zoom Video, ConocoPhillips, Bank of America, Apple, or Walt Disney?', 'Zoom Video Communications Reports Financial Results for the First Quarter of Fiscal Year 2023', 'SaaS Software Currently Dominating The Cloud Computing Market, Especially In The Healthcare Industry', \"Zoom Announces Funding for Youth Mental Health Leaders at MTV Entertainment's Mental Health Youth Action Forum\", 'Zoom Drives Contact Center Expansion with Acquisition of Solvvy', 'Zoom to Release Financial Results for the First Quarter of Fiscal Year 2023', \"Zoom's Pain Will Continue To Be Microsoft's Gain\", 'Should You Accumulate Zoom Video Communications Inc (ZM) Stock Monday?', 'Zoom stock slips as Citi opens up downside catalyst watch', \"Analysts' Opinions Are Mixed on These Technology Stocks: My Size (MYSZ) and Zoom Video Communications (ZM)\", 'Recent Lessons', 'Zoom Video: An Unattractive Risk-Reward Profile', '7 Stocks That Will Get a Boost From Their Brutal Layoffs', '3 Tech Stocks to Avoid in 2023 If You Value Your Portfolio', 'Elliott Wave Technical Analysis: Zoom Video Communications Inc. - Tuesday, April 4', 'Should You Buy Zoom Video Communications Inc (ZM) Stock After it Has Gained 5.86% in a Week?', 'Republic First is not First Republic, and other examples of corporate confusion', 'Zoom Video: Tech Stock With Secular Growth, 25% Net Cash, 16x Earnings', 'Zoom Video Communications: Not Zooming In', '1 Stock That Profits From the Rise of Remote Work', 'Hit One out of the Park With This Internet Stock', \"3 Stocks That Could Rocket If a Major Recession Doesn't Materialize\", \"Microsoft's ChatGPT Ended Zoom Video's Growth Ambitions\", 'Can Zoom Video Communications Inc (ZM) Stock Rise to the Top of Technology Sector Monday?', 'What do the Fundamentals Predict for Zoom Video Communications Inc (ZM) Stock?', \"3 Disruptors to Invest In Before They're the Next Big Thing\", 'Analysts Offer Insights on Technology Companies: Zoom Video Communications (ZM), Match Group (MTCH) and Robinhood Markets (HOOD)', 'Is Zoom Video Communications Inc (ZM) Stock a Smart Investment Monday?', '7 Terrible Tech Stocks to Sell in March', 'Is it Time to Dump Zoom Video Communications Inc (ZM) Stock After it Has Fallen 5.58% in a Week?', 'The Only Way To Make Money Investing In Tech', 'DraftKings rallies after Argus turns bullish on earnings potential', 'Why Are Stocks Up Today?', 'ZM Stock Alert: What to Know as Zoom Unexpectedly Fires President', 'Zoom Video shares slip; Wall Street shrugs at firing of company president', 'Should You Buy Zoom Video Communications Inc (ZM) Stock Friday Morning?', \"Zoom Video terminates President's employment\", 'Zoom Video Communications Inc (ZM) Stock Is Down -6.81% This Week: Buy, Hold, or Sell?', '3 AI Stocks That Are Revolutionizing Education', 'TDCX Inc. Launches Foundation Focusing On Digital Inclusion', 'Zoom Video And 3 Other Stocks Insiders Are Selling', \"Ulta Beauty Is A Recession-Proof 'Arms Dealer' For Today's On-Screen Reality: Josh Brown\", 'Analyst Hangs Up On RingCentral With Zoom Waiting To Pounce', \"Prince Harry Says Cannabis Helped Him Cope With Mental Health Struggles & Ayahuasca Was A 'Release'\", 'Zoom Unexpectedly Ousts President Greg Tomb, A Former Google Executive', \"Zoom's Growth Stalls In 'More Challenging Macro Environment': What 5 Analysts Say Comes Next After Q4 Earnings\", \"Zoom Shares Are Trading Higher: What's Going On?\", 'Putting people at the heart of hybrid work: Zoom to acquire Workvivo to bolster the employee experience offering', 'Zoom announces the expansion of Zoom IQ, the smart companion that empowers collaboration and unlocks potential', \"Play Ball! Major League Baseball and Zoom Announce First-of-its-kind Partnership; Zoom Contact Center to Power 'Zoom Replay Operations Center'\", 'Thinking about trading options or stock in Zoom Video, Target, Costco, Apple, or NVIDIA?', 'Zoom Video Communications Reports Fourth Quarter and Fiscal Year 2023 Financial Results', 'Zoom to Release Financial Results for the Fourth Quarter and Full Fiscal Year 2023', 'Zoom Appoints Cindy Hoots to Board of Directors', 'Zoom named a Leader in the 2022 Gartner® Magic Quadrant™ for UCaaS, Worldwide', 'Thinking about buying stock in Palisade Bio, Meta Materials, PayPal, Zoom Video, or Gap?', 'Zoom Video Communications Reports Financial Results for the Third Quarter of Fiscal Year 2023', 'Cvent and Zoom Team Up to Deliver World-Class Hybrid Events', 'Zoomtopia 2022: New Innovations to Power Modern Work Experiences', 'AMC Theatres® and Zoom Partner to Bring Zoom Rooms to the Comfort and State-of-the-Art Sight and Sound Technology of AMC Movie Theatres', 'Zoom to Release Financial Results for the Third Quarter of Fiscal Year 2023', 'Zoom To Hold Investor Day During Zoomtopia 2022', 'Zoom Accelerates Global Productivity and Growth With Effective Communication From Grammarly Business', 'Thinking about trading options or stock in Occidental Petroleum, Advanced Micro Devices, Mosaic, Zoom Video, or Kroger?', 'Thinking about trading options or stock in Zoom Video, Occidental Petroleum, MicroStrategy, Twitter, or JD.Com?', 'Zoom Video Communications Reports Financial Results for the Second Quarter of Fiscal Year 2023', 'Zoom to Release Financial Results for the Second Quarter of Fiscal Year 2023', 'Zoom Unveils Platform Evolution; Launches New Packaging and Translation Feature', 'Zoom Expands Developer Platform with Launch of Zoom Apps SDK', 'How Software as a Service (SaaS) Market Services Have Become Beneficial for the Public Sector', 'Zoom Hires Greg Tomb as President', 'Zoom and Genesys Announce Strategic Agreement Uniquely Positioned Around Zoom Phone to Improve Collaboration and Customer Experiences', 'Zoom Hires Matthew Saxon as Chief People Officer', 'Software as a Service (SaaS) Market Estimated To Reach $208 Billion By 2023', 'Thinking about trading options or stock in Zoom Video, ConocoPhillips, Bank of America, Apple, or Walt Disney?', 'Zoom Video Communications Reports Financial Results for the First Quarter of Fiscal Year 2023', 'SaaS Software Currently Dominating The Cloud Computing Market, Especially In The Healthcare Industry', \"Zoom Announces Funding for Youth Mental Health Leaders at MTV Entertainment's Mental Health Youth Action Forum\", 'Zoom Drives Contact Center Expansion with Acquisition of Solvvy', 'Zoom to Release Financial Results for the First Quarter of Fiscal Year 2023', \"Zoom's Pain Will Continue To Be Microsoft's Gain\", 'Should You Accumulate Zoom Video Communications Inc (ZM) Stock Monday?', 'Zoom stock slips as Citi opens up downside catalyst watch', \"Analysts' Opinions Are Mixed on These Technology Stocks: My Size (MYSZ) and Zoom Video Communications (ZM)\", 'Recent Lessons', 'Zoom Video: An Unattractive Risk-Reward Profile', '7 Stocks That Will Get a Boost From Their Brutal Layoffs', '3 Tech Stocks to Avoid in 2023 If You Value Your Portfolio', 'Elliott Wave Technical Analysis: Zoom Video Communications Inc. - Tuesday, April 4', 'Should You Buy Zoom Video Communications Inc (ZM) Stock After it Has Gained 5.86% in a Week?', 'Republic First is not First Republic, and other examples of corporate confusion', 'Zoom Video: Tech Stock With Secular Growth, 25% Net Cash, 16x Earnings', 'Zoom Video Communications: Not Zooming In', '1 Stock That Profits From the Rise of Remote Work', 'Hit One out of the Park With This Internet Stock', \"3 Stocks That Could Rocket If a Major Recession Doesn't Materialize\", \"Microsoft's ChatGPT Ended Zoom Video's Growth Ambitions\", 'Can Zoom Video Communications Inc (ZM) Stock Rise to the Top of Technology Sector Monday?', 'What do the Fundamentals Predict for Zoom Video Communications Inc (ZM) Stock?', \"3 Disruptors to Invest In Before They're the Next Big Thing\", 'Analysts Offer Insights on Technology Companies: Zoom Video Communications (ZM), Match Group (MTCH) and Robinhood Markets (HOOD)', 'Is Zoom Video Communications Inc (ZM) Stock a Smart Investment Monday?', '7 Terrible Tech Stocks to Sell in March', 'Is it Time to Dump Zoom Video Communications Inc (ZM) Stock After it Has Fallen 5.58% in a Week?', 'The Only Way To Make Money Investing In Tech', 'DraftKings rallies after Argus turns bullish on earnings potential', 'Why Are Stocks Up Today?', 'ZM Stock Alert: What to Know as Zoom Unexpectedly Fires President', 'Zoom Video shares slip; Wall Street shrugs at firing of company president', 'Should You Buy Zoom Video Communications Inc (ZM) Stock Friday Morning?', \"Zoom Video terminates President's employment\", 'Zoom Video Communications Inc (ZM) Stock Is Down -6.81% This Week: Buy, Hold, or Sell?', '3 AI Stocks That Are Revolutionizing Education']\n"
     ]
    }
   ],
   "source": [
    "print(headlines)"
   ]
  },
  {
   "cell_type": "code",
   "execution_count": 41,
   "metadata": {},
   "outputs": [],
   "source": [
    "import pandas as pd\n",
    "\n",
    "# Combine the two lists into a DataFrame\n",
    "df = pd.DataFrame({'Date': dates, 'News_Headline': headlines})\n",
    "\n",
    "# Save the DataFrame as a CSV file\n",
    "df.to_csv('ZM_news_test.csv', index=False)"
   ]
  },
  {
   "attachments": {},
   "cell_type": "markdown",
   "metadata": {},
   "source": [
    "# container"
   ]
  },
  {
   "cell_type": "code",
   "execution_count": 60,
   "metadata": {},
   "outputs": [
    {
     "name": "stdout",
     "output_type": "stream",
     "text": [
      "https://www.benzinga.com/quote/ZM\n"
     ]
    }
   ],
   "source": [
    "import requests\n",
    "from bs4 import BeautifulSoup\n",
    "from datetime import datetime, timedelta\n",
    "\n",
    "# Define the stock you want to scrape news for\n",
    "stock = \"ZM\"\n",
    "\n",
    "# Define the start and end dates for the news articles\n",
    "start_date = datetime(2023, 3, 27)\n",
    "end_date = datetime(2023, 3, 28)\n",
    "\n",
    "# Define the base URL for the news site you want to scrape\n",
    "base_url = \"https://www.benzinga.com\"\n",
    "\n",
    "# Create an empty list to store the headlines\n",
    "# headlines = []\n",
    "\n",
    "\n",
    "# Construct the URL for the news page for the given date and stock\n",
    "url = f\"{base_url}/quote/{stock}\"\n",
    "\n",
    "print(url)\n",
    "\n",
    "# Send a request to the URL and get the HTML response\n",
    "response = requests.get(url)\n",
    "soup = BeautifulSoup(response.content, \"html.parser\")\n",
    "\n",
    "\n",
    "##\n",
    "# Find the div container that contains the headlines and dates\n",
    "container = soup.find('div', class_='content-feed-container')\n",
    "\n",
    "# # Find all the headline divs inside the container\n",
    "# headlines = container.find_all('div', {'class': 'headline'})\n",
    "\n",
    "# # Find all the date spans inside the container\n",
    "# dates = container.find_all('span', {'class': 'text-grey-dark'})\n",
    "\n",
    "# Extract the text content from each headline and date\n",
    "headlines = [headline.a.text.strip() for headline in container.find_all('div', class_='sc-efaPnb hYxNmK py-2 content-headline')]\n",
    "dates2 = [span.text for span in container.find_all('span', class_='text-grey-dark')]\n",
    "\n",
    "\n"
   ]
  },
  {
   "cell_type": "code",
   "execution_count": 61,
   "metadata": {},
   "outputs": [
    {
     "name": "stdout",
     "output_type": "stream",
     "text": [
      "[]\n"
     ]
    }
   ],
   "source": [
    "print(headlines)"
   ]
  },
  {
   "cell_type": "code",
   "execution_count": 62,
   "metadata": {},
   "outputs": [
    {
     "name": "stdout",
     "output_type": "stream",
     "text": [
      "['3 days ago', 'Mar 28, 2023, 3:25PM', 'Mar 17, 2023, 10:22AM', 'Mar 4, 2023, 4:32PM', 'Mar 3, 2023, 6:59AM', 'Feb 28, 2023, 11:12AM', 'Feb 28, 2023, 8:53AM']\n"
     ]
    }
   ],
   "source": [
    "print(dates)"
   ]
  },
  {
   "cell_type": "code",
   "execution_count": 65,
   "metadata": {},
   "outputs": [],
   "source": [
    "from selenium import webdriver\n",
    "from selenium.webdriver.common.by import By\n",
    "from selenium.webdriver.support.ui import WebDriverWait\n",
    "from selenium.webdriver.support import expected_conditions as EC\n",
    "from bs4 import BeautifulSoup\n",
    "\n",
    "stock = 'ZM'\n",
    "base_url = \"https://www.benzinga.com\"\n",
    "url = f\"{base_url}/quote/{stock}\"\n",
    "driver = webdriver.Chrome() # replace with the path to your Chrome driver executable\n",
    "\n",
    "# Load the page with dynamic content\n",
    "driver.get(url)\n",
    "\n",
    "# Find the \"load more\" button (if there is one) and click it until all content is loaded\n",
    "while True:\n",
    "    try:\n",
    "        load_more_button = WebDriverWait(driver, 10).until(EC.presence_of_element_located((By.XPATH, '//button[@class=\"sc-dkPtRN dkIlzD primary md\"]')))\n",
    "        load_more_button.click()\n",
    "    except:\n",
    "        break\n",
    "\n",
    "# Scrape the page content using Beautiful Soup\n",
    "soup = BeautifulSoup(driver.page_source, 'html.parser')\n",
    "\n",
    "# Find the div container that contains the headlines and dates\n",
    "container = soup.find('div', {'class': 'content-feed-container'})\n",
    "\n",
    "# headlines = [headline.a.text.strip() for headline in container.find_all('div', class_='sc-efaPnb hYxNmK py-2 content-headline')]\n",
    "# dates2 = [span.text for span in container.find_all('span', class_='text-grey-dark')]\n",
    "\n",
    "# Find all the headline divs inside the container\n",
    "headlines = container.find_all('div', {'class': 'sc-efaPnb hYxNmK py-2 content-headline'})\n",
    "\n",
    "# Find all the date spans inside the container\n",
    "dates = container.find_all('span', {'class': 'text-grey-dark'})\n",
    "\n",
    "# Extract the text content from each headline and date\n",
    "for headline, date in zip(headlines, dates):\n",
    "    headline_text = headline.a.text.strip()\n",
    "    date_text = date.text.strip()\n",
    "\n",
    "    # Do something with the headline and date (e.g. print them)\n",
    "    print(headline_text, date_text)\n",
    "\n",
    "# Close the browser window\n",
    "driver.quit()\n"
   ]
  },
  {
   "cell_type": "code",
   "execution_count": null,
   "metadata": {},
   "outputs": [],
   "source": []
  }
 ],
 "metadata": {
  "kernelspec": {
   "display_name": "idlenv",
   "language": "python",
   "name": "python3"
  },
  "language_info": {
   "codemirror_mode": {
    "name": "ipython",
    "version": 3
   },
   "file_extension": ".py",
   "mimetype": "text/x-python",
   "name": "python",
   "nbconvert_exporter": "python",
   "pygments_lexer": "ipython3",
   "version": "3.8.8"
  },
  "orig_nbformat": 4,
  "vscode": {
   "interpreter": {
    "hash": "bb0dab884adde1e2026460bc948d2e1e6e2337a5a2ce1fe906357655ec0a50c7"
   }
  }
 },
 "nbformat": 4,
 "nbformat_minor": 2
}
