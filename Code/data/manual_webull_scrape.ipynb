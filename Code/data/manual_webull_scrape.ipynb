{
 "cells": [
  {
   "attachments": {},
   "cell_type": "markdown",
   "metadata": {},
   "source": [
    "# Scrape Webull via copy-paste\n",
    "This would be used for AMC (2020-2022) and ZM (2020). Faster and more efficient!"
   ]
  },
  {
   "cell_type": "code",
   "execution_count": 22,
   "metadata": {},
   "outputs": [],
   "source": [
    "import pandas as pd"
   ]
  },
  {
   "cell_type": "code",
   "execution_count": 132,
   "metadata": {},
   "outputs": [],
   "source": [
    "# create an empty dataframe with two columns\n",
    "df = pd.DataFrame(columns=['date', 'news_headline'])\n",
    "\n",
    "# read the text file\n",
    "with open('2020-zoom-manual-scrape.txt', 'r') as f:\n",
    "    lines = f.readlines()"
   ]
  },
  {
   "cell_type": "code",
   "execution_count": 133,
   "metadata": {},
   "outputs": [],
   "source": [
    "# iterate through each line in the file\n",
    "for i in range(len(lines)):\n",
    "    # check if the line contains a date\n",
    "    if lines[i].count('/') == 2:\n",
    "        # extract the date\n",
    "        date = lines[i][-17:-7]\n",
    "        # extract text\n",
    "        text = lines[i-1].strip()\n",
    "        # add the text and date to the dataframe\n",
    "        df = df.append({'date': date, 'news_headline': text}, ignore_index=True)\n",
    "    else:\n",
    "        # move past the line\n",
    "        continue"
   ]
  },
  {
   "cell_type": "code",
   "execution_count": 134,
   "metadata": {},
   "outputs": [
    {
     "data": {
      "text/html": [
       "<div>\n",
       "<style scoped>\n",
       "    .dataframe tbody tr th:only-of-type {\n",
       "        vertical-align: middle;\n",
       "    }\n",
       "\n",
       "    .dataframe tbody tr th {\n",
       "        vertical-align: top;\n",
       "    }\n",
       "\n",
       "    .dataframe thead th {\n",
       "        text-align: right;\n",
       "    }\n",
       "</style>\n",
       "<table border=\"1\" class=\"dataframe\">\n",
       "  <thead>\n",
       "    <tr style=\"text-align: right;\">\n",
       "      <th></th>\n",
       "      <th>date</th>\n",
       "      <th>news_headline</th>\n",
       "    </tr>\n",
       "  </thead>\n",
       "  <tbody>\n",
       "    <tr>\n",
       "      <th>0</th>\n",
       "      <td>12/31/2020</td>\n",
       "      <td>Tesla topped both the S&amp;P 500 and Nasdaq 100 b...</td>\n",
       "    </tr>\n",
       "    <tr>\n",
       "      <th>1</th>\n",
       "      <td>12/31/2020</td>\n",
       "      <td>Every week, Benzinga conducts a sentiment surv...</td>\n",
       "    </tr>\n",
       "    <tr>\n",
       "      <th>2</th>\n",
       "      <td>12/31/2020</td>\n",
       "      <td>The tech sector outperformed in 2020 as a numb...</td>\n",
       "    </tr>\n",
       "    <tr>\n",
       "      <th>3</th>\n",
       "      <td>12/31/2020</td>\n",
       "      <td>Plaintiffs accusing Zoom Video Communications ...</td>\n",
       "    </tr>\n",
       "    <tr>\n",
       "      <th>4</th>\n",
       "      <td>12/31/2020</td>\n",
       "      <td>Loup Ventures has published its annual list of...</td>\n",
       "    </tr>\n",
       "  </tbody>\n",
       "</table>\n",
       "</div>"
      ],
      "text/plain": [
       "         date                                      news_headline\n",
       "0  12/31/2020  Tesla topped both the S&P 500 and Nasdaq 100 b...\n",
       "1  12/31/2020  Every week, Benzinga conducts a sentiment surv...\n",
       "2  12/31/2020  The tech sector outperformed in 2020 as a numb...\n",
       "3  12/31/2020  Plaintiffs accusing Zoom Video Communications ...\n",
       "4  12/31/2020  Loup Ventures has published its annual list of..."
      ]
     },
     "metadata": {},
     "output_type": "display_data"
    }
   ],
   "source": [
    "display(df.head())"
   ]
  },
  {
   "attachments": {},
   "cell_type": "markdown",
   "metadata": {},
   "source": [
    "# Check for invalid dates"
   ]
  },
  {
   "cell_type": "code",
   "execution_count": 135,
   "metadata": {},
   "outputs": [
    {
     "data": {
      "text/html": [
       "<div>\n",
       "<style scoped>\n",
       "    .dataframe tbody tr th:only-of-type {\n",
       "        vertical-align: middle;\n",
       "    }\n",
       "\n",
       "    .dataframe tbody tr th {\n",
       "        vertical-align: top;\n",
       "    }\n",
       "\n",
       "    .dataframe thead th {\n",
       "        text-align: right;\n",
       "    }\n",
       "</style>\n",
       "<table border=\"1\" class=\"dataframe\">\n",
       "  <thead>\n",
       "    <tr style=\"text-align: right;\">\n",
       "      <th></th>\n",
       "      <th>date</th>\n",
       "      <th>news_headline</th>\n",
       "    </tr>\n",
       "  </thead>\n",
       "  <tbody>\n",
       "    <tr>\n",
       "      <th>0</th>\n",
       "      <td>2020-12-31</td>\n",
       "      <td>Tesla topped both the S&amp;P 500 and Nasdaq 100 b...</td>\n",
       "    </tr>\n",
       "    <tr>\n",
       "      <th>1</th>\n",
       "      <td>2020-12-31</td>\n",
       "      <td>Every week, Benzinga conducts a sentiment surv...</td>\n",
       "    </tr>\n",
       "    <tr>\n",
       "      <th>2</th>\n",
       "      <td>2020-12-31</td>\n",
       "      <td>The tech sector outperformed in 2020 as a numb...</td>\n",
       "    </tr>\n",
       "    <tr>\n",
       "      <th>3</th>\n",
       "      <td>2020-12-31</td>\n",
       "      <td>Plaintiffs accusing Zoom Video Communications ...</td>\n",
       "    </tr>\n",
       "    <tr>\n",
       "      <th>4</th>\n",
       "      <td>2020-12-31</td>\n",
       "      <td>Loup Ventures has published its annual list of...</td>\n",
       "    </tr>\n",
       "  </tbody>\n",
       "</table>\n",
       "</div>"
      ],
      "text/plain": [
       "        date                                      news_headline\n",
       "0 2020-12-31  Tesla topped both the S&P 500 and Nasdaq 100 b...\n",
       "1 2020-12-31  Every week, Benzinga conducts a sentiment surv...\n",
       "2 2020-12-31  The tech sector outperformed in 2020 as a numb...\n",
       "3 2020-12-31  Plaintiffs accusing Zoom Video Communications ...\n",
       "4 2020-12-31  Loup Ventures has published its annual list of..."
      ]
     },
     "metadata": {},
     "output_type": "display_data"
    },
    {
     "name": "stdout",
     "output_type": "stream",
     "text": [
      "The following rows have an invalid date:\n"
     ]
    },
    {
     "data": {
      "text/html": [
       "<div>\n",
       "<style scoped>\n",
       "    .dataframe tbody tr th:only-of-type {\n",
       "        vertical-align: middle;\n",
       "    }\n",
       "\n",
       "    .dataframe tbody tr th {\n",
       "        vertical-align: top;\n",
       "    }\n",
       "\n",
       "    .dataframe thead th {\n",
       "        text-align: right;\n",
       "    }\n",
       "</style>\n",
       "<table border=\"1\" class=\"dataframe\">\n",
       "  <thead>\n",
       "    <tr style=\"text-align: right;\">\n",
       "      <th></th>\n",
       "      <th>date</th>\n",
       "      <th>news_headline</th>\n",
       "    </tr>\n",
       "  </thead>\n",
       "  <tbody>\n",
       "    <tr>\n",
       "      <th>197</th>\n",
       "      <td>NaT</td>\n",
       "      <td>Snowflake IPO: In-Depth Analysis</td>\n",
       "    </tr>\n",
       "    <tr>\n",
       "      <th>199</th>\n",
       "      <td>NaT</td>\n",
       "      <td>Bandwidth: Leading The Transition In Cloud-Bas...</td>\n",
       "    </tr>\n",
       "    <tr>\n",
       "      <th>202</th>\n",
       "      <td>NaT</td>\n",
       "      <td>AudioCodes: The Sounds Of FCF Generation</td>\n",
       "    </tr>\n",
       "    <tr>\n",
       "      <th>234</th>\n",
       "      <td>NaT</td>\n",
       "      <td>Oracle Highlights Integration Between Oracle F...</td>\n",
       "    </tr>\n",
       "    <tr>\n",
       "      <th>304</th>\n",
       "      <td>NaT</td>\n",
       "      <td>Don't Buy High And Sell Low: What Today's Inve...</td>\n",
       "    </tr>\n",
       "    <tr>\n",
       "      <th>357</th>\n",
       "      <td>NaT</td>\n",
       "      <td>Wall Street Breakfast: High Profile Stock Splits</td>\n",
       "    </tr>\n",
       "    <tr>\n",
       "      <th>652</th>\n",
       "      <td>NaT</td>\n",
       "      <td>Last year's Bay Area IPO performances show why...</td>\n",
       "    </tr>\n",
       "  </tbody>\n",
       "</table>\n",
       "</div>"
      ],
      "text/plain": [
       "    date                                      news_headline\n",
       "197  NaT                   Snowflake IPO: In-Depth Analysis\n",
       "199  NaT  Bandwidth: Leading The Transition In Cloud-Bas...\n",
       "202  NaT           AudioCodes: The Sounds Of FCF Generation\n",
       "234  NaT  Oracle Highlights Integration Between Oracle F...\n",
       "304  NaT  Don't Buy High And Sell Low: What Today's Inve...\n",
       "357  NaT   Wall Street Breakfast: High Profile Stock Splits\n",
       "652  NaT  Last year's Bay Area IPO performances show why..."
      ]
     },
     "metadata": {},
     "output_type": "display_data"
    }
   ],
   "source": [
    "# convert the Date column to a datetime format\n",
    "df['date'] = pd.to_datetime(df['date'], format='%m/%d/%Y', errors='coerce')\n",
    "display(df.head())\n",
    "\n",
    "# check if any rows have an invalid date\n",
    "mask = df['date'].isnull()\n",
    "if mask.any():\n",
    "    print('The following rows have an invalid date:')\n",
    "    display(df[mask])\n",
    "else:\n",
    "    print('All rows have a valid date.')"
   ]
  },
  {
   "cell_type": "code",
   "execution_count": 136,
   "metadata": {},
   "outputs": [],
   "source": [
    "# delete any row with an invalid date\n",
    "df = df[pd.to_datetime(df['date'], format='%m/%d/%Y', errors='coerce').notnull()]"
   ]
  },
  {
   "cell_type": "code",
   "execution_count": 137,
   "metadata": {},
   "outputs": [
    {
     "name": "stdout",
     "output_type": "stream",
     "text": [
      "All rows have a valid date.\n"
     ]
    }
   ],
   "source": [
    "# check if any rows have an invalid date\n",
    "mask = df['date'].isnull()\n",
    "if mask.any():\n",
    "    print('The following rows have an invalid date:')\n",
    "    display(df[mask])\n",
    "else:\n",
    "    print('All rows have a valid date.')"
   ]
  },
  {
   "attachments": {},
   "cell_type": "markdown",
   "metadata": {},
   "source": [
    "# Check for invalid news headlines"
   ]
  },
  {
   "attachments": {},
   "cell_type": "markdown",
   "metadata": {},
   "source": [
    "## Remove empty headlines"
   ]
  },
  {
   "cell_type": "code",
   "execution_count": 138,
   "metadata": {},
   "outputs": [
    {
     "name": "stdout",
     "output_type": "stream",
     "text": [
      "There are no empty rows.\n"
     ]
    }
   ],
   "source": [
    "# check for empty rows\n",
    "# create a boolean mask for empty rows\n",
    "mask = df['news_headline'].apply(lambda x: isinstance(x, str) and x.strip() == '')\n",
    "\n",
    "# display the rows that are empty\n",
    "if mask.any():\n",
    "    print('The following rows are empty:')\n",
    "    display(df[mask])\n",
    "else:\n",
    "    print('There are no empty rows.')"
   ]
  },
  {
   "cell_type": "code",
   "execution_count": 139,
   "metadata": {},
   "outputs": [],
   "source": [
    "# remove them\n",
    "df = df[df['news_headline'].apply(lambda x: isinstance(x, str) and x.strip() != '')]"
   ]
  },
  {
   "cell_type": "code",
   "execution_count": 140,
   "metadata": {},
   "outputs": [
    {
     "name": "stdout",
     "output_type": "stream",
     "text": [
      "There are no empty rows.\n"
     ]
    }
   ],
   "source": [
    "# create a boolean mask for empty rows\n",
    "mask = df['news_headline'].apply(lambda x: isinstance(x, str) and x.strip() == '')\n",
    "\n",
    "# display the rows that are empty\n",
    "if mask.any():\n",
    "    print('The following rows are empty:')\n",
    "    display(df[mask])\n",
    "else:\n",
    "    print('There are no empty rows.')"
   ]
  },
  {
   "attachments": {},
   "cell_type": "markdown",
   "metadata": {},
   "source": [
    "## Remove headlines with links"
   ]
  },
  {
   "cell_type": "code",
   "execution_count": 141,
   "metadata": {},
   "outputs": [
    {
     "name": "stdout",
     "output_type": "stream",
     "text": [
      "The following rows have links:\n"
     ]
    },
    {
     "data": {
      "text/html": [
       "<div>\n",
       "<style scoped>\n",
       "    .dataframe tbody tr th:only-of-type {\n",
       "        vertical-align: middle;\n",
       "    }\n",
       "\n",
       "    .dataframe tbody tr th {\n",
       "        vertical-align: top;\n",
       "    }\n",
       "\n",
       "    .dataframe thead th {\n",
       "        text-align: right;\n",
       "    }\n",
       "</style>\n",
       "<table border=\"1\" class=\"dataframe\">\n",
       "  <thead>\n",
       "    <tr style=\"text-align: right;\">\n",
       "      <th></th>\n",
       "      <th>date</th>\n",
       "      <th>news_headline</th>\n",
       "    </tr>\n",
       "  </thead>\n",
       "  <tbody>\n",
       "    <tr>\n",
       "      <th>123</th>\n",
       "      <td>2020-11-13</td>\n",
       "      <td>https://baltimore.cbslocal.com/2020/11/13/covi...</td>\n",
       "    </tr>\n",
       "    <tr>\n",
       "      <th>161</th>\n",
       "      <td>2020-10-15</td>\n",
       "      <td>https://9to5google.com/2020/10/15/hangouts-fre...</td>\n",
       "    </tr>\n",
       "    <tr>\n",
       "      <th>174</th>\n",
       "      <td>2020-10-14</td>\n",
       "      <td>https://investors.zoom.us/static-files/cc304d8...</td>\n",
       "    </tr>\n",
       "    <tr>\n",
       "      <th>212</th>\n",
       "      <td>2020-10-06</td>\n",
       "      <td>https://about.fb.com/news/2020/10/bringing-net...</td>\n",
       "    </tr>\n",
       "    <tr>\n",
       "      <th>276</th>\n",
       "      <td>2020-09-09</td>\n",
       "      <td>https://citronresearch.com/wp-content/uploads/...</td>\n",
       "    </tr>\n",
       "    <tr>\n",
       "      <th>372</th>\n",
       "      <td>2020-08-24</td>\n",
       "      <td>https://www.wftv.com/news/education/florida-ju...</td>\n",
       "    </tr>\n",
       "    <tr>\n",
       "      <th>414</th>\n",
       "      <td>2020-07-23</td>\n",
       "      <td>https://www.cnbc.com/2020/07/23/cdc-guidelines...</td>\n",
       "    </tr>\n",
       "    <tr>\n",
       "      <th>417</th>\n",
       "      <td>2020-07-22</td>\n",
       "      <td>https://www.seattletimes.com/seattle-news/educ...</td>\n",
       "    </tr>\n",
       "    <tr>\n",
       "      <th>430</th>\n",
       "      <td>2020-07-08</td>\n",
       "      <td>https://techcommunity.microsoft.com/t5/microso...</td>\n",
       "    </tr>\n",
       "    <tr>\n",
       "      <th>442</th>\n",
       "      <td>2020-07-01</td>\n",
       "      <td>https://blog.zoom.us/ceo-report-90-days-done-w...</td>\n",
       "    </tr>\n",
       "    <tr>\n",
       "      <th>443</th>\n",
       "      <td>2020-06-30</td>\n",
       "      <td>https://blog.discord.com/your-place-to-talk-a7...</td>\n",
       "    </tr>\n",
       "    <tr>\n",
       "      <th>471</th>\n",
       "      <td>2020-06-04</td>\n",
       "      <td>https://www.theinformation.com/articles/zoom-i...</td>\n",
       "    </tr>\n",
       "    <tr>\n",
       "      <th>536</th>\n",
       "      <td>2020-05-04</td>\n",
       "      <td>https://www.theinformation.com/articles/google...</td>\n",
       "    </tr>\n",
       "    <tr>\n",
       "      <th>544</th>\n",
       "      <td>2020-04-30</td>\n",
       "      <td>https://www.theverge.com/2020/4/30/21242421/zo...</td>\n",
       "    </tr>\n",
       "    <tr>\n",
       "      <th>546</th>\n",
       "      <td>2020-04-29</td>\n",
       "      <td>-NY Post https://nypost.com/2020/04/28/zooms-s...</td>\n",
       "    </tr>\n",
       "    <tr>\n",
       "      <th>594</th>\n",
       "      <td>2020-04-01</td>\n",
       "      <td>https://www.reuters.com/article/us-health-coro...</td>\n",
       "    </tr>\n",
       "  </tbody>\n",
       "</table>\n",
       "</div>"
      ],
      "text/plain": [
       "          date                                      news_headline\n",
       "123 2020-11-13  https://baltimore.cbslocal.com/2020/11/13/covi...\n",
       "161 2020-10-15  https://9to5google.com/2020/10/15/hangouts-fre...\n",
       "174 2020-10-14  https://investors.zoom.us/static-files/cc304d8...\n",
       "212 2020-10-06  https://about.fb.com/news/2020/10/bringing-net...\n",
       "276 2020-09-09  https://citronresearch.com/wp-content/uploads/...\n",
       "372 2020-08-24  https://www.wftv.com/news/education/florida-ju...\n",
       "414 2020-07-23  https://www.cnbc.com/2020/07/23/cdc-guidelines...\n",
       "417 2020-07-22  https://www.seattletimes.com/seattle-news/educ...\n",
       "430 2020-07-08  https://techcommunity.microsoft.com/t5/microso...\n",
       "442 2020-07-01  https://blog.zoom.us/ceo-report-90-days-done-w...\n",
       "443 2020-06-30  https://blog.discord.com/your-place-to-talk-a7...\n",
       "471 2020-06-04  https://www.theinformation.com/articles/zoom-i...\n",
       "536 2020-05-04  https://www.theinformation.com/articles/google...\n",
       "544 2020-04-30  https://www.theverge.com/2020/4/30/21242421/zo...\n",
       "546 2020-04-29  -NY Post https://nypost.com/2020/04/28/zooms-s...\n",
       "594 2020-04-01  https://www.reuters.com/article/us-health-coro..."
      ]
     },
     "metadata": {},
     "output_type": "display_data"
    }
   ],
   "source": [
    "# check for rows with links\n",
    "# create a boolean mask for linked rows\n",
    "mask = df['news_headline'].apply(lambda x: isinstance(x, str) and 'http' in x)\n",
    "\n",
    "# display the rows that are empty\n",
    "if mask.any():\n",
    "    print('The following rows have links:')\n",
    "    display(df[mask])\n",
    "else:\n",
    "    print('There are no rows with links.')"
   ]
  },
  {
   "cell_type": "code",
   "execution_count": 142,
   "metadata": {},
   "outputs": [],
   "source": [
    "# remove them\n",
    "df = df[df['news_headline'].apply(lambda x: isinstance(x, str) and 'http' not in x)]"
   ]
  },
  {
   "cell_type": "code",
   "execution_count": 143,
   "metadata": {},
   "outputs": [
    {
     "name": "stdout",
     "output_type": "stream",
     "text": [
      "There are no rows with link.\n"
     ]
    }
   ],
   "source": [
    "# check for rows with links\n",
    "# create a boolean mask for linked rows\n",
    "mask = df['news_headline'].apply(lambda x: isinstance(x, str) and 'http' in x)\n",
    "\n",
    "# display the rows that are empty\n",
    "if mask.any():\n",
    "    print('The following rows have links:')\n",
    "    display(df[mask])\n",
    "else:\n",
    "    print('There are no rows with link.')"
   ]
  },
  {
   "attachments": {},
   "cell_type": "markdown",
   "metadata": {},
   "source": [
    "# Remove rows with '...'"
   ]
  },
  {
   "cell_type": "code",
   "execution_count": 144,
   "metadata": {},
   "outputs": [
    {
     "name": "stdout",
     "output_type": "stream",
     "text": [
      "The following rows have '...' in the text:\n"
     ]
    },
    {
     "data": {
      "text/html": [
       "<div>\n",
       "<style scoped>\n",
       "    .dataframe tbody tr th:only-of-type {\n",
       "        vertical-align: middle;\n",
       "    }\n",
       "\n",
       "    .dataframe tbody tr th {\n",
       "        vertical-align: top;\n",
       "    }\n",
       "\n",
       "    .dataframe thead th {\n",
       "        text-align: right;\n",
       "    }\n",
       "</style>\n",
       "<table border=\"1\" class=\"dataframe\">\n",
       "  <thead>\n",
       "    <tr style=\"text-align: right;\">\n",
       "      <th></th>\n",
       "      <th>date</th>\n",
       "      <th>news_headline</th>\n",
       "    </tr>\n",
       "  </thead>\n",
       "  <tbody>\n",
       "    <tr>\n",
       "      <th>47</th>\n",
       "      <td>2020-12-09</td>\n",
       "      <td>Things could get &amp;#39;interesting&amp;#39; if some...</td>\n",
       "    </tr>\n",
       "    <tr>\n",
       "      <th>65</th>\n",
       "      <td>2020-12-01</td>\n",
       "      <td>Avoid the long side until the dust settles....ZM</td>\n",
       "    </tr>\n",
       "    <tr>\n",
       "      <th>95</th>\n",
       "      <td>2020-11-30</td>\n",
       "      <td>Remember, if you understand markets, this has ...</td>\n",
       "    </tr>\n",
       "    <tr>\n",
       "      <th>105</th>\n",
       "      <td>2020-11-24</td>\n",
       "      <td>Let's decide if investors should consider buyi...</td>\n",
       "    </tr>\n",
       "    <tr>\n",
       "      <th>142</th>\n",
       "      <td>2020-10-21</td>\n",
       "      <td>An extended stock with slowing momentum is not...</td>\n",
       "    </tr>\n",
       "    <tr>\n",
       "      <th>260</th>\n",
       "      <td>2020-09-17</td>\n",
       "      <td>ZM could resume its advance after some further...</td>\n",
       "    </tr>\n",
       "    <tr>\n",
       "      <th>274</th>\n",
       "      <td>2020-09-09</td>\n",
       "      <td>Rev Shark is Signing In to Zoom Video Stock Ag...</td>\n",
       "    </tr>\n",
       "    <tr>\n",
       "      <th>366</th>\n",
       "      <td>2020-08-26</td>\n",
       "      <td>Here are three tech stocks with strong growth ...</td>\n",
       "    </tr>\n",
       "  </tbody>\n",
       "</table>\n",
       "</div>"
      ],
      "text/plain": [
       "          date                                      news_headline\n",
       "47  2020-12-09  Things could get &#39;interesting&#39; if some...\n",
       "65  2020-12-01   Avoid the long side until the dust settles....ZM\n",
       "95  2020-11-30  Remember, if you understand markets, this has ...\n",
       "105 2020-11-24  Let's decide if investors should consider buyi...\n",
       "142 2020-10-21  An extended stock with slowing momentum is not...\n",
       "260 2020-09-17  ZM could resume its advance after some further...\n",
       "274 2020-09-09  Rev Shark is Signing In to Zoom Video Stock Ag...\n",
       "366 2020-08-26  Here are three tech stocks with strong growth ..."
      ]
     },
     "metadata": {},
     "output_type": "display_data"
    }
   ],
   "source": [
    "# check for rows with '...'\n",
    "# create a boolean mask for the rows\n",
    "mask = df['news_headline'].apply(lambda x: isinstance(x, str) and '...' in x)\n",
    "\n",
    "# display the rows that are empty\n",
    "if mask.any():\n",
    "    print(\"The following rows have '...' in the text:\")\n",
    "    display(df[mask])\n",
    "else:\n",
    "    print(\"There are no rows with '...' in the text\")"
   ]
  },
  {
   "cell_type": "code",
   "execution_count": 145,
   "metadata": {},
   "outputs": [],
   "source": [
    "# remove them\n",
    "df = df[df['news_headline'].apply(lambda x: isinstance(x, str) and '...' not in x)]"
   ]
  },
  {
   "cell_type": "code",
   "execution_count": 146,
   "metadata": {},
   "outputs": [
    {
     "name": "stdout",
     "output_type": "stream",
     "text": [
      "There are no rows with '...' in the text\n"
     ]
    }
   ],
   "source": [
    "# check for rows with '...'\n",
    "# create a boolean mask for the rows\n",
    "mask = df['news_headline'].apply(lambda x: isinstance(x, str) and '...' in x)\n",
    "\n",
    "# display the rows that are empty\n",
    "if mask.any():\n",
    "    print(\"The following rows have '...' in the text:\")\n",
    "    display(df[mask])\n",
    "else:\n",
    "    print(\"There are no rows with '...' in the text\")"
   ]
  },
  {
   "attachments": {},
   "cell_type": "markdown",
   "metadata": {},
   "source": [
    "## Remove headlines with less than 4 words"
   ]
  },
  {
   "cell_type": "code",
   "execution_count": 147,
   "metadata": {},
   "outputs": [
    {
     "name": "stdout",
     "output_type": "stream",
     "text": [
      "The following rows have 4 words or less in the News Headline:\n"
     ]
    },
    {
     "data": {
      "text/html": [
       "<div>\n",
       "<style scoped>\n",
       "    .dataframe tbody tr th:only-of-type {\n",
       "        vertical-align: middle;\n",
       "    }\n",
       "\n",
       "    .dataframe tbody tr th {\n",
       "        vertical-align: top;\n",
       "    }\n",
       "\n",
       "    .dataframe thead th {\n",
       "        text-align: right;\n",
       "    }\n",
       "</style>\n",
       "<table border=\"1\" class=\"dataframe\">\n",
       "  <thead>\n",
       "    <tr style=\"text-align: right;\">\n",
       "      <th></th>\n",
       "      <th>date</th>\n",
       "      <th>news_headline</th>\n",
       "    </tr>\n",
       "  </thead>\n",
       "  <tbody>\n",
       "    <tr>\n",
       "      <th>29</th>\n",
       "      <td>2020-12-18</td>\n",
       "      <td>-Reuters</td>\n",
       "    </tr>\n",
       "    <tr>\n",
       "      <th>60</th>\n",
       "      <td>2020-12-02</td>\n",
       "      <td>Is Zoom's Rally Stalling?</td>\n",
       "    </tr>\n",
       "    <tr>\n",
       "      <th>97</th>\n",
       "      <td>2020-11-30</td>\n",
       "      <td>By Geoffrey Smith</td>\n",
       "    </tr>\n",
       "    <tr>\n",
       "      <th>164</th>\n",
       "      <td>2020-10-15</td>\n",
       "      <td>By Christiana Sciaudone</td>\n",
       "    </tr>\n",
       "    <tr>\n",
       "      <th>171</th>\n",
       "      <td>2020-10-14</td>\n",
       "      <td>-Reuters</td>\n",
       "    </tr>\n",
       "    <tr>\n",
       "      <th>172</th>\n",
       "      <td>2020-10-14</td>\n",
       "      <td>-Reuters</td>\n",
       "    </tr>\n",
       "    <tr>\n",
       "      <th>175</th>\n",
       "      <td>2020-10-14</td>\n",
       "      <td>-Reuters</td>\n",
       "    </tr>\n",
       "    <tr>\n",
       "      <th>214</th>\n",
       "      <td>2020-10-06</td>\n",
       "      <td>-Bloomberg</td>\n",
       "    </tr>\n",
       "    <tr>\n",
       "      <th>309</th>\n",
       "      <td>2020-09-03</td>\n",
       "      <td>By Christiana Sciaudone</td>\n",
       "    </tr>\n",
       "    <tr>\n",
       "      <th>374</th>\n",
       "      <td>2020-08-24</td>\n",
       "      <td>-Reuters</td>\n",
       "    </tr>\n",
       "    <tr>\n",
       "      <th>407</th>\n",
       "      <td>2020-08-03</td>\n",
       "      <td>-Bloomberg</td>\n",
       "    </tr>\n",
       "    <tr>\n",
       "      <th>410</th>\n",
       "      <td>2020-07-30</td>\n",
       "      <td>-Reuters</td>\n",
       "    </tr>\n",
       "    <tr>\n",
       "      <th>459</th>\n",
       "      <td>2020-06-17</td>\n",
       "      <td>-Reuters</td>\n",
       "    </tr>\n",
       "    <tr>\n",
       "      <th>487</th>\n",
       "      <td>2020-06-02</td>\n",
       "      <td>Zoom Surges on Stay-At-Home</td>\n",
       "    </tr>\n",
       "    <tr>\n",
       "      <th>489</th>\n",
       "      <td>2020-06-02</td>\n",
       "      <td>-Reuters</td>\n",
       "    </tr>\n",
       "    <tr>\n",
       "      <th>490</th>\n",
       "      <td>2020-06-02</td>\n",
       "      <td>-Reuters</td>\n",
       "    </tr>\n",
       "    <tr>\n",
       "      <th>492</th>\n",
       "      <td>2020-06-02</td>\n",
       "      <td>-Reuters</td>\n",
       "    </tr>\n",
       "    <tr>\n",
       "      <th>502</th>\n",
       "      <td>2020-06-02</td>\n",
       "      <td>Pre-open movers</td>\n",
       "    </tr>\n",
       "    <tr>\n",
       "      <th>523</th>\n",
       "      <td>2020-05-15</td>\n",
       "      <td>Upgrades</td>\n",
       "    </tr>\n",
       "    <tr>\n",
       "      <th>531</th>\n",
       "      <td>2020-05-07</td>\n",
       "      <td>-Reuters</td>\n",
       "    </tr>\n",
       "    <tr>\n",
       "      <th>532</th>\n",
       "      <td>2020-05-07</td>\n",
       "      <td>-Reuters</td>\n",
       "    </tr>\n",
       "    <tr>\n",
       "      <th>563</th>\n",
       "      <td>2020-04-16</td>\n",
       "      <td>Upgrades</td>\n",
       "    </tr>\n",
       "    <tr>\n",
       "      <th>566</th>\n",
       "      <td>2020-04-14</td>\n",
       "      <td>Upgrades</td>\n",
       "    </tr>\n",
       "    <tr>\n",
       "      <th>573</th>\n",
       "      <td>2020-04-08</td>\n",
       "      <td>Zoom banned at Google</td>\n",
       "    </tr>\n",
       "    <tr>\n",
       "      <th>579</th>\n",
       "      <td>2020-04-06</td>\n",
       "      <td>Upgrades</td>\n",
       "    </tr>\n",
       "    <tr>\n",
       "      <th>583</th>\n",
       "      <td>2020-04-06</td>\n",
       "      <td>-Bloomberg</td>\n",
       "    </tr>\n",
       "    <tr>\n",
       "      <th>593</th>\n",
       "      <td>2020-04-01</td>\n",
       "      <td>Upgrades</td>\n",
       "    </tr>\n",
       "    <tr>\n",
       "      <th>614</th>\n",
       "      <td>2020-03-05</td>\n",
       "      <td>Upgrades</td>\n",
       "    </tr>\n",
       "  </tbody>\n",
       "</table>\n",
       "</div>"
      ],
      "text/plain": [
       "          date                news_headline\n",
       "29  2020-12-18                     -Reuters\n",
       "60  2020-12-02    Is Zoom's Rally Stalling?\n",
       "97  2020-11-30            By Geoffrey Smith\n",
       "164 2020-10-15      By Christiana Sciaudone\n",
       "171 2020-10-14                     -Reuters\n",
       "172 2020-10-14                     -Reuters\n",
       "175 2020-10-14                     -Reuters\n",
       "214 2020-10-06                   -Bloomberg\n",
       "309 2020-09-03      By Christiana Sciaudone\n",
       "374 2020-08-24                     -Reuters\n",
       "407 2020-08-03                   -Bloomberg\n",
       "410 2020-07-30                     -Reuters\n",
       "459 2020-06-17                     -Reuters\n",
       "487 2020-06-02  Zoom Surges on Stay-At-Home\n",
       "489 2020-06-02                     -Reuters\n",
       "490 2020-06-02                     -Reuters\n",
       "492 2020-06-02                     -Reuters\n",
       "502 2020-06-02              Pre-open movers\n",
       "523 2020-05-15                     Upgrades\n",
       "531 2020-05-07                     -Reuters\n",
       "532 2020-05-07                     -Reuters\n",
       "563 2020-04-16                     Upgrades\n",
       "566 2020-04-14                     Upgrades\n",
       "573 2020-04-08        Zoom banned at Google\n",
       "579 2020-04-06                     Upgrades\n",
       "583 2020-04-06                   -Bloomberg\n",
       "593 2020-04-01                     Upgrades\n",
       "614 2020-03-05                     Upgrades"
      ]
     },
     "metadata": {},
     "output_type": "display_data"
    }
   ],
   "source": [
    "# check for rows with 1 or 2 words in the headlines\n",
    "# display rows with 4 words or less\n",
    "mask = df['news_headline'].apply(lambda x: isinstance(x, str) and len(x.split()) <= 4)\n",
    "if mask.any():\n",
    "    print('The following rows have 4 words or less in the News Headline:')\n",
    "    display(df[mask])\n",
    "else:\n",
    "    print('No rows have 4 words or less in the News Headline.')"
   ]
  },
  {
   "cell_type": "code",
   "execution_count": 148,
   "metadata": {},
   "outputs": [],
   "source": [
    "# remove them\n",
    "df = df[df['news_headline'].apply(lambda x: isinstance(x, str) and len(x.split()) > 4)]"
   ]
  },
  {
   "cell_type": "code",
   "execution_count": 149,
   "metadata": {},
   "outputs": [
    {
     "name": "stdout",
     "output_type": "stream",
     "text": [
      "No rows have 4 words or less in the News Headline.\n"
     ]
    }
   ],
   "source": [
    "# check for rows with 1 or 2 words in the headlines\n",
    "# display rows with 4 words or less\n",
    "mask = df['news_headline'].apply(lambda x: isinstance(x, str) and len(x.split()) <= 3)\n",
    "if mask.any():\n",
    "    print('The following rows have 4 words or less in the News Headline:')\n",
    "    display(df[mask])\n",
    "else:\n",
    "    print('No rows have 4 words or less in the News Headline.')"
   ]
  },
  {
   "attachments": {},
   "cell_type": "markdown",
   "metadata": {},
   "source": [
    "# Save cleaned dataframe"
   ]
  },
  {
   "cell_type": "code",
   "execution_count": 150,
   "metadata": {},
   "outputs": [],
   "source": [
    "# Save the DataFrame as a CSV file\n",
    "df.to_csv(\"2020_webull_zoom_stock_news.csv\", index=False)"
   ]
  },
  {
   "cell_type": "code",
   "execution_count": null,
   "metadata": {},
   "outputs": [],
   "source": []
  }
 ],
 "metadata": {
  "kernelspec": {
   "display_name": "idlenv",
   "language": "python",
   "name": "python3"
  },
  "language_info": {
   "codemirror_mode": {
    "name": "ipython",
    "version": 3
   },
   "file_extension": ".py",
   "mimetype": "text/x-python",
   "name": "python",
   "nbconvert_exporter": "python",
   "pygments_lexer": "ipython3",
   "version": "3.8.8"
  },
  "orig_nbformat": 4,
  "vscode": {
   "interpreter": {
    "hash": "bb0dab884adde1e2026460bc948d2e1e6e2337a5a2ce1fe906357655ec0a50c7"
   }
  }
 },
 "nbformat": 4,
 "nbformat_minor": 2
}
